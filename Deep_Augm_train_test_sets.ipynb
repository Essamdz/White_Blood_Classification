{
 "cells": [
  {
   "cell_type": "code",
   "execution_count": 1,
   "metadata": {
    "scrolled": true
   },
   "outputs": [],
   "source": [
    "import cv2\n",
    "import numpy as np\n",
    "import matplotlib.pyplot as plt\n",
    "\n",
    "from AI.Features.Segmenting import deep_segment\n",
    "#from AI.Features.SegmentingV2 import deep_segment\n",
    "#from AI.Features.SegmentingV8 import deep_segment\n",
    "\n",
    "from AI.Features.Segmenting import restore_mask\n",
    "#from AI.Features.SegmentingV8 import restore_mask\n",
    "\n",
    "from skimage import measure\n",
    "import glob\n",
    "import pandas as pd \n",
    "\n",
    "from sklearn.decomposition import PCA\n",
    "from sklearn.preprocessing import StandardScaler\n",
    "from sklearn.discriminant_analysis import LinearDiscriminantAnalysis\n",
    "\n",
    "from sklearn import tree\n",
    "from sklearn.neighbors import KNeighborsClassifier\n",
    "from sklearn.metrics import accuracy_score\n",
    "from sklearn.model_selection import KFold\n",
    "from sklearn.model_selection import RepeatedKFold\n",
    "from sklearn import metrics\n",
    "from sklearn.metrics import accuracy_score,f1_score\n",
    "from sklearn.neural_network import MLPClassifier\n",
    "from sklearn.neighbors import KNeighborsClassifier\n",
    "from sklearn.svm import SVC\n",
    "from sklearn.gaussian_process import GaussianProcessClassifier\n",
    "from sklearn.gaussian_process.kernels import RBF\n",
    "from sklearn.tree import DecisionTreeClassifier\n",
    "from sklearn.ensemble import RandomForestClassifier, AdaBoostClassifier\n",
    "from sklearn.naive_bayes import GaussianNB\n",
    "from sklearn.discriminant_analysis import QuadraticDiscriminantAnalysis\n",
    "\n",
    "from skimage import feature\n",
    "import os"
   ]
  },
  {
   "cell_type": "code",
   "execution_count": 2,
   "metadata": {},
   "outputs": [],
   "source": [
    "## Augmentation Function\n",
    "\n",
    "from numpy import expand_dims\n",
    "from keras.preprocessing.image import load_img\n",
    "from keras.preprocessing.image import img_to_array\n",
    "from keras.preprocessing.image import ImageDataGenerator\n",
    "from matplotlib import pyplot\n",
    "def augm(lst, nm=5):\n",
    "    # prepare iterator\n",
    "    ls_gen=[]\n",
    "    for arr in lst:\n",
    "\n",
    "        data = arr\n",
    "        # expand dimension to one sample\n",
    "        samples = expand_dims(data, 0)\n",
    "        # create image data augmentation generator\n",
    "        datagen = ImageDataGenerator(zoom_range=[0.5,1.0],\n",
    "                                     brightness_range=[0.8,1],\n",
    "                                     #rotation_range=50,\n",
    "                                     width_shift_range=[0,.1],\n",
    "                                     height_shift_range=[0,.1],\n",
    "                                    #vertical_flip =True,\n",
    "                                    #horizontal_flip=True\n",
    "                                    ) \n",
    "        it = datagen.flow(samples, batch_size=1)\n",
    "        # generate samples and plot\n",
    "\n",
    "        for i in range(nm):\n",
    "            # define subplot\n",
    "            #pyplot.subplot(330 + 1 + i)\n",
    "            # generate batch of images\n",
    "            batch = it.next()\n",
    "            # convert to unsigned integers for viewing\n",
    "            image = batch[0].astype('uint8')\n",
    "            ls_gen.append(image)\n",
    "    return lst+ls_gen"
   ]
  },
  {
   "cell_type": "code",
   "execution_count": 3,
   "metadata": {},
   "outputs": [
    {
     "name": "stdout",
     "output_type": "stream",
     "text": [
      "lymph= 5725\n",
      "neut= 5860\n",
      "MONO= 409\n",
      "BASO= 85\n",
      "EOSI= 596\n",
      "[5725, 5860, 409, 85, 596]\n",
      "12675\n"
     ]
    },
    {
     "data": {
      "image/png": "[encoded data removed]",
      "text/plain": [
       "<Figure size 432x288 with 1 Axes>"
      ]
     },
     "metadata": {
      "needs_background": "light"
     },
     "output_type": "display_data"
    },
    {
     "data": {
      "image/png": "[encoded data removed]",
      "text/plain": [
       "<Figure size 504x504 with 1 Axes>"
      ]
     },
     "metadata": {},
     "output_type": "display_data"
    }
   ],
   "source": [
    "path1='./samples/Experiment/Training/*/*/'    \n",
    "lymph = [cv2.imread(f)[:,:,::-1] for f in glob.glob(path1+'Lymphocyte/*.png') if os.path.getsize(f)>200]\n",
    "neut =  [cv2.imread(f)[:,:,::-1] for f in glob.glob(path1+'Neutrophil/*.png') if os.path.getsize(f)>200]\n",
    "BASO =  [cv2.imread(f)[:,:,::-1] for f in glob.glob(path1+'Basophil/*.png') if os.path.getsize(f)>200]\n",
    "EOSI =  [cv2.imread(f)[:,:,::-1] for f in glob.glob(path1+'Eosinophil/*.png') if os.path.getsize(f)>200]\n",
    "MONO =  [cv2.imread(f)[:,:,::-1] for f in glob.glob(path1+'Monocyte/*.png')if os.path.getsize(f)>200]\n",
    "\n",
    "#MONO=augm(MONO, nm=3)\n",
    "\n",
    "ln=[len(lymph),len(neut),len(MONO),len(BASO),len(EOSI)]\n",
    "print('lymph=',len(lymph))\n",
    "print('neut=',len(neut))\n",
    "print('MONO=',len(MONO))\n",
    "print('BASO=',len(BASO))\n",
    "print('EOSI=',len(EOSI))\n",
    "\n",
    "print(ln)\n",
    "print(sum(ln))\n",
    "ls5=len(lymph)*[0] + len(neut)*[1]+len(MONO)*[2]+len(BASO)*[3]+len(EOSI)*[4]\n",
    "p=plt.hist(ls5,10)\n",
    "plt.show()\n",
    "\n",
    "y = np.array(ln)\n",
    "mylabels =[\"lymph\",\"neut\",\"MONO\",\"BASO\",\"EOSI\"] \n",
    "plt.figure(figsize=(7, 7))\n",
    "plt.pie(y, labels = mylabels, startangle = 10)\n",
    "plt.legend()\n",
    "plt.show()\n"
   ]
  },
  {
   "cell_type": "code",
   "execution_count": 4,
   "metadata": {
    "scrolled": true
   },
   "outputs": [
    {
     "data": {
      "text/plain": [
       "array([0.73417722, 1.3845166 , 0.78876812, 1.31168593, 0.40650995,\n",
       "       0.58429646, 0.41956522, 0.54191891, 0.82846997, 0.77692356,\n",
       "       0.8248188 , 0.79351835, 0.39057531, 0.37032605, 0.38929124,\n",
       "       0.37482908, 0.97457692, 0.95259229, 0.97277209, 0.95507075,\n",
       "       0.15254907, 0.13714139, 0.15154767, 0.14049684])"
      ]
     },
     "execution_count": 4,
     "metadata": {},
     "output_type": "execute_result"
    }
   ],
   "source": [
    "import numpy as np\n",
    "from skimage.feature import greycomatrix, greycoprops\n",
    "from skimage import io, color, img_as_ubyte\n",
    "def GLCM(c):\n",
    "    img =c# io.imread('ff.jpg')\n",
    "\n",
    "    gray = color.rgb2gray(img)\n",
    "    image = img_as_ubyte(gray)\n",
    "    #io.imshow(image)\n",
    "\n",
    "    bins = np.array([0, 16, 32, 48, 64, 80, 96, 112, 128, 144, 160, 176, 192, 208, 224, 240, 255]) #16-bit\n",
    "    inds = np.digitize(image, bins)\n",
    "\n",
    "    max_value = inds.max()+1\n",
    "    matrix_coocurrence = greycomatrix(inds, [1], [0, np.pi/4, np.pi/2, 3*np.pi/4], levels=max_value, normed=False, symmetric=False)\n",
    "\n",
    "    # GLCM properties\n",
    "    def contrast_feature(matrix_coocurrence):\n",
    "        contrast = greycoprops(matrix_coocurrence, 'contrast')\n",
    "        return \"Contrast = \", contrast\n",
    "\n",
    "    def dissimilarity_feature(matrix_coocurrence):\n",
    "        dissimilarity = greycoprops(matrix_coocurrence, 'dissimilarity')    \n",
    "        return \"Dissimilarity = \", dissimilarity\n",
    "\n",
    "    def homogeneity_feature(matrix_coocurrence):\n",
    "        homogeneity = greycoprops(matrix_coocurrence, 'homogeneity')\n",
    "        return \"Homogeneity = \", homogeneity\n",
    "\n",
    "    def energy_feature(matrix_coocurrence):\n",
    "        energy = greycoprops(matrix_coocurrence, 'energy')\n",
    "        return \"Energy = \", energy\n",
    "\n",
    "    def correlation_feature(matrix_coocurrence):\n",
    "        correlation = greycoprops(matrix_coocurrence, 'correlation')\n",
    "        return \"Correlation = \", correlation\n",
    "   \n",
    "    def ASM_feature(matrix_coocurrence):\n",
    "        ASM = greycoprops(matrix_coocurrence, 'ASM')\n",
    "        return \"ASM = \", ASM\n",
    "\n",
    "    \n",
    "    f1=contrast_feature(matrix_coocurrence)[1][0].tolist()\n",
    "    f2=dissimilarity_feature(matrix_coocurrence)[1][0].tolist()\n",
    "    f3=homogeneity_feature(matrix_coocurrence)[1][0].tolist()\n",
    "    f4=energy_feature(matrix_coocurrence)[1][0].tolist()\n",
    "    f5=correlation_feature(matrix_coocurrence)[1][0].tolist()\n",
    "    f6=ASM_feature(matrix_coocurrence)[1][0].tolist()\n",
    "    \n",
    "    \n",
    "    \"\"\"\n",
    "    print(contrast_feature(matrix_coocurrence))\n",
    "    print(dissimilarity_feature(matrix_coocurrence))\n",
    "    print(homogeneity_feature(matrix_coocurrence))\n",
    "    print(energy_feature(matrix_coocurrence))\n",
    "    print(correlation_feature(matrix_coocurrence))\n",
    "    print(ASM_feature(matrix_coocurrence))\n",
    "    ent=measure.shannon_entropy( cv2.cvtColor(lymph[30], cv2.COLOR_BGR2GRAY) )\n",
    "    print(ent)\n",
    "\n",
    "    from skimage.morphology import disk, ball\n",
    "    from skimage.filters import rank\n",
    "    im2=rank.entropy(gray,disk(3)) \n",
    "    plt.imshow(im2,cmap='gray')\n",
    "    plt.show()\n",
    "    \"\"\"\n",
    "    return  np.array(f1+f2+f3+f4+f5+f6)\n",
    "    \n",
    "GLCM(neut[0])"
   ]
  },
  {
   "cell_type": "code",
   "execution_count": 6,
   "metadata": {},
   "outputs": [
    {
     "data": {
      "text/plain": [
       "array([-177, -355, -534, -711, -178, -355, -531, -707, -176, -351, -526,\n",
       "       -700, -178, -357, -534, -711, -177, -353, -529, -704, -175, -350,\n",
       "       -524, -697, -179, -356, -533, -176, -352, -527, -175, -349, -522,\n",
       "       -177, -354, -176, -351, -174, -347, -177, -175, -173])"
      ]
     },
     "execution_count": 6,
     "metadata": {},
     "output_type": "execute_result"
    }
   ],
   "source": [
    "import numpy as np\n",
    "from skimage.transform import integral_image\n",
    "from skimage.feature import haar_like_feature\n",
    "img = cv2.cvtColor(lymph[4], cv2.COLOR_BGR2GRAY)  \n",
    "img_ii = integral_image(img)\n",
    "feature = haar_like_feature(img_ii, 0, 0, 5, 5, 'type-3-x')\n",
    "feature"
   ]
  },
  {
   "cell_type": "code",
   "execution_count": 7,
   "metadata": {},
   "outputs": [
    {
     "name": "stderr",
     "output_type": "stream",
     "text": [
      "C:\\Users\\DELL\\anaconda3\\lib\\site-packages\\skimage\\feature\\corner.py:397: RuntimeWarning: divide by zero encountered in true_divide\n",
      "  return (2.0 / np.pi) * np.arctan((l2 + l1) / (l2 - l1))\n",
      "C:\\Users\\DELL\\anaconda3\\lib\\site-packages\\skimage\\feature\\corner.py:397: RuntimeWarning: invalid value encountered in true_divide\n",
      "  return (2.0 / np.pi) * np.arctan((l2 + l1) / (l2 - l1))\n"
     ]
    },
    {
     "data": {
      "text/plain": [
       "array([ 1.,  1.,  1., -4., -6., -2., -2., -3., -4., -4., -3., -1.,  0.,\n",
       "        0., -4., -1.,  2.,  0., -3.,  0.,  2.,  4.,  3.,  6.,  2.,  4.,\n",
       "        3.,  2.,  2.,  2., -1., -3., -3., -2., -1., -1., -4., -1., -2.,\n",
       "       -1., -1., -1., -2., -3., -5., -8.,  1.,  5.,  4.,  2.,  2.,  3.,\n",
       "        3.,  1., -3.,  0.,  1., -2., -3., -5., -5., -4.,  2.,  3.,  3.])"
      ]
     },
     "execution_count": 7,
     "metadata": {},
     "output_type": "execute_result"
    }
   ],
   "source": [
    "from skimage.feature import shape_index\n",
    "image = color.rgb2gray(lymph[4])\n",
    "#image = img_as_ubyte(image)\n",
    "square =image\n",
    "s = shape_index(square, sigma=0.1)\n",
    "np.floor(s*10)[0]"
   ]
  },
  {
   "cell_type": "code",
   "execution_count": 8,
   "metadata": {},
   "outputs": [
    {
     "data": {
      "image/png": "[encoded data removed]",
      "text/plain": [
       "<Figure size 432x288 with 1 Axes>"
      ]
     },
     "metadata": {
      "needs_background": "light"
     },
     "output_type": "display_data"
    }
   ],
   "source": [
    "def get_nuc_and_cyt(segmented):\n",
    "    nuc = (segmented==2).astype('uint8')\n",
    "    cyt = (segmented==1).astype('uint8')\n",
    "    #cyt,nuc=restore_mask(segmented)\n",
    "    return cyt,nuc\n",
    "     \n",
    "def mask_cell(img):\n",
    "    im_mask=deep_segment(img)\n",
    "    #print(im_mask.sum())\n",
    "    #if im_mask.sum()<1000:\n",
    "    #    print(\"No Cell detected\")\n",
    "    #    return img\n",
    "    cyt,nuc= get_nuc_and_cyt(im_mask)\n",
    "    if nuc.sum()!=0:\n",
    "        #reg=measure.regionprops(cyt)\n",
    "        tb=measure.regionprops(cyt)[0]['bbox']\n",
    "    else:\n",
    "        print(\"No cell detected...........\")\n",
    "        tb=(0,0,img.shape[0]-1,img.shape[1]-1)\n",
    "    #img=cv2.blur(img,(3,3))                #++\n",
    "    #img=cv2.medianBlur(img,15)\n",
    "     \n",
    "    im=img.copy()\n",
    "    rows=im_mask.shape[0]\n",
    "    columns=im_mask.shape[1]\n",
    "    for i in range(rows):\n",
    "        for j in range(columns):\n",
    "            if im_mask[i,j]==0:\n",
    "                im[i,j,:]=0\n",
    "    im=im[tb[0]:tb[2],tb[1]:tb[3]]  #to crop it around box\n",
    "    #im=cv2.resize(im,(100,100))\n",
    "    return im\n",
    "\n",
    "img=mask_cell(neut[15])\n",
    "plt.imshow(img)\n",
    "plt.show()"
   ]
  },
  {
   "cell_type": "code",
   "execution_count": 182,
   "metadata": {},
   "outputs": [
    {
     "data": {
      "image/png": "[encoded data removed]",
      "text/plain": [
       "<Figure size 432x288 with 1 Axes>"
      ]
     },
     "metadata": {
      "needs_background": "light"
     },
     "output_type": "display_data"
    }
   ],
   "source": [
    "def mask_cell_nec(img):\n",
    "    im_mask=deep_segment(img)\n",
    "    #print(im_mask.sum())\n",
    "    #if im_mask.sum()<1000:\n",
    "    #    print(\"No Cell detected\")\n",
    "    #    return img\n",
    "    cyt,nuc= get_nuc_and_cyt(im_mask)\n",
    "    if nuc.sum()!=0:\n",
    "        #reg=measure.regionprops(cyt)\n",
    "        tb=measure.regionprops(nuc)[0]['bbox']\n",
    "    else:\n",
    "        print(\"No cell detected...........\")\n",
    "        tb=(0,0,img.shape[0]-1,img.shape[1]-1)\n",
    "    #img=cv2.blur(img,(3,3))                #++\n",
    "    #img=cv2.medianBlur(img,15)\n",
    "     \n",
    "    im=img.copy()\n",
    "    rows=im_mask.shape[0]\n",
    "    columns=im_mask.shape[1]\n",
    "    for i in range(rows):\n",
    "        for j in range(columns):\n",
    "            if im_mask[i,j]==0:\n",
    "                im[i,j,:]=0\n",
    "    im=im[tb[0]:tb[2],tb[1]:tb[3]]  #to crop it around box\n",
    "    #im=cv2.resize(im,(100,100))\n",
    "    return im\n",
    "\n",
    "img=mask_cell_nec(neut[15])\n",
    "plt.imshow(img)\n",
    "plt.show()"
   ]
  },
  {
   "cell_type": "code",
   "execution_count": 9,
   "metadata": {},
   "outputs": [
    {
     "data": {
      "image/png": "[encoded data removed]",
      "text/plain": [
       "<Figure size 432x288 with 1 Axes>"
      ]
     },
     "metadata": {
      "needs_background": "light"
     },
     "output_type": "display_data"
    },
    {
     "data": {
      "image/png": "[encoded data removed]",
      "text/plain": [
       "<Figure size 432x288 with 1 Axes>"
      ]
     },
     "metadata": {
      "needs_background": "light"
     },
     "output_type": "display_data"
    },
    {
     "data": {
      "image/png": "[encoded data removed]",
      "text/plain": [
       "<Figure size 432x288 with 1 Axes>"
      ]
     },
     "metadata": {
      "needs_background": "light"
     },
     "output_type": "display_data"
    }
   ],
   "source": [
    "img3=neut[10]\n",
    "mas=deep_segment(img3)\n",
    "#nuc2, cyt2=restore_mask(mas)\n",
    "cyt2, nuc2=get_nuc_and_cyt(mas)\n",
    "plt.imshow(img3)\n",
    "plt.show()\n",
    "plt.imshow(nuc2)\n",
    "plt.show()\n",
    "plt.imshow(cyt2)\n",
    "plt.show()"
   ]
  },
  {
   "cell_type": "code",
   "execution_count": 10,
   "metadata": {},
   "outputs": [
    {
     "data": {
      "image/png": "[encoded data removed]",
      "text/plain": [
       "<Figure size 576x288 with 2 Axes>"
      ]
     },
     "metadata": {
      "needs_background": "light"
     },
     "output_type": "display_data"
    },
    {
     "data": {
      "text/plain": [
       "128"
      ]
     },
     "execution_count": 10,
     "metadata": {},
     "output_type": "execute_result"
    }
   ],
   "source": [
    "import matplotlib.pyplot as plt\n",
    "\n",
    "from skimage.feature import hog\n",
    "from skimage import data, exposure\n",
    "\n",
    "def HOG_im(c):\n",
    "    image = mask_cell(c)\n",
    "    #plt.imshow(image)\n",
    "    #plt.show()\n",
    "    #image=c\n",
    "    image=cv2.resize(image,(70,70))\n",
    "    image = cv2.cvtColor(image, cv2.COLOR_BGR2GRAY) \n",
    "\n",
    "    fd, hog_image = hog(image, orientations=8, pixels_per_cell=(16, 16),\n",
    "                        cells_per_block=(1, 1), visualize=True,feature_vector=True)\n",
    "\n",
    "    \n",
    "    return fd,hog_image\n",
    "\n",
    "ind=1541\n",
    "image=neut[ind]\n",
    "fd,hog_image=HOG_im(image)\n",
    "\n",
    "#image=mask_cell(image)\n",
    "\n",
    "fig, (ax1, ax2) = plt.subplots(1, 2, figsize=(8, 4), sharex=True, sharey=True)\n",
    "ax1.axis('off')\n",
    "ax1.imshow(image, cmap=plt.cm.gray)\n",
    "ax1.set_title('Input image')\n",
    "\n",
    "# Rescale histogram for better display\n",
    "hog_image_rescaled = exposure.rescale_intensity(hog_image, in_range=(0, 10))\n",
    "ax2.axis('off')\n",
    "ax2.imshow(hog_image_rescaled, cmap=plt.cm.gray)\n",
    "ax2.set_title('Histogram of Oriented Gradients')\n",
    "plt.show()\n",
    "len(fd)\n",
    "len(fd)\n",
    " "
   ]
  },
  {
   "cell_type": "code",
   "execution_count": 11,
   "metadata": {},
   "outputs": [
    {
     "data": {
      "image/png": "[encoded data removed]",
      "text/plain": [
       "<Figure size 432x288 with 1 Axes>"
      ]
     },
     "metadata": {
      "needs_background": "light"
     },
     "output_type": "display_data"
    },
    {
     "ename": "NameError",
     "evalue": "name 'lst1' is not defined",
     "output_type": "error",
     "traceback": [
      "\u001b[1;31m---------------------------------------------------------------------------\u001b[0m",
      "\u001b[1;31mNameError\u001b[0m                                 Traceback (most recent call last)",
      "\u001b[1;32m<ipython-input-11-a996a93e7c39>\u001b[0m in \u001b[0;36m<module>\u001b[1;34m\u001b[0m\n\u001b[0;32m      3\u001b[0m \u001b[0mplt\u001b[0m\u001b[1;33m.\u001b[0m\u001b[0mshow\u001b[0m\u001b[1;33m(\u001b[0m\u001b[1;33m)\u001b[0m\u001b[1;33m\u001b[0m\u001b[1;33m\u001b[0m\u001b[0m\n\u001b[0;32m      4\u001b[0m \u001b[1;33m\u001b[0m\u001b[0m\n\u001b[1;32m----> 5\u001b[1;33m \u001b[0md1\u001b[0m \u001b[1;33m=\u001b[0m \u001b[1;33m[\u001b[0m\u001b[0mdata1\u001b[0m\u001b[1;33m[\u001b[0m\u001b[0mi\u001b[0m\u001b[1;33m]\u001b[0m \u001b[1;32mfor\u001b[0m \u001b[0mi\u001b[0m\u001b[1;33m,\u001b[0m\u001b[0mc\u001b[0m \u001b[1;32min\u001b[0m \u001b[0menumerate\u001b[0m\u001b[1;33m(\u001b[0m\u001b[0mlst1\u001b[0m\u001b[1;33m)\u001b[0m \u001b[1;32mif\u001b[0m \u001b[0mc\u001b[0m\u001b[1;33m==\u001b[0m\u001b[1;36m1\u001b[0m\u001b[1;33m]\u001b[0m \u001b[1;31m#+neut\u001b[0m\u001b[1;33m\u001b[0m\u001b[1;33m\u001b[0m\u001b[0m\n\u001b[0m\u001b[0;32m      6\u001b[0m \u001b[0mplt\u001b[0m\u001b[1;33m.\u001b[0m\u001b[0mimshow\u001b[0m\u001b[1;33m(\u001b[0m\u001b[0md1\u001b[0m\u001b[1;33m[\u001b[0m\u001b[1;36m10\u001b[0m\u001b[1;33m]\u001b[0m\u001b[1;33m)\u001b[0m\u001b[1;33m\u001b[0m\u001b[1;33m\u001b[0m\u001b[0m\n\u001b[0;32m      7\u001b[0m \u001b[0mplt\u001b[0m\u001b[1;33m.\u001b[0m\u001b[0mshow\u001b[0m\u001b[1;33m(\u001b[0m\u001b[1;33m)\u001b[0m\u001b[1;33m\u001b[0m\u001b[1;33m\u001b[0m\u001b[0m\n",
      "\u001b[1;31mNameError\u001b[0m: name 'lst1' is not defined"
     ]
    }
   ],
   "source": [
    "\n",
    "\n",
    "pbc =  [cv2.imread(f)[:,:,::-1] for f in glob.glob('./samples/PBC/NEUT/*.jpg')]\n",
    "plt.imshow(pbc[10])\n",
    "plt.show()\n",
    "\n",
    "d1 = [data1[i] for i,c in enumerate(lst1) if c==1] #+neut\n",
    "plt.imshow(d1[10])\n",
    "plt.show()\n",
    "\n",
    "d2 = [data2[i] for i,c in enumerate(lst2) if c==1] #+neut\n",
    "plt.imshow(d2[20])\n",
    "plt.show()"
   ]
  },
  {
   "cell_type": "markdown",
   "metadata": {},
   "source": [
    "# Extent feature"
   ]
  },
  {
   "cell_type": "code",
   "execution_count": 12,
   "metadata": {},
   "outputs": [],
   "source": [
    "\n",
    "def get_extent(nuc, cyt):\n",
    "    \n",
    "    # We only use the nucleus\n",
    "    extent = measure.regionprops(nuc)[0]['extent']\n",
    "    \n",
    "    return extent\n",
    "\n",
    "def all_together(cell):\n",
    "    segmented = deep_segment(cell)\n",
    "    cyt,nuc = get_nuc_and_cyt(segmented)\n",
    "    extent = get_extent(nuc,cyt)\n",
    "    return extent"
   ]
  },
  {
   "cell_type": "code",
   "execution_count": 13,
   "metadata": {},
   "outputs": [],
   "source": [
    "#'eccentricity', 'solidity', 'extent', 'circularity', 'nuc_cyto_ratio', 'size', 'tortuosity'\n",
    "from skimage import morphology\n",
    "\n",
    "def eccentricity(im_part):\n",
    "    if im_part.sum()!=0:\n",
    "        #reg=measure.regionprops(cyt)\n",
    "        tb=measure.regionprops(im_part)[0]['bbox']\n",
    "    else:\n",
    "        print(\"No cell detected...........\")\n",
    "        tb=(0,0,im_part.shape[0]-1,im_part.shape[1]-1)\n",
    "    \n",
    "    #tb=measure.regionprops(im_part)[0]['bbox']\n",
    "    \n",
    "    xb=abs(tb[1]-tb[3])\n",
    "    xs=abs(tb[0]-tb[2])\n",
    "    if xs>xb:\n",
    "        tm=xb\n",
    "        xb=xs\n",
    "        xs=tm\n",
    "    return np.sqrt(xb**2-xs**2)/xs\n",
    "    \n",
    "def Solidity(im_part):\n",
    "    conv=morphology.convex_hull.convex_hull_image(im_part)  \n",
    "    \"\"\"\n",
    "    print(im_part.sum())\n",
    "    print(conv.sum())\n",
    "    plt.imshow(im_part)\n",
    "    plt.show()\n",
    "    plt.imshow(conv)\n",
    "    plt.show()\n",
    "    \"\"\" \n",
    "    return im_part.sum()/conv.sum()\n",
    "\n",
    "def circularity(im_part):\n",
    "    pr=measure.perimeter(im_part, neighbourhood=8)\n",
    "    return (pr**2)/(4*np.pi*im_part.sum())\n",
    "\n",
    "def Convexity(im_part):\n",
    "    conv=morphology.convex_hull.convex_hull_image(im_part)  \n",
    "    return measure.perimeter(conv)/measure.perimeter(im_part)"
   ]
  },
  {
   "cell_type": "code",
   "execution_count": 14,
   "metadata": {
    "scrolled": true
   },
   "outputs": [
    {
     "name": "stdout",
     "output_type": "stream",
     "text": [
      "0.5532833351724882 0.5604451362476125\n",
      "0.8317107093184979 0.8827067669172932\n",
      "3.322026755306083 2.832332396017907\n",
      "0.7422372006734098 0.7905412807368913\n"
     ]
    }
   ],
   "source": [
    "img=neut[13]\n",
    "segmented = deep_segment(img)\n",
    "cyt,nuc = get_nuc_and_cyt(segmented)\n",
    "print(eccentricity(nuc),eccentricity(nuc+cyt))\n",
    "print(Solidity(nuc),Solidity(nuc+cyt))\n",
    "print(circularity(nuc),circularity(nuc+cyt))\n",
    "print(Convexity(nuc),Convexity(nuc+cyt))"
   ]
  },
  {
   "cell_type": "code",
   "execution_count": 15,
   "metadata": {},
   "outputs": [
    {
     "data": {
      "text/plain": [
       "array([0.92173749, 0.61011876, 0.65181518, 0.76022305, 4.24784621,\n",
       "       3.98583066, 0.77195664, 0.69245105, 0.36761293, 0.28661338,\n",
       "       0.48288509])"
      ]
     },
     "execution_count": 15,
     "metadata": {},
     "output_type": "execute_result"
    }
   ],
   "source": [
    "def shape_features(image):\n",
    "    segmented = deep_segment(image)\n",
    "    cyt,nuc = get_nuc_and_cyt(segmented)\n",
    "    all_cyt=nuc+cyt\n",
    "    n_sum=nuc.sum()\n",
    "    cyt_sum=all_cyt.sum()\n",
    "    lst=[eccentricity(nuc),eccentricity(all_cyt),Solidity(nuc),Solidity(all_cyt),circularity(nuc),\n",
    "         circularity(all_cyt),Convexity(nuc),Convexity(all_cyt)]\n",
    "    lst.append(measure.perimeter(nuc, neighbourhood=8)/n_sum)\n",
    "    lst.append(measure.perimeter(cyt, neighbourhood=8)/cyt_sum)\n",
    "    lst.append(n_sum/cyt_sum)\n",
    "    return np.array(lst)\n",
    "    \n",
    "img=neut[12]    \n",
    "shape_features(img)    "
   ]
  },
  {
   "cell_type": "code",
   "execution_count": 16,
   "metadata": {},
   "outputs": [
    {
     "data": {
      "text/plain": [
       "<matplotlib.image.AxesImage at 0x1c58c354460>"
      ]
     },
     "execution_count": 16,
     "metadata": {},
     "output_type": "execute_result"
    },
    {
     "data": {
      "image/png": "[encoded data removed]",
      "text/plain": [
       "<Figure size 432x288 with 1 Axes>"
      ]
     },
     "metadata": {
      "needs_background": "light"
     },
     "output_type": "display_data"
    }
   ],
   "source": [
    "segmented = deep_segment(neut[10])\n",
    "cyt,nuc = get_nuc_and_cyt(segmented)\n",
    "eccentricity(cyt)\n",
    "cyt.sum()\n",
    "plt.imshow(nuc)\n",
    "contours, hierarchy = cv2.findContours(nuc,cv2.RETR_LIST,cv2.CHAIN_APPROX_NONE)\n",
    "hull = [cv2.convexHull(cnt) for cnt in contours]\n",
    "\n",
    "nn=np.zeros((nuc.shape[0],nuc.shape[0]),dtype=int)\n",
    "for z in contours[0]:\n",
    "    nn[z[0][0],z[0][1]]=1\n",
    "plt.imshow(nn)\n",
    "\n",
    "\n"
   ]
  },
  {
   "cell_type": "code",
   "execution_count": 17,
   "metadata": {},
   "outputs": [
    {
     "data": {
      "image/png": "[encoded data removed]",
      "text/plain": [
       "<Figure size 432x288 with 1 Axes>"
      ]
     },
     "metadata": {
      "needs_background": "light"
     },
     "output_type": "display_data"
    },
    {
     "data": {
      "image/png": "[encoded data removed]",
      "text/plain": [
       "<Figure size 432x288 with 1 Axes>"
      ]
     },
     "metadata": {
      "needs_background": "light"
     },
     "output_type": "display_data"
    },
    {
     "name": "stdout",
     "output_type": "stream",
     "text": [
      "(2251,)\n",
      "(395,)\n",
      "2646\n"
     ]
    },
    {
     "data": {
      "text/plain": [
       "2646"
      ]
     },
     "execution_count": 17,
     "metadata": {},
     "output_type": "execute_result"
    }
   ],
   "source": [
    "segmented = deep_segment(neut[12])\n",
    "cyt, nuc = get_nuc_and_cyt(segmented)\n",
    "#print(all_together(MONO[23]))\n",
    "plt.imshow(cyt)\n",
    "plt.show()\n",
    "plt.imshow(nuc)\n",
    "plt.show()\n",
    "print(nuc[nuc==0].shape)\n",
    "print(nuc[nuc==1].shape)\n",
    "print(nuc[nuc==1].shape[0]+nuc[nuc==0].shape[0])\n",
    "nuc.shape[0]*nuc.shape[1]"
   ]
  },
  {
   "cell_type": "code",
   "execution_count": 18,
   "metadata": {},
   "outputs": [
    {
     "name": "stdout",
     "output_type": "stream",
     "text": [
      "0.4647058823529412\n"
     ]
    },
    {
     "data": {
      "image/png": "[encoded data removed]",
      "text/plain": [
       "<Figure size 432x288 with 1 Axes>"
      ]
     },
     "metadata": {
      "needs_background": "light"
     },
     "output_type": "display_data"
    },
    {
     "name": "stdout",
     "output_type": "stream",
     "text": [
      "0\n",
      "(1, 18, 26, 52)\n"
     ]
    },
    {
     "data": {
      "image/png": "[encoded data removed]",
      "text/plain": [
       "<Figure size 432x288 with 1 Axes>"
      ]
     },
     "metadata": {
      "needs_background": "light"
     },
     "output_type": "display_data"
    },
    {
     "name": "stdout",
     "output_type": "stream",
     "text": [
      "[[False False False ... False False False]\n",
      " [False False False ... False False False]\n",
      " [False False False ... False False False]\n",
      " ...\n",
      " [False False False ... False False False]\n",
      " [False False False ... False False False]\n",
      " [False False False ... False False False]]\n"
     ]
    },
    {
     "data": {
      "image/png": "[encoded data removed]",
      "text/plain": [
       "<Figure size 432x288 with 1 Axes>"
      ]
     },
     "metadata": {
      "needs_background": "light"
     },
     "output_type": "display_data"
    },
    {
     "data": {
      "text/plain": [
       "array([ 0, 15,  5,  3,  2,  2,  3,  7, 14, 10,  3,  3,  2,  2,  3, 10,  6,\n",
       "        3,  4,  2,  2,  3,  3,  5,  7,  8,  0,  0,  0,  0,  0,  0,  0,  0,\n",
       "        0,  0,  0,  0,  0,  0,  0,  0])"
      ]
     },
     "execution_count": 18,
     "metadata": {},
     "output_type": "execute_result"
    },
    {
     "data": {
      "image/png": "[encoded data removed]",
      "text/plain": [
       "<Figure size 432x288 with 1 Axes>"
      ]
     },
     "metadata": {
      "needs_background": "light"
     },
     "output_type": "display_data"
    }
   ],
   "source": [
    "\n",
    "segmented = deep_segment(neut[12])\n",
    "cyt,nuc = get_nuc_and_cyt(segmented)\n",
    "print(all_together(neut[12]))\n",
    "plt.imshow(nuc)\n",
    "plt.show()\n",
    "print(nuc.min())\n",
    "tb=measure.regionprops(nuc)[0]['bbox']\n",
    "print(tb)\n",
    "im2=nuc[tb[0]:tb[2],tb[1]:tb[3]]\n",
    "im2.shape\n",
    "plt.imshow(im2)\n",
    "plt.show()\n",
    "\n",
    "\n",
    "r=nuc.shape[0]\n",
    "c=nuc.shape[1]\n",
    "\n",
    "from skimage import feature\n",
    "edges1 = feature.canny(nuc*255,sigma=2)\n",
    "print(edges1)\n",
    "#edges2=cv2.threshold(edges1, 127, 255, cv2.THRESH_BINARY)[1]\n",
    "plt.imshow(edges1)\n",
    "plt.show()\n",
    "e2=cv2.Laplacian(nuc*255, 2, ksize=3)\n",
    "plt.imshow(e2)\n",
    "edges1.sum(axis=1)"
   ]
  },
  {
   "cell_type": "markdown",
   "metadata": {},
   "source": [
    "# LBP Feature Extraction"
   ]
  },
  {
   "cell_type": "code",
   "execution_count": 19,
   "metadata": {},
   "outputs": [
    {
     "data": {
      "text/plain": [
       "array([0.05333333, 0.06444444, 0.04388889, 0.02333333, 0.01555556,\n",
       "       0.00611111, 0.00944444, 0.01      , 0.00555556, 0.00277778,\n",
       "       0.00055556, 0.00333333, 0.00222222, 0.00277778, 0.00333333,\n",
       "       0.        , 0.00722222, 0.00388889, 0.00388889, 0.00166667,\n",
       "       0.00166667, 0.00555556, 0.00944444, 0.01722222, 0.28388889,\n",
       "       0.41888889])"
      ]
     },
     "execution_count": 19,
     "metadata": {},
     "output_type": "execute_result"
    }
   ],
   "source": [
    "\n",
    "\n",
    " \n",
    "from skimage import feature\n",
    "import numpy as np\n",
    "class LocalBinaryPatterns:  \n",
    "    def __init__(self, numPoints, radius):\n",
    "        # store the number of points and radius\n",
    "        self.numPoints = numPoints\n",
    "        self.radius = radius\n",
    "    def describe(self, image, eps=1e-7):\n",
    "        \n",
    "        # compute the Local Binary Pattern representation\n",
    "        # of the image, and then use the LBP representation\n",
    "        # to build the histogram of patterns\n",
    "        image = cv2.cvtColor(image, cv2.COLOR_BGR2GRAY)\n",
    "        lbp = feature.local_binary_pattern(image, self.numPoints,\n",
    "            self.radius, method=\"uniform\")\n",
    "        (hist, _) = np.histogram(lbp.ravel(),\n",
    "            bins=np.arange(0, self.numPoints + 3),\n",
    "            range=(0, self.numPoints + 2))\n",
    "        # normalize the histogram\n",
    "        hist = hist.astype(\"float\")\n",
    "        hist /= (hist.sum() + eps)\n",
    "        # return the histogram of Local Binary Patterns\n",
    "        return hist\n",
    " \n",
    "\n",
    "points=24  #24\n",
    "\n",
    "obj=LocalBinaryPatterns(points,8)\n",
    "\n",
    "v=obj.describe(mask_cell(neut[7]))\n",
    " \n",
    "v\n",
    "\n"
   ]
  },
  {
   "cell_type": "markdown",
   "metadata": {},
   "source": [
    "#### Sum Of Edges (SOE)"
   ]
  },
  {
   "cell_type": "code",
   "execution_count": 20,
   "metadata": {},
   "outputs": [
    {
     "data": {
      "image/png": "[encoded data removed]",
      "text/plain": [
       "<Figure size 432x288 with 1 Axes>"
      ]
     },
     "metadata": {
      "needs_background": "light"
     },
     "output_type": "display_data"
    },
    {
     "name": "stdout",
     "output_type": "stream",
     "text": [
      "[2 4 4 2 2 1 1 1 1 2 2 2 2 2 2 2 2 4 4 2 2 2 2 2 2 2 2 2 2 2]\n"
     ]
    },
    {
     "data": {
      "image/png": "[encoded data removed]",
      "text/plain": [
       "<Figure size 432x288 with 1 Axes>"
      ]
     },
     "metadata": {
      "needs_background": "light"
     },
     "output_type": "display_data"
    },
    {
     "data": {
      "text/plain": [
       "array([0.  , 0.5 , 0.  , 0.08, 0.  ])"
      ]
     },
     "execution_count": 20,
     "metadata": {},
     "output_type": "execute_result"
    }
   ],
   "source": [
    "def edges1(im):\n",
    "    for i in range(im.shape[0]-1):\n",
    "        for j in range(im.shape[1]-1):\n",
    "            if im[i,j]==0 and im[i,j+1]==1:\n",
    "                im[i,j]=1\n",
    "            elif im[i,j]==1 and im[i,j+1]==0:\n",
    "                im[i,j]=1\n",
    "            else:\n",
    "                im[i,j]=0\n",
    "    return im\n",
    "\n",
    "def count_list(ls):\n",
    "    ls2=[0,0,0,0,0]\n",
    "    for x in ls:\n",
    "        if x==1:\n",
    "            ls2[0]=ls2[0]+1\n",
    "        elif x==2:\n",
    "            ls2[1]=ls2[1]+1\n",
    "        elif x==3:\n",
    "            ls2[2]=ls2[2]+1\n",
    "        elif x==4:\n",
    "            ls2[3]=ls2[3]+1\n",
    "        elif x>4:\n",
    "            ls2[4]=ls2[4]+1\n",
    "    return ls2\n",
    "        \n",
    "def SOE(c):\n",
    "    segmented = deep_segment(c)  \n",
    "    cyt,nuc = get_nuc_and_cyt(segmented)\n",
    "    \n",
    "    if nuc.sum()!=0:\n",
    "        tb=measure.regionprops(nuc)[0]['bbox']\n",
    "    else:\n",
    "        print(\"No cell detected...........\")\n",
    "        tb=(0,0,nuc.shape[0]-1,nuc.shape[1]-1)\n",
    "    \n",
    "    \n",
    "    \n",
    "    #tb=measure.regionprops(nuc)[0]['bbox']\n",
    "    \n",
    "    xv=abs(tb[1]-tb[3])\n",
    "    xh=abs(tb[0]-tb[2])\n",
    "    \n",
    "    im=nuc.copy()\n",
    "    im2=edges1(im)\n",
    "    im=nuc.copy()\n",
    "    im3=edges1(im.T)\n",
    "\n",
    "    v2=im2.sum(axis=1)\n",
    "    v3=im3.sum(axis=1)\n",
    "    im_ls=v2.tolist()+v3.tolist()\n",
    "    #cn=(xh+xv)/2\n",
    "    freq=np.array(count_list(im_ls))\n",
    "    return freq/100  #np.array([freq[3]/freq[1]]) #np.array([ freq[2]/freq[1],freq[3]/freq[1],freq[4]/freq[1] ])    #/100#cn #(len(v2)+len(v3))\n",
    "\n",
    "#### Examples##################\n",
    "ind=60\n",
    "mmg=neut[ind]\n",
    "segmented = deep_segment(mmg)  \n",
    "cyt,nuc  = get_nuc_and_cyt(segmented)\n",
    "plt.imshow(nuc)\n",
    "plt.show()\n",
    "tb=measure.regionprops(nuc)[0]['bbox']\n",
    "\n",
    "imt=edges1(nuc)\n",
    "imt=imt[tb[0]:tb[2],tb[1]:tb[3]] \n",
    "print(imt.sum(axis=1))\n",
    "plt.imshow(imt)\n",
    "plt.show()\n",
    "\n",
    "SOE(mmg)  #np.divide"
   ]
  },
  {
   "cell_type": "markdown",
   "metadata": {},
   "source": [
    "# LBP and Extent"
   ]
  },
  {
   "cell_type": "code",
   "execution_count": 21,
   "metadata": {},
   "outputs": [
    {
     "data": {
      "text/plain": [
       "array([5.56586271e-02, 3.29313544e-02, 1.71614100e-02, 8.81261596e-03,\n",
       "       1.85528757e-03, 4.63821892e-04, 4.63821892e-04, 0.00000000e+00,\n",
       "       0.00000000e+00, 1.39146568e-03, 9.27643785e-04, 2.31910946e-03,\n",
       "       2.31910946e-03, 4.63821892e-03, 6.02968460e-03, 3.24675325e-03,\n",
       "       2.31910946e-03, 4.63821892e-03, 9.27643785e-04, 2.78293135e-03,\n",
       "       1.39146568e-03, 2.31910946e-03, 2.78293135e-03, 1.29870130e-02,\n",
       "       4.95361781e-01, 3.36270872e-01, 7.12631579e-02])"
      ]
     },
     "execution_count": 21,
     "metadata": {},
     "output_type": "execute_result"
    }
   ],
   "source": [
    "obj=LocalBinaryPatterns(points,8)   #(58,4)\n",
    "def LBP_and_extent(c):\n",
    "\n",
    "    ss=obj.describe(mask_cell(c))\n",
    "    ss=ss.tolist()\n",
    "    ss.append(all_together(c)/10)\n",
    "    ss=np.array(ss)\n",
    "    return ss\n",
    "LBP_and_extent(lymph[-4])"
   ]
  },
  {
   "cell_type": "code",
   "execution_count": 22,
   "metadata": {},
   "outputs": [
    {
     "data": {
      "text/plain": [
       "array([0.05333333, 0.06444444, 0.04388889, 0.02333333, 0.01555556,\n",
       "       0.00611111, 0.00944444, 0.01      , 0.00555556, 0.00277778,\n",
       "       0.00055556, 0.00333333, 0.00222222, 0.00277778, 0.00333333,\n",
       "       0.        , 0.00722222, 0.00388889, 0.00388889, 0.00166667,\n",
       "       0.00166667, 0.00555556, 0.00944444, 0.01722222, 0.28388889,\n",
       "       0.41888889, 0.        , 0.41      , 0.        , 0.19      ,\n",
       "       0.01      , 0.05580645])"
      ]
     },
     "execution_count": 22,
     "metadata": {},
     "output_type": "execute_result"
    }
   ],
   "source": [
    "obj=LocalBinaryPatterns(points,8)   #(58,4)\n",
    "def SOE_LBP_and_extent(c):\n",
    "    ss=obj.describe(mask_cell(c))\n",
    "    ss=ss.tolist()\n",
    "    s2=SOE(c)\n",
    "    s2=s2.tolist()\n",
    "    ss=ss+s2\n",
    "    ss.append(all_together(c)/10)\n",
    "    ss=np.array(ss)\n",
    "    return ss\n",
    "SOE_LBP_and_extent(neut[7])"
   ]
  },
  {
   "cell_type": "markdown",
   "metadata": {},
   "source": [
    "### SOE+Extent "
   ]
  },
  {
   "cell_type": "code",
   "execution_count": 23,
   "metadata": {},
   "outputs": [
    {
     "data": {
      "text/plain": [
       "array([0.        , 0.62      , 0.        , 0.        , 0.        ,\n",
       "       0.07450366])"
      ]
     },
     "execution_count": 23,
     "metadata": {},
     "output_type": "execute_result"
    }
   ],
   "source": [
    "obj=LocalBinaryPatterns(points,8)   #(58,4)\n",
    "def SOE_and_extent(c):\n",
    "\n",
    "    ss=SOE(c)\n",
    "    ss=ss.tolist()\n",
    "    ss.append(all_together(c)/10)\n",
    "    ss=np.array(ss)\n",
    "    return ss\n",
    "SOE_and_extent(lymph[4])"
   ]
  },
  {
   "cell_type": "markdown",
   "metadata": {},
   "source": [
    "### Shape Features+ SOE"
   ]
  },
  {
   "cell_type": "code",
   "execution_count": 24,
   "metadata": {},
   "outputs": [
    {
     "data": {
      "text/plain": [
       "array([0.        , 0.63      , 0.        , 0.        , 0.        ,\n",
       "       1.14472704, 0.4900877 , 0.95892351, 0.7605245 , 1.74952893,\n",
       "       1.87662246, 1.        , 1.11338967, 0.18020679, 0.19475619,\n",
       "       0.61433757])"
      ]
     },
     "execution_count": 24,
     "metadata": {},
     "output_type": "execute_result"
    }
   ],
   "source": [
    "\n",
    "def shapef_and_SOE(c):\n",
    "\n",
    "    ss=SOE(c)\n",
    "    ss=ss.tolist()\n",
    "    s2=shape_features(c)\n",
    "    s2=s2.tolist()\n",
    "    ss=ss+s2\n",
    "    ss=np.array(ss)\n",
    "    return ss\n",
    "shapef_and_SOE(lymph[-4])"
   ]
  },
  {
   "cell_type": "markdown",
   "metadata": {},
   "source": [
    "### Shape Features+ SOE+Extent"
   ]
  },
  {
   "cell_type": "code",
   "execution_count": 25,
   "metadata": {},
   "outputs": [
    {
     "data": {
      "text/plain": [
       "array([0.        , 0.63      , 0.        , 0.        , 0.        ,\n",
       "       1.14472704, 0.4900877 , 0.95892351, 0.7605245 , 1.74952893,\n",
       "       1.87662246, 1.        , 1.11338967, 0.18020679, 0.19475619,\n",
       "       0.61433757, 0.07126316])"
      ]
     },
     "execution_count": 25,
     "metadata": {},
     "output_type": "execute_result"
    }
   ],
   "source": [
    "def shapef_and_SOE_extent(c):\n",
    "\n",
    "    ss=SOE(c)\n",
    "    ss=ss.tolist()\n",
    "    s2=shape_features(c)\n",
    "    s2=s2.tolist()\n",
    "    ss=ss+s2\n",
    "    ss.append(all_together(c)/10)\n",
    "    ss=np.array(ss)\n",
    "    return ss\n",
    "shapef_and_SOE_extent(lymph[-4])"
   ]
  },
  {
   "cell_type": "markdown",
   "metadata": {},
   "source": [
    "### Shape Features+ SOE+Extent+LBP"
   ]
  },
  {
   "cell_type": "code",
   "execution_count": 26,
   "metadata": {},
   "outputs": [
    {
     "data": {
      "text/plain": [
       "array([0.00000000e+00, 6.30000000e-01, 0.00000000e+00, 0.00000000e+00,\n",
       "       0.00000000e+00, 1.14472704e+00, 4.90087697e-01, 9.58923513e-01,\n",
       "       7.60524500e-01, 1.74952893e+00, 1.87662246e+00, 1.00000000e+00,\n",
       "       1.11338967e+00, 1.80206795e-01, 1.94756189e-01, 6.14337568e-01,\n",
       "       5.56586271e-02, 3.29313544e-02, 1.71614100e-02, 8.81261596e-03,\n",
       "       1.85528757e-03, 4.63821892e-04, 4.63821892e-04, 0.00000000e+00,\n",
       "       0.00000000e+00, 1.39146568e-03, 9.27643785e-04, 2.31910946e-03,\n",
       "       2.31910946e-03, 4.63821892e-03, 6.02968460e-03, 3.24675325e-03,\n",
       "       2.31910946e-03, 4.63821892e-03, 9.27643785e-04, 2.78293135e-03,\n",
       "       1.39146568e-03, 2.31910946e-03, 2.78293135e-03, 1.29870130e-02,\n",
       "       4.95361781e-01, 3.36270872e-01, 7.12631579e-02])"
      ]
     },
     "execution_count": 26,
     "metadata": {},
     "output_type": "execute_result"
    }
   ],
   "source": [
    "def shapef_and_SOE_extent_LBP(c):\n",
    "\n",
    "    ss=SOE(c)\n",
    "    ss=ss.tolist()\n",
    "    s2=shape_features(c)\n",
    "    s2=s2.tolist()\n",
    "    s3=obj.describe(mask_cell(c))\n",
    "    s3=s3.tolist()\n",
    "    ss=ss+s2+s3\n",
    "    ss.append(all_together(c)/10)\n",
    "    ss=np.array(ss)\n",
    "    return ss\n",
    "shapef_and_SOE_extent_LBP(lymph[-4])"
   ]
  },
  {
   "cell_type": "code",
   "execution_count": 27,
   "metadata": {},
   "outputs": [
    {
     "data": {
      "text/plain": [
       "array([1.14472704, 0.4900877 , 0.95892351, 0.7605245 , 1.74952893,\n",
       "       1.87662246, 1.        , 1.11338967, 0.18020679, 0.19475619,\n",
       "       0.61433757, 0.07126316])"
      ]
     },
     "execution_count": 27,
     "metadata": {},
     "output_type": "execute_result"
    }
   ],
   "source": [
    "def shapef_extent(c):\n",
    "\n",
    "    ss=shape_features(c)\n",
    "    ss=ss.tolist()\n",
    "    ss.append(all_together(c)/10)\n",
    "    ss=np.array(ss)\n",
    "    return ss\n",
    "shapef_extent(lymph[-4])"
   ]
  },
  {
   "cell_type": "code",
   "execution_count": 28,
   "metadata": {},
   "outputs": [
    {
     "data": {
      "text/plain": [
       "'\\nmodule = tf.keras.Sequential([\\n    hub.KerasLayer(\"https://tfhub.dev/google/imagenet/efficientnet_v2_imagenet21k_s/feature_vector/2\",\\n                   trainable=False),  # Can be True, see below.\\n    #tf.keras.layers.Dense(num_classes, activation=\\'softmax\\')\\n])\\nmodule.build([None, 384, 384, 3])  # Batch input shape.\\n'"
      ]
     },
     "execution_count": 28,
     "metadata": {},
     "output_type": "execute_result"
    }
   ],
   "source": [
    "import tensorflow as tf\n",
    "import tensorflow_hub as hub\n",
    "\n",
    "import tensorflow_datasets as tfds\n",
    "\n",
    "import time\n",
    "\n",
    "from PIL import Image\n",
    "import requests\n",
    "from io import BytesIO\n",
    "\n",
    "import matplotlib.pyplot as plt\n",
    "import numpy as np\n",
    "\n",
    "import os\n",
    "import pathlib\n",
    "\n",
    "import cv2\n",
    "\n",
    "# Load model into KerasLayer\n",
    "#model_url = \"https://tfhub.dev/google/bit/m-r50x1/1\"\n",
    "#model_url = \"https://tfhub.dev/google/imagenet/efficientnet_v2_imagenet21k_s/feature_vector/2\" #.99\n",
    "#model_url = \"https://tfhub.dev/google/imagenet/resnet_v2_152/feature_vector/5\"          #97\n",
    "model_url = \".\\imagenet_efficientnet_v2_imagenet21k_s_feature_vector_2\"\n",
    "module = hub.KerasLayer(model_url)\n",
    "\n",
    "\"\"\"\n",
    "module = tf.keras.Sequential([\n",
    "    hub.KerasLayer(\"https://tfhub.dev/google/imagenet/efficientnet_v2_imagenet21k_s/feature_vector/2\",\n",
    "                   trainable=False),  # Can be True, see below.\n",
    "    #tf.keras.layers.Dense(num_classes, activation='softmax')\n",
    "])\n",
    "module.build([None, 384, 384, 3])  # Batch input shape.\n",
    "\"\"\""
   ]
  },
  {
   "cell_type": "code",
   "execution_count": 29,
   "metadata": {},
   "outputs": [
    {
     "data": {
      "text/plain": [
       "(1280,)"
      ]
     },
     "execution_count": 29,
     "metadata": {},
     "output_type": "execute_result"
    }
   ],
   "source": [
    "def deepfeature(image):\n",
    "    image = np.array(image)\n",
    "    if len(image.shape)==2:\n",
    "        backtorgb = cv2.cvtColor(np.array(image, dtype=np.uint8),cv2.COLOR_GRAY2RGB)\n",
    "        image=backtorgb\n",
    "        \"\"\"\n",
    "        image2=np.zeros((image.shape[0], image.shape[1],3),np.int32)\n",
    "        image2[:,:,0]=image[:,:]\n",
    "        image2[:,:,1]=image[:,:]\n",
    "        image2[:,:,2]=image[:,:]\n",
    "        image=image2\n",
    "        \"\"\"\n",
    "    image=cv2.resize(image,(384,384))\n",
    "    # reshape into shape [batch_size, height, width, num_channels]\n",
    "    img_reshaped = tf.reshape(image, [1, image.shape[0], image.shape[1], image.shape[2]])\n",
    "    # Use `convert_image_dtype` to convert to floats in the [0,1] range.\n",
    "    image = tf.image.convert_image_dtype(img_reshaped, tf.float32)\n",
    "    logits=module(image)\n",
    "    return np.array(logits)[0]\n",
    " \n",
    "image=lymph[10]\n",
    "logits =deepfeature(image) # module(preprocess_image(image))\n",
    "logits.shape\n",
    " "
   ]
  },
  {
   "cell_type": "code",
   "execution_count": 30,
   "metadata": {},
   "outputs": [
    {
     "data": {
      "text/plain": [
       "array([1.14472704, 0.4900877 , 0.95892351, 0.7605245 , 1.74952893,\n",
       "       1.87662246, 1.        , 1.11338967, 0.18020679, 0.19475619,\n",
       "       0.61433757, 3.25676317, 5.30571705, 4.79024621, 5.47819767,\n",
       "       0.51732321, 0.82994186, 0.7438447 , 0.86579457, 0.86836505,\n",
       "       0.80644909, 0.82135938, 0.79547195, 0.49897692, 0.47493126,\n",
       "       0.48655677, 0.474017  , 0.85920618, 0.77098653, 0.79426934,\n",
       "       0.76354328, 0.24897797, 0.22555971, 0.23673749, 0.22469212])"
      ]
     },
     "execution_count": 30,
     "metadata": {},
     "output_type": "execute_result"
    }
   ],
   "source": [
    "def shapef_GLCM(c):\n",
    "\n",
    "    ss=shape_features(c)\n",
    "    ss=ss.tolist()\n",
    "    s2=GLCM(mask_cell(c))\n",
    "    s2=s2.tolist()\n",
    "    ss=ss+s2\n",
    "    ss=np.array(ss)\n",
    "    return ss\n",
    "shapef_GLCM(lymph[-4])\n",
    "\n",
    "\n"
   ]
  },
  {
   "cell_type": "code",
   "execution_count": 31,
   "metadata": {},
   "outputs": [
    {
     "data": {
      "text/plain": [
       "array([1.14472704, 0.4900877 , 0.95892351, 0.7605245 , 1.74952893,\n",
       "       1.87662246, 1.        , 1.11338967, 0.18020679, 0.19475619,\n",
       "       0.61433757, 3.25676317, 5.30571705, 4.79024621, 5.47819767,\n",
       "       0.51732321, 0.82994186, 0.7438447 , 0.86579457, 0.86836505,\n",
       "       0.80644909, 0.82135938, 0.79547195, 0.49897692, 0.47493126,\n",
       "       0.48655677, 0.474017  , 0.85920618, 0.77098653, 0.79426934,\n",
       "       0.76354328, 0.24897797, 0.22555971, 0.23673749, 0.22469212,\n",
       "       0.        , 0.63      , 0.        , 0.        , 0.        ])"
      ]
     },
     "execution_count": 31,
     "metadata": {},
     "output_type": "execute_result"
    }
   ],
   "source": [
    "def shapef_GLCM_SOE(c):\n",
    "\n",
    "    ss=shape_features(c)\n",
    "    ss=ss.tolist()\n",
    "    s2=GLCM(mask_cell(c))\n",
    "    s2=s2.tolist()\n",
    "    s3=SOE(c)\n",
    "    s3=s3.tolist()\n",
    "    ss=ss+s2+s3\n",
    "    ss=np.array(ss)\n",
    "    return ss\n",
    "shapef_GLCM_SOE(lymph[-4])\n",
    "\n",
    "\n"
   ]
  },
  {
   "cell_type": "code",
   "execution_count": 32,
   "metadata": {},
   "outputs": [
    {
     "data": {
      "text/plain": [
       "array([ 0.46647411,  0.        ,  0.95577746, ..., -0.1448129 ,\n",
       "       -0.10549405, -0.03563274])"
      ]
     },
     "execution_count": 32,
     "metadata": {},
     "output_type": "execute_result"
    }
   ],
   "source": [
    "def shapef_GLCM_SOE_deep(c):\n",
    "\n",
    "    ss=shape_features(c)\n",
    "    ss=ss.tolist()\n",
    "    s2=GLCM(mask_cell(c))\n",
    "    s2=s2.tolist()\n",
    "    s3=SOE(c)\n",
    "    s3=s3.tolist()\n",
    "    s4=deepfeature(c)\n",
    "    s4=s4.tolist()\n",
    "    ss=ss+s2+s3+s4\n",
    "    ss=np.array(ss)\n",
    "    return ss\n",
    "shapef_GLCM_SOE_deep(lymph[-118])"
   ]
  },
  {
   "cell_type": "code",
   "execution_count": 33,
   "metadata": {},
   "outputs": [
    {
     "data": {
      "text/plain": [
       "array([1.14472704e+00, 4.90087697e-01, 9.58923513e-01, 7.60524500e-01,\n",
       "       1.74952893e+00, 1.87662246e+00, 1.00000000e+00, 1.11338967e+00,\n",
       "       1.80206795e-01, 1.94756189e-01, 6.14337568e-01, 3.25676317e+00,\n",
       "       5.30571705e+00, 4.79024621e+00, 5.47819767e+00, 5.17323208e-01,\n",
       "       8.29941860e-01, 7.43844697e-01, 8.65794574e-01, 8.68365049e-01,\n",
       "       8.06449087e-01, 8.21359384e-01, 7.95471954e-01, 4.98976923e-01,\n",
       "       4.74931264e-01, 4.86556772e-01, 4.74017004e-01, 8.59206179e-01,\n",
       "       7.70986535e-01, 7.94269336e-01, 7.63543279e-01, 2.48977970e-01,\n",
       "       2.25559706e-01, 2.36737492e-01, 2.24692120e-01, 0.00000000e+00,\n",
       "       6.30000000e-01, 0.00000000e+00, 0.00000000e+00, 0.00000000e+00,\n",
       "       0.00000000e+00, 0.00000000e+00, 0.00000000e+00, 0.00000000e+00,\n",
       "       0.00000000e+00, 0.00000000e+00, 0.00000000e+00, 0.00000000e+00,\n",
       "       4.85877235e-01, 0.00000000e+00, 4.16585513e-01, 4.85877235e-01,\n",
       "       4.85877235e-01, 0.00000000e+00, 3.43840730e-01, 0.00000000e+00,\n",
       "       9.90743520e-01, 0.00000000e+00, 0.00000000e+00, 0.00000000e+00,\n",
       "       1.35747101e-01, 0.00000000e+00, 0.00000000e+00, 0.00000000e+00,\n",
       "       0.00000000e+00, 0.00000000e+00, 0.00000000e+00, 0.00000000e+00,\n",
       "       0.00000000e+00, 0.00000000e+00, 0.00000000e+00, 0.00000000e+00,\n",
       "       5.08385839e-03, 4.99993538e-01, 4.99993538e-01, 4.99993538e-01,\n",
       "       4.99993538e-01, 0.00000000e+00, 0.00000000e+00, 0.00000000e+00,\n",
       "       2.68446691e-02, 4.90980286e-01, 4.90980286e-01, 4.90980286e-01,\n",
       "       4.90980286e-01, 1.85078022e-01, 2.04284410e-02, 1.90158527e-02,\n",
       "       5.64257175e-02, 3.28870459e-01, 4.36526883e-01, 4.36526883e-01,\n",
       "       4.36526883e-01, 4.36526883e-01, 3.55174348e-01, 1.69901430e-02,\n",
       "       1.27804500e-02, 2.51147475e-02, 3.68849345e-02, 7.69933114e-02,\n",
       "       5.72315579e-01, 5.72315579e-01, 5.72315579e-01, 9.63435313e-02,\n",
       "       3.84852368e-01, 3.84852368e-01, 3.84852368e-01, 3.84852368e-01,\n",
       "       3.84852368e-01, 2.64902703e-01, 2.91455113e-01, 3.22991872e-01,\n",
       "       4.03860935e-01, 4.03860935e-01, 4.03860935e-01, 4.03860935e-01,\n",
       "       4.03860935e-01, 2.32328067e-01, 2.90635151e-01, 2.14561423e-01,\n",
       "       3.87733134e-01, 2.54837690e-01, 3.87733134e-01, 1.81757674e-01,\n",
       "       3.87733134e-01, 3.87733134e-01, 3.87733134e-01, 3.87733134e-01,\n",
       "       2.37139755e-01, 1.42536695e-01, 1.76735614e-01, 3.73902239e-01,\n",
       "       4.53979656e-01, 4.53979656e-01, 4.53979656e-01, 3.66219990e-01,\n",
       "       8.71413481e-02, 3.65157381e-01, 3.78388353e-01, 3.78388353e-01,\n",
       "       3.78388353e-01, 3.78388353e-01, 3.78388353e-01, 3.78388353e-01,\n",
       "       6.98578800e-02, 7.47891475e-02, 1.47715198e-01, 4.62199129e-01,\n",
       "       4.99709305e-01, 4.99709305e-01, 4.99709305e-01, 7.03596199e-02,\n",
       "       2.28265862e-01, 1.28253649e-01, 1.13305912e-01, 1.89135803e-01,\n",
       "       6.56796971e-01, 6.56796971e-01, 1.14070073e-01, 8.40155372e-02,\n",
       "       3.24493589e-01, 3.35022851e-01, 4.62087358e-01, 4.62087358e-01,\n",
       "       4.62087358e-01, 2.22353111e-01, 2.27700812e-01, 2.01496538e-01])"
      ]
     },
     "execution_count": 33,
     "metadata": {},
     "output_type": "execute_result"
    }
   ],
   "source": [
    "def shapef_GLCM_SOE_HOG(c):\n",
    "\n",
    "    ss=shape_features(c)\n",
    "    ss=ss.tolist()\n",
    "    s2=GLCM(mask_cell(c))\n",
    "    s2=s2.tolist()\n",
    "    s3=SOE(c)\n",
    "    s3=s3.tolist()\n",
    "    s4=HOG_im(c)[0]\n",
    "    s4=s4.tolist()\n",
    "    ss=ss+s2+s3+s4\n",
    "    ss=np.array(ss)\n",
    "    return ss\n",
    "shapef_GLCM_SOE_HOG(lymph[-4])"
   ]
  },
  {
   "cell_type": "code",
   "execution_count": 34,
   "metadata": {},
   "outputs": [
    {
     "data": {
      "text/plain": [
       "array([ 0.38465463,  0.64043442,  0.89252336, ..., -0.16807126,\n",
       "        0.31207824, -0.00519559])"
      ]
     },
     "execution_count": 34,
     "metadata": {},
     "output_type": "execute_result"
    }
   ],
   "source": [
    "def shapef_GLCM_SOE_HOG_deep(c):\n",
    "\n",
    "    ss=shape_features(c)\n",
    "    ss=ss.tolist()\n",
    "    s2=GLCM(mask_cell(c))\n",
    "    s2=s2.tolist()\n",
    "    s3=SOE(c)\n",
    "    s3=s3.tolist()\n",
    "    s4=HOG_im(c)[0]\n",
    "    s4=s4.tolist()\n",
    "    s5=deepfeature(c)\n",
    "    #print(len(s4))\n",
    "    s5=s5.tolist()\n",
    "    ss=ss+s2+s3+s4+s5\n",
    "    ss=np.array(ss)\n",
    "    return ss\n",
    "shapef_GLCM_SOE_HOG_deep(lymph[1])"
   ]
  },
  {
   "cell_type": "code",
   "execution_count": 183,
   "metadata": {},
   "outputs": [],
   "source": [
    "#obj=LocalBinaryPatterns(points,8)\n",
    "\n",
    "def features(c, f):\n",
    "    if f==1:\n",
    "        return all_together(c) \n",
    "    elif f==2:\n",
    "        return obj.describe(mask_cell(c))\n",
    "    elif f==3:\n",
    "        return LBP_and_extent(c)\n",
    "    elif f==4:\n",
    "        return vggface3(c)\n",
    "    elif f==5:\n",
    "        return SOE_and_extent(c)\n",
    "    elif f==6:\n",
    "        return SOE_LBP_and_extent(c)\n",
    "    elif f==7:\n",
    "        return deepfeature(mask_cell_nec(c))#mask_cell(c))\n",
    "    elif f==8:\n",
    "        return SOE(c)\n",
    "    elif f==9:\n",
    "        return shape_features(c)\n",
    "    elif f==10:\n",
    "        return shapef_and_SOE(c)    \n",
    "    elif f==11:\n",
    "        return shapef_and_SOE_extent(c)    \n",
    "    elif f==12:\n",
    "        return shapef_and_SOE_extent_LBP(c)  \n",
    "    elif f==13:\n",
    "        return shapef_extent(c)  \n",
    "    elif f==14:\n",
    "        return GLCM(mask_cell(c))\n",
    "    elif f==15:\n",
    "        return shapef_GLCM(c)\n",
    "    elif f==16:\n",
    "        return shapef_GLCM_SOE(c)  \n",
    "    elif f==17:\n",
    "        return HOG_im(c)[0]    \n",
    "    elif f==18:\n",
    "        return shapef_GLCM_SOE_HOG(c)\n",
    "    elif f==19:\n",
    "        #PCA\n",
    "        c=cv2.resize(mask_cell(c),(100,100))\n",
    "        return c.reshape(-1)  \n",
    "    \n",
    "    elif f==20:\n",
    "        #lda\n",
    "        c=cv2.resize(mask_cell(c),(100,100))\n",
    "        return c.reshape(-1)\n",
    "    elif f==21:\n",
    "        return shapef_GLCM_SOE_HOG_deep(c)\n",
    "    elif f==22:\n",
    "        return shapef_GLCM_SOE_deep(c)   "
   ]
  },
  {
   "cell_type": "code",
   "execution_count": 36,
   "metadata": {},
   "outputs": [],
   "source": [
    "\n",
    "def alldata(cls,ft):\n",
    "\n",
    "    if cls==2:\n",
    "        lymph_extent = [ features(c, ft) for c in lymph]\n",
    "        neut_extent = [features(c, ft) for c in neut]\n",
    "        x = np.array(lymph_extent + neut_extent)#\n",
    "        if ft==1: x=x.reshape(-1, 1)\n",
    "        y = len(lymph_extent)*[0] + len(neut_extent)*[1]\n",
    "\n",
    "    \n",
    "    elif cls==3:\n",
    "        neut_extent = [features(c, ft) for c in neut]\n",
    "        lymph_extent = [features(c, ft) for c in lymph]\n",
    "        MONO_extent = [ features(c, ft)  for c  in MONO]\n",
    "        x = np.array(lymph_extent + neut_extent+ MONO_extent)#.reshape(-1, 1)\n",
    "        if ft==1: x=x.reshape(-1, 1)\n",
    "        y = len(lymph_extent)*[0] + len(neut_extent)*[1]+len(MONO_extent)*[2]\n",
    "        \n",
    "    elif cls==5:\n",
    "        neut_extent = [features(c, ft)  for c  in neut]\n",
    "        lymph_extent = [features(c, ft)  for c  in lymph]\n",
    "        BASO_extent = [ features(c, ft)  for c  in BASO]\n",
    "        EOSI_extent = [ features(c, ft)  for c in EOSI]\n",
    "        MONO_extent = [ features(c, ft)  for c  in MONO]\n",
    "        x = np.array(lymph_extent + neut_extent+ BASO_extent+ EOSI_extent+ MONO_extent)#.reshape(-1, 1)\n",
    "        if ft==1: x=x.reshape(-1, 1)\n",
    "        y = len(lymph_extent)*[0] + len(neut_extent)*[1]+len(BASO_extent)*[2]+len(EOSI_extent)*[3]+len(MONO_extent)*[4]\n",
    "        \n",
    "    return x,y"
   ]
  },
  {
   "cell_type": "code",
   "execution_count": 37,
   "metadata": {},
   "outputs": [],
   "source": [
    "\n",
    "\n",
    "\n",
    "def classif(cls,ft):\n",
    "    print('#########################################################################################')\n",
    "    print()\n",
    "    print(\"classes=\",cls,'   Features type=',ft)\n",
    "    print()\n",
    "    \n",
    "    if ft==19:  pca = PCA(n_components=50)\n",
    "    if ft==20:  lda = LinearDiscriminantAnalysis(n_components=4)\n",
    "        \n",
    "    x,y=alldata(cls,ft)\n",
    "    \n",
    "    print('training length=',len(x))\n",
    "    print()\n",
    "    print('#########################################################################################')    \n",
    "    names = [\"Decision Tree\",\"Nearest Neighbors\", \"Neural Net\", \"AdaBoost\", \"SVM\", \"GaussianNB\",\n",
    "             \"Random Forest\"]\n",
    "\n",
    "    classifiers = [tree.DecisionTreeClassifier(class_weight = 'balanced', max_depth = 1),\n",
    "                   KNeighborsClassifier(7),\n",
    "                   MLPClassifier(alpha=.1, max_iter=10000),\n",
    "                   AdaBoostClassifier(),\n",
    "                   SVC(gamma=2, C=1),\n",
    "                   GaussianNB(),\n",
    "                   RandomForestClassifier(max_depth=1, n_estimators=10, max_features=1)\n",
    "                   ]\n",
    "    classifiers=[MLPClassifier(alpha=.1, max_iter=10000)]\n",
    "    rkf=RepeatedKFold(n_splits=10, n_repeats=1, random_state=0)\n",
    "    y1=np.array(y)\n",
    "    for name, clf in zip(names, classifiers):\n",
    "        list=[]\n",
    "        list_tr=[]\n",
    "        for train, test in rkf.split(x):\n",
    "            #print(\"%s %s\" % (train, test),\"\\n\")\n",
    "            #print(y1[train])\n",
    "            X_train, X_test, y_train, y_test=x[train], x[test], y1[train], y1[test]\n",
    "            \n",
    "            if ft==19: #PCA\n",
    "                #X_train = StandardScaler().fit_transform(X_train)\n",
    "                #X_test = StandardScaler().fit_transform(X_test)\n",
    "                X_train=pca.fit_transform(X_train)\n",
    "                X_test= pca.transform(X_test)\n",
    "                \n",
    "            if ft==20: #LDA\n",
    "                #X_train = StandardScaler().fit_transform(X_train)\n",
    "                #X_test = StandardScaler().fit_transform(X_test)\n",
    "                X_train=lda.fit_transform(X_train,y_train)\n",
    "                X_test= lda.transform(X_test)\n",
    "                \n",
    "            clf.fit(X_train, y_train)\n",
    "            predictions=clf.predict(X_test)\n",
    "            #list.append(accuracy_score(y_test, predictions))\n",
    "            list.append(f1_score(y_test, predictions,average='micro'))\n",
    "            \n",
    "            list_tr.append(accuracy_score(y_train, clf.predict(X_train)))\n",
    "\n",
    "        print()\n",
    "        print(name)\n",
    "        #print(list_tr,\"\\n\")\n",
    "        print(\"Training Accuracy\",end=\" : \")\n",
    "        print(\"\\t\",np.array(list_tr).mean(),\"\\t\\terror +/-=\",np.array(list_tr).std())\n",
    "\n",
    "        #print(list,\"\\n\")\n",
    "        print(\"Test Accuracy\",end=\" : \")\n",
    "        print(\"\\t\",np.array(list).mean(),\"\\t\\terror +/-=\",np.array(list).std())"
   ]
  },
  {
   "cell_type": "code",
   "execution_count": null,
   "metadata": {
    "scrolled": false
   },
   "outputs": [],
   "source": [
    "for cls in [2,3,5]: \n",
    "    for ft in [7]:#[1,2,3]:\n",
    "        classif(cls,ft)"
   ]
  },
  {
   "cell_type": "code",
   "execution_count": null,
   "metadata": {},
   "outputs": [],
   "source": [
    "##########################################################################################"
   ]
  },
  {
   "cell_type": "code",
   "execution_count": 184,
   "metadata": {},
   "outputs": [
    {
     "name": "stdout",
     "output_type": "stream",
     "text": [
      "lymph= 5524\n",
      "neut= 5860\n",
      "MONO= 409\n",
      "BASO= 85\n",
      "EOSI= 596\n",
      "[5524, 5860, 409, 85, 596]\n",
      "12474\n"
     ]
    },
    {
     "data": {
      "image/png": "[encoded data removed]",
      "text/plain": [
       "<Figure size 432x288 with 1 Axes>"
      ]
     },
     "metadata": {
      "needs_background": "light"
     },
     "output_type": "display_data"
    },
    {
     "data": {
      "image/png": "[encoded data removed]",
      "text/plain": [
       "<Figure size 504x504 with 1 Axes>"
      ]
     },
     "metadata": {},
     "output_type": "display_data"
    }
   ],
   "source": [
    "path1='./samples/Experiment/Training/*/*/'    \n",
    "path2='.\\samples\\Experiment3\\Train\\\\'\n",
    "#lymph = [cv2.imread(f)[:,:,::-1] for f in glob.glob(path1+'Lymphocyte/*.png') if os.path.getsize(f)>200]\n",
    "lymph = [cv2.imread(f)[:,:,::-1] for f in glob.glob(path2+'Lymphocyte/*.png') if os.path.getsize(f)>200]\n",
    "neut =  [cv2.imread(f)[:,:,::-1] for f in glob.glob(path1+'Neutrophil/*.png') if os.path.getsize(f)>200]\n",
    "BASO =  [cv2.imread(f)[:,:,::-1] for f in glob.glob(path1+'Basophil/*.png') if os.path.getsize(f)>200]\n",
    "EOSI =  [cv2.imread(f)[:,:,::-1] for f in glob.glob(path1+'Eosinophil/*.png') if os.path.getsize(f)>200]\n",
    "MONO =  [cv2.imread(f)[:,:,::-1] for f in glob.glob(path1+'Monocyte/*.png')if os.path.getsize(f)>200]\n",
    "\n",
    "#MONO=augm(MONO,nm=5)\n",
    "\n",
    "ln=[len(lymph),len(neut),len(MONO),len(BASO),len(EOSI)]\n",
    "print('lymph=',len(lymph))\n",
    "print('neut=',len(neut))\n",
    "print('MONO=',len(MONO))\n",
    "print('BASO=',len(BASO))\n",
    "print('EOSI=',len(EOSI))\n",
    "\n",
    "print(ln)\n",
    "print(sum(ln))\n",
    "ls5=len(lymph)*[0] + len(neut)*[1]+len(MONO)*[2]+len(BASO)*[3]+len(EOSI)*[4]\n",
    "p=plt.hist(ls5,10)\n",
    "plt.show()\n",
    "\n",
    "y = np.array(ln)\n",
    "mylabels =[\"lymph\",\"neut\",\"MONO\",\"BASO\",\"EOSI\"] \n",
    "plt.figure(figsize=(7, 7))\n",
    "plt.pie(y, labels = mylabels, startangle = 10)\n",
    "plt.legend()\n",
    "plt.show()\n"
   ]
  },
  {
   "cell_type": "code",
   "execution_count": 185,
   "metadata": {},
   "outputs": [
    {
     "name": "stdout",
     "output_type": "stream",
     "text": [
      "No cell detected...........\n"
     ]
    }
   ],
   "source": [
    "cl=5\n",
    "fe=7\n",
    "\n",
    "x,y=alldata(cl,fe)\n",
    "X_train=x\n",
    "y_train=y\n"
   ]
  },
  {
   "cell_type": "code",
   "execution_count": 42,
   "metadata": {},
   "outputs": [
    {
     "data": {
      "text/plain": [
       "MLPClassifier(hidden_layer_sizes=(8, 8, 8), max_iter=1000)"
      ]
     },
     "execution_count": 42,
     "metadata": {},
     "output_type": "execute_result"
    }
   ],
   "source": [
    "from sklearn.neural_network import MLPClassifier\n",
    "mlp =  MLPClassifier(hidden_layer_sizes=(8,8,8), activation='relu', solver='adam', max_iter=1000)\n",
    "mlp.fit(X_train,y_train)\n"
   ]
  },
  {
   "cell_type": "code",
   "execution_count": 43,
   "metadata": {},
   "outputs": [
    {
     "ename": "NameError",
     "evalue": "name 'X_test' is not defined",
     "output_type": "error",
     "traceback": [
      "\u001b[1;31m---------------------------------------------------------------------------\u001b[0m",
      "\u001b[1;31mNameError\u001b[0m                                 Traceback (most recent call last)",
      "\u001b[1;32m<ipython-input-43-55aed60c6b9c>\u001b[0m in \u001b[0;36m<module>\u001b[1;34m\u001b[0m\n\u001b[1;32m----> 1\u001b[1;33m \u001b[0mmlp\u001b[0m\u001b[1;33m.\u001b[0m\u001b[0mscore\u001b[0m\u001b[1;33m(\u001b[0m\u001b[0mX_test\u001b[0m\u001b[1;33m,\u001b[0m\u001b[0my_test\u001b[0m\u001b[1;33m)\u001b[0m\u001b[1;33m\u001b[0m\u001b[1;33m\u001b[0m\u001b[0m\n\u001b[0m",
      "\u001b[1;31mNameError\u001b[0m: name 'X_test' is not defined"
     ]
    }
   ],
   "source": [
    "#mlp.score(X_test,y_test)"
   ]
  },
  {
   "cell_type": "code",
   "execution_count": 186,
   "metadata": {},
   "outputs": [
    {
     "data": {
      "text/plain": [
       "'\\nprint(\\'lymph=\\',len(lymph))\\nprint(\\'neut=\\',len(neut))\\nprint(\\'MONO=\\',len(MONO))\\nprint(\\'BASO=\\',len(BASO))\\nprint(\\'EOSI=\\',len(EOSI))\\n\\nprint(ln)\\nprint(sum(ln))\\nls5=len(lymph)*[0] + len(neut)*[1]+len(MONO)*[2]+len(BASO)*[3]+len(EOSI)*[4]\\n \\np=plt.hist(ls5,10)\\nplt.show()\\n\\ny = np.array(ln)\\nmylabels =[\"lymph\",\"neut\",\"MONO\",\"BASO\",\"EOSI\"] \\nplt.figure(figsize=(7, 7))\\nplt.pie(y, labels = mylabels, startangle = 10)\\nplt.legend()\\nplt.show()\\n'"
      ]
     },
     "execution_count": 186,
     "metadata": {},
     "output_type": "execute_result"
    }
   ],
   "source": [
    "path1='./samples/Experiment/Experiment/*/' \n",
    "path2='.\\samples\\Experiment3\\Test/'\n",
    "lymph = [cv2.imread(f)[:,:,::-1] for f in glob.glob(path2+'Lymphocyte/*.png') if os.path.getsize(f)>200]\n",
    "neut =  [cv2.imread(f)[:,:,::-1] for f in glob.glob(path1+'Neutrophil/*.png') if os.path.getsize(f)>200]\n",
    "BASO =  [cv2.imread(f)[:,:,::-1] for f in glob.glob(path1+'Basophil/*.png') if os.path.getsize(f)>200]\n",
    "EOSI =  [cv2.imread(f)[:,:,::-1] for f in glob.glob(path1+'Eosinophil/*.png') if os.path.getsize(f)>200]\n",
    "MONO =  [cv2.imread(f)[:,:,::-1] for f in glob.glob(path1+'Monocyte/*.png')if os.path.getsize(f)>200]\n",
    "\n",
    "\n",
    "ln=[len(lymph),len(neut),len(MONO),len(BASO),len(EOSI)]\n",
    "\"\"\"\n",
    "print('lymph=',len(lymph))\n",
    "print('neut=',len(neut))\n",
    "print('MONO=',len(MONO))\n",
    "print('BASO=',len(BASO))\n",
    "print('EOSI=',len(EOSI))\n",
    "\n",
    "print(ln)\n",
    "print(sum(ln))\n",
    "ls5=len(lymph)*[0] + len(neut)*[1]+len(MONO)*[2]+len(BASO)*[3]+len(EOSI)*[4]\n",
    " \n",
    "p=plt.hist(ls5,10)\n",
    "plt.show()\n",
    "\n",
    "y = np.array(ln)\n",
    "mylabels =[\"lymph\",\"neut\",\"MONO\",\"BASO\",\"EOSI\"] \n",
    "plt.figure(figsize=(7, 7))\n",
    "plt.pie(y, labels = mylabels, startangle = 10)\n",
    "plt.legend()\n",
    "plt.show()\n",
    "\"\"\""
   ]
  },
  {
   "cell_type": "code",
   "execution_count": 187,
   "metadata": {},
   "outputs": [
    {
     "name": "stdout",
     "output_type": "stream",
     "text": [
      "No cell detected...........\n"
     ]
    }
   ],
   "source": [
    "#cl=5\n",
    "#fe=1\n",
    "x2,y2=alldata(cl,fe)\n",
    "X_test=x2\n",
    "y_test=y2"
   ]
  },
  {
   "cell_type": "code",
   "execution_count": 188,
   "metadata": {},
   "outputs": [],
   "source": [
    "dic={0:[1,0,0,0,0],1:[0,1,0,0,0],2:[0,0,1,0,0],3:[0,0,0,1,0],4:[0,0,0,0,1]}\n",
    "y_train=np.array([dic[x]  for x in y_train] )\n",
    "\n",
    "dic={0:[1,0,0,0,0],1:[0,1,0,0,0],2:[0,0,1,0,0],3:[0,0,0,1,0],4:[0,0,0,0,1]}\n",
    "y_test=np.array([dic[x]  for x in y_test] )"
   ]
  },
  {
   "cell_type": "code",
   "execution_count": 189,
   "metadata": {},
   "outputs": [
    {
     "name": "stdout",
     "output_type": "stream",
     "text": [
      "Epoch 1/100\n",
      "780/780 [==============================] - 2s 3ms/step - loss: 0.6885 - accuracy: 0.7778 - val_loss: 0.2778 - val_accuracy: 0.9100\n",
      "Epoch 2/100\n",
      "780/780 [==============================] - 2s 2ms/step - loss: 0.3808 - accuracy: 0.8802 - val_loss: 0.2619 - val_accuracy: 0.9125\n",
      "Epoch 3/100\n",
      "780/780 [==============================] - 2s 2ms/step - loss: 0.3661 - accuracy: 0.8873 - val_loss: 0.2502 - val_accuracy: 0.9195\n",
      "Epoch 4/100\n",
      "780/780 [==============================] - 2s 2ms/step - loss: 0.3374 - accuracy: 0.8942 - val_loss: 0.2570 - val_accuracy: 0.9227\n",
      "Epoch 5/100\n",
      "780/780 [==============================] - 2s 2ms/step - loss: 0.3207 - accuracy: 0.8973 - val_loss: 0.2385 - val_accuracy: 0.9237\n",
      "Epoch 6/100\n",
      "780/780 [==============================] - 2s 2ms/step - loss: 0.3093 - accuracy: 0.9001 - val_loss: 0.2342 - val_accuracy: 0.9236\n",
      "Epoch 7/100\n",
      "780/780 [==============================] - 2s 2ms/step - loss: 0.3115 - accuracy: 0.9046 - val_loss: 0.2424 - val_accuracy: 0.9202\n",
      "Epoch 8/100\n",
      "780/780 [==============================] - 2s 2ms/step - loss: 0.3049 - accuracy: 0.9019 - val_loss: 0.2506 - val_accuracy: 0.9212\n",
      "Epoch 9/100\n",
      "780/780 [==============================] - 2s 2ms/step - loss: 0.2880 - accuracy: 0.9135 - val_loss: 0.2239 - val_accuracy: 0.9354\n",
      "Epoch 10/100\n",
      "780/780 [==============================] - 2s 3ms/step - loss: 0.2773 - accuracy: 0.9116 - val_loss: 0.2579 - val_accuracy: 0.9222\n",
      "Epoch 11/100\n",
      "780/780 [==============================] - 2s 2ms/step - loss: 0.2690 - accuracy: 0.9138 - val_loss: 0.2334 - val_accuracy: 0.9317\n",
      "Epoch 12/100\n",
      "780/780 [==============================] - 2s 2ms/step - loss: 0.2843 - accuracy: 0.9088 - val_loss: 0.2560 - val_accuracy: 0.9308\n",
      "Epoch 13/100\n",
      "780/780 [==============================] - 2s 2ms/step - loss: 0.2626 - accuracy: 0.9182 - val_loss: 0.2445 - val_accuracy: 0.9413\n",
      "Epoch 14/100\n",
      "780/780 [==============================] - 2s 2ms/step - loss: 0.2535 - accuracy: 0.9160 - val_loss: 0.2379 - val_accuracy: 0.9415\n",
      "Epoch 15/100\n",
      "780/780 [==============================] - 2s 2ms/step - loss: 0.2721 - accuracy: 0.9196 - val_loss: 0.2500 - val_accuracy: 0.9348\n",
      "Epoch 16/100\n",
      "780/780 [==============================] - 2s 2ms/step - loss: 0.2659 - accuracy: 0.9198 - val_loss: 0.2243 - val_accuracy: 0.9434\n",
      "Epoch 17/100\n",
      "780/780 [==============================] - 2s 3ms/step - loss: 0.2513 - accuracy: 0.9202 - val_loss: 0.2123 - val_accuracy: 0.9464\n",
      "Epoch 18/100\n",
      "780/780 [==============================] - 2s 2ms/step - loss: 0.2628 - accuracy: 0.9170 - val_loss: 0.2293 - val_accuracy: 0.9458\n",
      "Epoch 19/100\n",
      "780/780 [==============================] - 2s 3ms/step - loss: 0.2598 - accuracy: 0.9270 - val_loss: 0.2161 - val_accuracy: 0.9492\n",
      "Epoch 20/100\n",
      "780/780 [==============================] - 2s 2ms/step - loss: 0.2408 - accuracy: 0.9275 - val_loss: 0.2385 - val_accuracy: 0.9412\n",
      "Epoch 21/100\n",
      "780/780 [==============================] - 2s 2ms/step - loss: 0.2445 - accuracy: 0.9247 - val_loss: 0.2165 - val_accuracy: 0.9474\n",
      "Epoch 22/100\n",
      "780/780 [==============================] - 2s 2ms/step - loss: 0.2606 - accuracy: 0.9231 - val_loss: 0.2252 - val_accuracy: 0.9476\n",
      "Epoch 23/100\n",
      "780/780 [==============================] - 2s 2ms/step - loss: 0.2437 - accuracy: 0.9280 - val_loss: 0.2051 - val_accuracy: 0.9490\n",
      "Epoch 24/100\n",
      "780/780 [==============================] - 2s 2ms/step - loss: 0.2355 - accuracy: 0.9256 - val_loss: 0.2044 - val_accuracy: 0.9511\n",
      "Epoch 25/100\n",
      "780/780 [==============================] - 2s 2ms/step - loss: 0.2387 - accuracy: 0.9239 - val_loss: 0.2037 - val_accuracy: 0.9463\n",
      "Epoch 26/100\n",
      "780/780 [==============================] - 2s 2ms/step - loss: 0.2330 - accuracy: 0.9256 - val_loss: 0.1937 - val_accuracy: 0.9541\n",
      "Epoch 27/100\n",
      "780/780 [==============================] - 2s 2ms/step - loss: 0.2329 - accuracy: 0.9305 - val_loss: 0.2244 - val_accuracy: 0.9457\n",
      "Epoch 28/100\n",
      "780/780 [==============================] - 2s 2ms/step - loss: 0.2389 - accuracy: 0.9278 - val_loss: 0.2162 - val_accuracy: 0.9499\n",
      "Epoch 29/100\n",
      "780/780 [==============================] - 2s 2ms/step - loss: 0.2268 - accuracy: 0.9297 - val_loss: 0.1926 - val_accuracy: 0.9528\n",
      "Epoch 30/100\n",
      "780/780 [==============================] - 2s 2ms/step - loss: 0.2198 - accuracy: 0.9330 - val_loss: 0.2046 - val_accuracy: 0.9506\n",
      "Epoch 31/100\n",
      "780/780 [==============================] - 2s 2ms/step - loss: 0.2206 - accuracy: 0.9331 - val_loss: 0.1971 - val_accuracy: 0.9517\n",
      "Epoch 32/100\n",
      "780/780 [==============================] - 2s 2ms/step - loss: 0.2239 - accuracy: 0.9326 - val_loss: 0.1906 - val_accuracy: 0.9511\n",
      "Epoch 33/100\n",
      "780/780 [==============================] - 2s 2ms/step - loss: 0.2186 - accuracy: 0.9286 - val_loss: 0.1965 - val_accuracy: 0.9498\n",
      "Epoch 34/100\n",
      "780/780 [==============================] - 2s 2ms/step - loss: 0.2242 - accuracy: 0.9340 - val_loss: 0.2132 - val_accuracy: 0.9471\n",
      "Epoch 35/100\n",
      "780/780 [==============================] - 2s 2ms/step - loss: 0.2180 - accuracy: 0.9298 - val_loss: 0.2293 - val_accuracy: 0.9444\n",
      "Epoch 36/100\n",
      "780/780 [==============================] - 2s 2ms/step - loss: 0.2195 - accuracy: 0.9277 - val_loss: 0.2169 - val_accuracy: 0.9479\n",
      "Epoch 37/100\n",
      "780/780 [==============================] - 2s 2ms/step - loss: 0.2263 - accuracy: 0.9326 - val_loss: 0.1949 - val_accuracy: 0.9527\n",
      "Epoch 38/100\n",
      "780/780 [==============================] - 2s 2ms/step - loss: 0.2151 - accuracy: 0.9325 - val_loss: 0.1939 - val_accuracy: 0.9505\n",
      "Epoch 39/100\n",
      "780/780 [==============================] - 2s 2ms/step - loss: 0.2070 - accuracy: 0.9386 - val_loss: 0.1874 - val_accuracy: 0.9512\n",
      "Epoch 40/100\n",
      "780/780 [==============================] - 2s 2ms/step - loss: 0.2120 - accuracy: 0.9317 - val_loss: 0.1889 - val_accuracy: 0.9521\n",
      "Epoch 41/100\n",
      "780/780 [==============================] - 2s 2ms/step - loss: 0.2105 - accuracy: 0.9332 - val_loss: 0.1886 - val_accuracy: 0.9530\n",
      "Epoch 42/100\n",
      "780/780 [==============================] - 2s 2ms/step - loss: 0.2126 - accuracy: 0.9333 - val_loss: 0.1931 - val_accuracy: 0.9490\n",
      "Epoch 43/100\n",
      "780/780 [==============================] - 2s 2ms/step - loss: 0.2158 - accuracy: 0.9326 - val_loss: 0.1839 - val_accuracy: 0.9528\n",
      "Epoch 44/100\n",
      "780/780 [==============================] - 2s 2ms/step - loss: 0.2116 - accuracy: 0.9329 - val_loss: 0.2012 - val_accuracy: 0.9509\n",
      "Epoch 45/100\n",
      "780/780 [==============================] - 2s 2ms/step - loss: 0.1917 - accuracy: 0.9420 - val_loss: 0.1956 - val_accuracy: 0.9489\n",
      "Epoch 46/100\n",
      "780/780 [==============================] - 2s 2ms/step - loss: 0.1941 - accuracy: 0.9397 - val_loss: 0.2011 - val_accuracy: 0.9496\n",
      "Epoch 47/100\n",
      "780/780 [==============================] - 2s 2ms/step - loss: 0.2033 - accuracy: 0.9387 - val_loss: 0.1923 - val_accuracy: 0.9522\n",
      "Epoch 48/100\n",
      "780/780 [==============================] - 2s 2ms/step - loss: 0.1970 - accuracy: 0.9414 - val_loss: 0.2139 - val_accuracy: 0.9501\n",
      "Epoch 49/100\n",
      "780/780 [==============================] - 2s 2ms/step - loss: 0.2026 - accuracy: 0.9404 - val_loss: 0.2047 - val_accuracy: 0.9498\n",
      "Epoch 50/100\n",
      "780/780 [==============================] - 2s 2ms/step - loss: 0.1894 - accuracy: 0.9412 - val_loss: 0.1932 - val_accuracy: 0.9514\n",
      "Epoch 51/100\n",
      "780/780 [==============================] - 2s 2ms/step - loss: 0.1919 - accuracy: 0.9426 - val_loss: 0.2026 - val_accuracy: 0.9524\n",
      "Epoch 52/100\n",
      "780/780 [==============================] - 2s 2ms/step - loss: 0.1897 - accuracy: 0.9408 - val_loss: 0.1893 - val_accuracy: 0.9508\n",
      "Epoch 53/100\n",
      "780/780 [==============================] - 2s 2ms/step - loss: 0.1943 - accuracy: 0.9419 - val_loss: 0.2123 - val_accuracy: 0.9453\n",
      "Epoch 54/100\n",
      "780/780 [==============================] - 2s 2ms/step - loss: 0.1946 - accuracy: 0.9429 - val_loss: 0.2224 - val_accuracy: 0.9423\n",
      "Epoch 55/100\n",
      "780/780 [==============================] - 2s 2ms/step - loss: 0.1906 - accuracy: 0.9435 - val_loss: 0.2037 - val_accuracy: 0.9506\n",
      "Epoch 56/100\n",
      "780/780 [==============================] - 2s 2ms/step - loss: 0.1886 - accuracy: 0.9441 - val_loss: 0.2012 - val_accuracy: 0.9533\n",
      "Epoch 57/100\n",
      "780/780 [==============================] - 2s 2ms/step - loss: 0.1897 - accuracy: 0.9428 - val_loss: 0.2058 - val_accuracy: 0.9479\n"
     ]
    },
    {
     "name": "stdout",
     "output_type": "stream",
     "text": [
      "Epoch 58/100\n",
      "780/780 [==============================] - 2s 2ms/step - loss: 0.1992 - accuracy: 0.9399 - val_loss: 0.1987 - val_accuracy: 0.9480\n",
      "Epoch 59/100\n",
      "780/780 [==============================] - 2s 2ms/step - loss: 0.1894 - accuracy: 0.9433 - val_loss: 0.1912 - val_accuracy: 0.9508\n",
      "Epoch 60/100\n",
      "780/780 [==============================] - 2s 2ms/step - loss: 0.1799 - accuracy: 0.9448 - val_loss: 0.2033 - val_accuracy: 0.9492\n",
      "Epoch 61/100\n",
      "780/780 [==============================] - 2s 2ms/step - loss: 0.2007 - accuracy: 0.9383 - val_loss: 0.2065 - val_accuracy: 0.9502\n",
      "Epoch 62/100\n",
      "780/780 [==============================] - 2s 2ms/step - loss: 0.1762 - accuracy: 0.9456 - val_loss: 0.1927 - val_accuracy: 0.9541\n",
      "Epoch 63/100\n",
      "780/780 [==============================] - 2s 2ms/step - loss: 0.1926 - accuracy: 0.9394 - val_loss: 0.2073 - val_accuracy: 0.9476\n",
      "Epoch 64/100\n",
      "780/780 [==============================] - 2s 2ms/step - loss: 0.1936 - accuracy: 0.9422 - val_loss: 0.2226 - val_accuracy: 0.9502\n",
      "Epoch 65/100\n",
      "780/780 [==============================] - 2s 2ms/step - loss: 0.1902 - accuracy: 0.9405 - val_loss: 0.2045 - val_accuracy: 0.9493\n",
      "Epoch 66/100\n",
      "780/780 [==============================] - 2s 2ms/step - loss: 0.1790 - accuracy: 0.9439 - val_loss: 0.2065 - val_accuracy: 0.9514\n",
      "Epoch 67/100\n",
      "780/780 [==============================] - 2s 2ms/step - loss: 0.1729 - accuracy: 0.9487 - val_loss: 0.2038 - val_accuracy: 0.9492\n",
      "Epoch 68/100\n",
      "780/780 [==============================] - 2s 2ms/step - loss: 0.1841 - accuracy: 0.9460 - val_loss: 0.2193 - val_accuracy: 0.9487\n",
      "Epoch 69/100\n",
      "780/780 [==============================] - 2s 2ms/step - loss: 0.1830 - accuracy: 0.9429 - val_loss: 0.2107 - val_accuracy: 0.9473\n",
      "Epoch 70/100\n",
      "780/780 [==============================] - 2s 2ms/step - loss: 0.1812 - accuracy: 0.9404 - val_loss: 0.2101 - val_accuracy: 0.9487\n",
      "Epoch 71/100\n",
      "780/780 [==============================] - 2s 2ms/step - loss: 0.1658 - accuracy: 0.9494 - val_loss: 0.1914 - val_accuracy: 0.9512\n",
      "Epoch 72/100\n",
      "780/780 [==============================] - 2s 2ms/step - loss: 0.1776 - accuracy: 0.9430 - val_loss: 0.1927 - val_accuracy: 0.9536\n",
      "Epoch 73/100\n",
      "780/780 [==============================] - 2s 2ms/step - loss: 0.1774 - accuracy: 0.9464 - val_loss: 0.2007 - val_accuracy: 0.9453\n",
      "Epoch 74/100\n",
      "780/780 [==============================] - 2s 2ms/step - loss: 0.1717 - accuracy: 0.9477 - val_loss: 0.1942 - val_accuracy: 0.9495\n",
      "Epoch 75/100\n",
      "780/780 [==============================] - 2s 2ms/step - loss: 0.1778 - accuracy: 0.9486 - val_loss: 0.2500 - val_accuracy: 0.9471\n",
      "Epoch 76/100\n",
      "780/780 [==============================] - 2s 2ms/step - loss: 0.1831 - accuracy: 0.9459 - val_loss: 0.1939 - val_accuracy: 0.9547\n",
      "Epoch 77/100\n",
      "780/780 [==============================] - 2s 2ms/step - loss: 0.1766 - accuracy: 0.9458 - val_loss: 0.2099 - val_accuracy: 0.9467\n",
      "Epoch 78/100\n",
      "780/780 [==============================] - 2s 2ms/step - loss: 0.1747 - accuracy: 0.9459 - val_loss: 0.2073 - val_accuracy: 0.9489\n",
      "Epoch 79/100\n",
      "780/780 [==============================] - 2s 2ms/step - loss: 0.1702 - accuracy: 0.9477 - val_loss: 0.2229 - val_accuracy: 0.9490\n",
      "Epoch 80/100\n",
      "780/780 [==============================] - 2s 2ms/step - loss: 0.1748 - accuracy: 0.9462 - val_loss: 0.2059 - val_accuracy: 0.9541\n",
      "Epoch 81/100\n",
      "780/780 [==============================] - 2s 2ms/step - loss: 0.1894 - accuracy: 0.9454 - val_loss: 0.2321 - val_accuracy: 0.9517\n",
      "Epoch 82/100\n",
      "780/780 [==============================] - 2s 2ms/step - loss: 0.1744 - accuracy: 0.9456 - val_loss: 0.2049 - val_accuracy: 0.9512\n",
      "Epoch 83/100\n",
      "780/780 [==============================] - 2s 2ms/step - loss: 0.1717 - accuracy: 0.9452 - val_loss: 0.2195 - val_accuracy: 0.9501\n",
      "Epoch 84/100\n",
      "780/780 [==============================] - 2s 2ms/step - loss: 0.1744 - accuracy: 0.9453 - val_loss: 0.2217 - val_accuracy: 0.9482\n",
      "Epoch 85/100\n",
      "780/780 [==============================] - 2s 2ms/step - loss: 0.1657 - accuracy: 0.9499 - val_loss: 0.2155 - val_accuracy: 0.9522\n",
      "Epoch 86/100\n",
      "780/780 [==============================] - 2s 2ms/step - loss: 0.1792 - accuracy: 0.9477 - val_loss: 0.2041 - val_accuracy: 0.9512\n",
      "Epoch 87/100\n",
      "780/780 [==============================] - 2s 2ms/step - loss: 0.1694 - accuracy: 0.9483 - val_loss: 0.2164 - val_accuracy: 0.9503\n",
      "Epoch 88/100\n",
      "780/780 [==============================] - 2s 2ms/step - loss: 0.1769 - accuracy: 0.9472 - val_loss: 0.2013 - val_accuracy: 0.9524\n",
      "Epoch 89/100\n",
      "780/780 [==============================] - 2s 2ms/step - loss: 0.1731 - accuracy: 0.9494 - val_loss: 0.2078 - val_accuracy: 0.9531\n",
      "Epoch 90/100\n",
      "780/780 [==============================] - 2s 2ms/step - loss: 0.1595 - accuracy: 0.9508 - val_loss: 0.2091 - val_accuracy: 0.9536\n",
      "Epoch 91/100\n",
      "780/780 [==============================] - 2s 2ms/step - loss: 0.1714 - accuracy: 0.9464 - val_loss: 0.2079 - val_accuracy: 0.9524\n",
      "Epoch 92/100\n",
      "780/780 [==============================] - 2s 2ms/step - loss: 0.1643 - accuracy: 0.9462 - val_loss: 0.1975 - val_accuracy: 0.9533\n",
      "Epoch 93/100\n",
      "780/780 [==============================] - 2s 2ms/step - loss: 0.1581 - accuracy: 0.9521 - val_loss: 0.2182 - val_accuracy: 0.9549\n",
      "Epoch 94/100\n",
      "780/780 [==============================] - 2s 2ms/step - loss: 0.1593 - accuracy: 0.9517 - val_loss: 0.2044 - val_accuracy: 0.9454\n",
      "Epoch 95/100\n",
      "780/780 [==============================] - 2s 2ms/step - loss: 0.1643 - accuracy: 0.9479 - val_loss: 0.2075 - val_accuracy: 0.9533\n",
      "Epoch 96/100\n",
      "780/780 [==============================] - 2s 2ms/step - loss: 0.1577 - accuracy: 0.9514 - val_loss: 0.1966 - val_accuracy: 0.9474\n",
      "Epoch 97/100\n",
      "780/780 [==============================] - 2s 2ms/step - loss: 0.1655 - accuracy: 0.9488 - val_loss: 0.2440 - val_accuracy: 0.9474\n",
      "Epoch 98/100\n",
      "780/780 [==============================] - 2s 2ms/step - loss: 0.1829 - accuracy: 0.9401 - val_loss: 0.2420 - val_accuracy: 0.9506\n",
      "Epoch 99/100\n",
      "780/780 [==============================] - 2s 2ms/step - loss: 0.1696 - accuracy: 0.9501 - val_loss: 0.2194 - val_accuracy: 0.9479\n",
      "Epoch 100/100\n",
      "780/780 [==============================] - 2s 2ms/step - loss: 0.1602 - accuracy: 0.9488 - val_loss: 0.2393 - val_accuracy: 0.9477\n"
     ]
    },
    {
     "data": {
      "text/plain": [
       "<tensorflow.python.keras.callbacks.History at 0x1c5a10f7fd0>"
      ]
     },
     "execution_count": 189,
     "metadata": {},
     "output_type": "execute_result"
    }
   ],
   "source": [
    "class_weight = {0: 1,1: 1,2: 1,3:1, 4:1}\n",
    "\n",
    "from keras.models import Sequential\n",
    "from keras.layers import Dense, Flatten, Conv2D, MaxPool2D, Dropout\n",
    "from keras.optimizers import Adam\n",
    "\n",
    "model = Sequential()\n",
    "model.add(Dense(100, input_dim=X_train.shape[1], activation = 'relu'))\n",
    "model.add(Dropout(0.3))\n",
    "model.add(Dense(100, activation = 'relu'))\n",
    "model.add(Dropout(0.3))\n",
    "model.add(Dense(10, activation = 'relu'))\n",
    "model.add(Dropout(0.3))\n",
    "model.add(Dense(5, activation = 'softmax'))\n",
    "\n",
    "\n",
    "#sgd = SGD(lr=0.1, decay=1e-6, momentum=0.9, nesterov=True)\n",
    "model.compile('sgd',loss='categorical_crossentropy', metrics=['accuracy'])\n",
    "\n",
    "model.fit(X_train, y_train, epochs=100, batch_size=16,  validation_data = (X_test, y_test))#class_weight=class_weight)"
   ]
  },
  {
   "cell_type": "code",
   "execution_count": 190,
   "metadata": {},
   "outputs": [],
   "source": [
    "train_nan=np.isnan(X_train).sum()\n",
    "if train_nan!=0: X_train[np.isnan(X_train)] = 0\n",
    "    \n",
    "test_nan=np.isnan(X_test).sum()\n",
    "if test_nan!=0: X_test[np.isnan(X_test)] = 0\n",
    "\n",
    "\n",
    "#clf.fit(X_train, y_train)\n",
    "\n",
    "\n",
    "#predictions=clf.predict(X_test)\n",
    "predictions=model.predict(X_test)\n"
   ]
  },
  {
   "cell_type": "code",
   "execution_count": 191,
   "metadata": {},
   "outputs": [
    {
     "name": "stdout",
     "output_type": "stream",
     "text": [
      "0.9477285963890507\n"
     ]
    }
   ],
   "source": [
    "predictions=predictions*[1,1,1,1,1]\n",
    "print(accuracy_score(y_test.argmax(axis=1), predictions.argmax(axis=1)))"
   ]
  },
  {
   "cell_type": "code",
   "execution_count": 192,
   "metadata": {},
   "outputs": [
    {
     "name": "stdout",
     "output_type": "stream",
     "text": [
      "              precision    recall  f1-score   support\n",
      "\n",
      "       lymph       0.92      0.99      0.95      2474\n",
      "        neut       0.99      0.98      0.98      3878\n",
      "        BASO       0.00      0.00      0.00        34\n",
      "        EOSI       0.79      0.78      0.78       130\n",
      "        MONO       0.75      0.52      0.62       352\n",
      "\n",
      "    accuracy                           0.95      6868\n",
      "   macro avg       0.69      0.65      0.67      6868\n",
      "weighted avg       0.94      0.95      0.94      6868\n",
      "\n"
     ]
    }
   ],
   "source": [
    "from sklearn.metrics import classification_report\n",
    "print(classification_report(y_test.argmax(axis=1), predictions.argmax(axis=1) , target_names=[\"lymph\",\"neut\",\"BASO\",\"EOSI\",\"MONO\"]))"
   ]
  },
  {
   "cell_type": "code",
   "execution_count": 193,
   "metadata": {},
   "outputs": [
    {
     "data": {
      "text/plain": [
       "array([[2442,   10,    0,    4,   18],\n",
       "       [  55, 3782,    0,   13,   28],\n",
       "       [  15,    2,    0,    8,    9],\n",
       "       [   6,   17,    0,  101,    6],\n",
       "       [ 150,   16,    0,    2,  184]], dtype=int64)"
      ]
     },
     "execution_count": 193,
     "metadata": {},
     "output_type": "execute_result"
    }
   ],
   "source": [
    "from sklearn.metrics import confusion_matrix\n",
    "confusion_matrix(y_test.argmax(axis=1), predictions.argmax(axis=1))"
   ]
  },
  {
   "cell_type": "code",
   "execution_count": 194,
   "metadata": {},
   "outputs": [
    {
     "data": {
      "image/png": "[encoded data removed]",
      "text/plain": [
       "<Figure size 432x288 with 2 Axes>"
      ]
     },
     "metadata": {
      "needs_background": "light"
     },
     "output_type": "display_data"
    }
   ],
   "source": [
    "import itertools\n",
    "\n",
    "from sklearn.metrics import plot_confusion_matrix\n",
    "\n",
    "\n",
    "\n",
    "\n",
    "def plot_confusion_matrix(cm, classes,\n",
    "                          normalize=False,\n",
    "                          title='Confusion matrix',\n",
    "                          cmap=plt.cm.cool):\n",
    "    \"\"\"\n",
    "    This function prints and plots the confusion matrix.\n",
    "    Normalization can be applied by setting `normalize=True`.\n",
    "    \"\"\"\n",
    "    plt.imshow(cm, interpolation='nearest', cmap=cmap)\n",
    "    plt.title(title)\n",
    "    plt.colorbar()\n",
    "    tick_marks = np.arange(len(classes))\n",
    "    plt.xticks(tick_marks, classes, rotation=45)\n",
    "    plt.yticks(tick_marks, classes)\n",
    "\n",
    "    if normalize:\n",
    "        cm = cm.astype('float') / cm.sum(axis=1)[:, np.newaxis]\n",
    "\n",
    "    thresh = cm.max() / 2.\n",
    "    for i, j in itertools.product(range(cm.shape[0]), range(cm.shape[1])):\n",
    "        plt.text(j, i, cm[i, j],\n",
    "                 horizontalalignment=\"center\",\n",
    "                 color=\"white\" if cm[i, j] > thresh else \"black\")\n",
    "\n",
    "    plt.tight_layout()\n",
    "    plt.ylabel('True label')\n",
    "    plt.xlabel('Predicted label')\n",
    "    \n",
    "    # Predict the values from the validation dataset\n",
    "Y_pred = model.predict(X_test)\n",
    "# Convert predictions classes to one hot vectors \n",
    "#Y_pred_classes = np.argmax(Y_pred,axis = 1) \n",
    "# Convert validation observations to one hot vectors\n",
    " \n",
    "# compute the confusion matrix\n",
    "confusion_mtx = confusion_matrix(y_test.argmax(axis=1), Y_pred.argmax(axis=1)) \n",
    "# plot the confusion matrix\n",
    "plot_confusion_matrix(confusion_mtx, classes = [\"lymph\",\"neut\",\"BASO\",\"EOSI\",\"MONO\"])#range(5)\n",
    "\n",
    "\n"
   ]
  },
  {
   "cell_type": "code",
   "execution_count": 195,
   "metadata": {},
   "outputs": [],
   "source": [
    "import itertools\n",
    "\n",
    "from sklearn.metrics import plot_confusion_matrix\n",
    "\n",
    "\n",
    "\n",
    "\n",
    "def plot_confusion_matrix(cm, classes,\n",
    "                          normalize=False,\n",
    "                          title='Confusion matrix',\n",
    "                          cmap=plt.cm.cool):\n",
    "    \"\"\"\n",
    "    This function prints and plots the confusion matrix.\n",
    "    Normalization can be applied by setting `normalize=True`.\n",
    "    \"\"\"\n",
    "    plt.imshow(cm, interpolation='nearest', cmap=cmap)\n",
    "    plt.title(title)\n",
    "    plt.colorbar()\n",
    "    tick_marks = np.arange(len(classes))\n",
    "    plt.xticks(tick_marks, classes, rotation=45)\n",
    "    plt.yticks(tick_marks, classes)\n",
    "\n",
    "    if normalize:\n",
    "        cm = cm.astype('float') / cm.sum(axis=1)[:, np.newaxis]\n",
    "\n",
    "    thresh = cm.max() / 2.\n",
    "    for i, j in itertools.product(range(cm.shape[0]), range(cm.shape[1])):\n",
    "        plt.text(j, i, cm[i, j],\n",
    "                 horizontalalignment=\"center\",\n",
    "                 color=\"white\" if cm[i, j] > thresh else \"black\")\n",
    "\n",
    "    plt.tight_layout()\n",
    "    plt.ylabel('True label')\n",
    "    plt.xlabel('Predicted label')\n",
    "    \n",
    "def con_mat(Threshold=1):\n",
    "    predictions = model.predict_proba(X_test)*np.array([1,1,1,1,Threshold])\n",
    "    predictions =predictions.argmax(axis=1)\n",
    "    print(y_test[0])\n",
    "    confusion_mtx = confusion_matrix(y_test.argmax(axis=1) , predictions)\n",
    "    print(classification_report(y_test.argmax(axis=1), predictions , target_names=[\"lymph\",\"neut\",\"BASO\",\"EOSI\",\"MONO\"]))\n",
    "    plot_confusion_matrix(confusion_mtx, classes = [\"lymph\",\"neut\",\"BASO\",\"EOSI\",\"MONO\"])#range(5)\n"
   ]
  },
  {
   "cell_type": "code",
   "execution_count": 196,
   "metadata": {},
   "outputs": [
    {
     "data": {
      "application/vnd.jupyter.widget-view+json": {
       "model_id": "8402282d2ed94ad8a3ae0d8ab0cdb349",
       "version_major": 2,
       "version_minor": 0
      },
      "text/plain": [
       "interactive(children=(FloatSlider(value=5.0, description='Threshold', max=10.0), Output()), _dom_classes=('wid…"
      ]
     },
     "metadata": {},
     "output_type": "display_data"
    }
   ],
   "source": [
    "\n",
    "from ipywidgets import interactive, FloatSlider\n",
    "\n",
    "interactive(lambda Threshold: con_mat(Threshold), Threshold=(0.0,10,.1))"
   ]
  },
  {
   "cell_type": "code",
   "execution_count": null,
   "metadata": {},
   "outputs": [],
   "source": []
  },
  {
   "cell_type": "code",
   "execution_count": null,
   "metadata": {},
   "outputs": [],
   "source": []
  },
  {
   "cell_type": "code",
   "execution_count": null,
   "metadata": {},
   "outputs": [],
   "source": []
  },
  {
   "cell_type": "code",
   "execution_count": null,
   "metadata": {},
   "outputs": [],
   "source": []
  },
  {
   "cell_type": "code",
   "execution_count": null,
   "metadata": {},
   "outputs": [],
   "source": []
  },
  {
   "cell_type": "code",
   "execution_count": 285,
   "metadata": {},
   "outputs": [],
   "source": [
    "from sklearn.metrics import classification_report\n",
    "\n",
    "classifiers = [tree.DecisionTreeClassifier(class_weight = 'balanced', max_depth = 1),  #0\n",
    "               KNeighborsClassifier(7),                                                #1\n",
    "               MLPClassifier(alpha=.1, max_iter=10000), #2\n",
    "               AdaBoostClassifier(),#3\n",
    "               SVC(gamma=2, C=1),#4\n",
    "               GaussianNB(),#5\n",
    "               RandomForestClassifier(max_depth=1, n_estimators=10, max_features=1)#6\n",
    "               ]\n",
    "\n",
    "clf= classifiers[2]\n"
   ]
  },
  {
   "cell_type": "code",
   "execution_count": 286,
   "metadata": {},
   "outputs": [],
   "source": [
    "train_nan=np.isnan(X_train).sum()\n",
    "if train_nan!=0: X_train[np.isnan(X_train)] = 0\n",
    "    \n",
    "test_nan=np.isnan(X_test).sum()\n",
    "if test_nan!=0: X_test[np.isnan(X_test)] = 0\n",
    "\n",
    "\n",
    "clf.fit(X_train, y_train)\n",
    "\n",
    "\n",
    "#predictions=clf.predict(X_test)\n",
    "predictions=clf.predict(X_test)\n"
   ]
  },
  {
   "cell_type": "code",
   "execution_count": 287,
   "metadata": {},
   "outputs": [
    {
     "name": "stdout",
     "output_type": "stream",
     "text": [
      "0.9342124122115523\n"
     ]
    }
   ],
   "source": [
    "print(accuracy_score(y_test.argmax(axis=1), predictions.argmax(axis=1)))"
   ]
  },
  {
   "cell_type": "code",
   "execution_count": 288,
   "metadata": {},
   "outputs": [
    {
     "name": "stdout",
     "output_type": "stream",
     "text": [
      "              precision    recall  f1-score   support\n",
      "\n",
      "       lymph       0.89      0.97      0.93      2583\n",
      "        neut       0.99      0.98      0.98      3878\n",
      "        BASO       0.10      0.03      0.05        34\n",
      "        EOSI       0.70      0.73      0.71       130\n",
      "        MONO       0.68      0.37      0.48       352\n",
      "\n",
      "    accuracy                           0.93      6977\n",
      "   macro avg       0.67      0.62      0.63      6977\n",
      "weighted avg       0.93      0.93      0.93      6977\n",
      "\n"
     ]
    }
   ],
   "source": [
    "from sklearn.metrics import classification_report\n",
    "print(classification_report(y_test.argmax(axis=1), predictions.argmax(axis=1) , target_names=[\"lymph\",\"neut\",\"BASO\",\"EOSI\",\"MONO\"]))"
   ]
  },
  {
   "cell_type": "code",
   "execution_count": null,
   "metadata": {},
   "outputs": [],
   "source": []
  },
  {
   "cell_type": "code",
   "execution_count": null,
   "metadata": {},
   "outputs": [],
   "source": []
  },
  {
   "cell_type": "code",
   "execution_count": null,
   "metadata": {},
   "outputs": [],
   "source": []
  },
  {
   "cell_type": "code",
   "execution_count": 154,
   "metadata": {},
   "outputs": [
    {
     "name": "stdout",
     "output_type": "stream",
     "text": [
      "No cell detected...........\n",
      "No cell detected...........\n",
      "No cell detected...........\n"
     ]
    },
    {
     "name": "stderr",
     "output_type": "stream",
     "text": [
      "<ipython-input-123-30573234629b>:23: UserWarning: Input image is entirely zero, no valid convex hull. Returning empty image\n",
      "  conv=morphology.convex_hull.convex_hull_image(im_part)\n",
      "<ipython-input-123-30573234629b>:32: RuntimeWarning: invalid value encountered in true_divide\n",
      "  return im_part.sum()/conv.sum()\n",
      "<ipython-input-123-30573234629b>:36: RuntimeWarning: invalid value encountered in double_scalars\n",
      "  return (pr**2)/(4*np.pi*im_part.sum())\n",
      "<ipython-input-123-30573234629b>:39: UserWarning: Input image is entirely zero, no valid convex hull. Returning empty image\n",
      "  conv=morphology.convex_hull.convex_hull_image(im_part)\n",
      "<ipython-input-123-30573234629b>:40: RuntimeWarning: invalid value encountered in double_scalars\n",
      "  return measure.perimeter(conv)/measure.perimeter(im_part)\n",
      "<ipython-input-102-592d150322ec>:9: RuntimeWarning: invalid value encountered in double_scalars\n",
      "  lst.append(measure.perimeter(nuc, neighbourhood=8)/n_sum)\n"
     ]
    }
   ],
   "source": [
    "from sklearn.metrics import classification_report\n",
    "\n",
    "classifiers = [tree.DecisionTreeClassifier(class_weight = 'balanced', max_depth = 1),  #0\n",
    "               KNeighborsClassifier(7),                                                #1\n",
    "               MLPClassifier(alpha=.1, max_iter=10000), #2\n",
    "               AdaBoostClassifier(),#3\n",
    "               SVC(gamma=2, C=1),#4\n",
    "               GaussianNB(),#5\n",
    "               RandomForestClassifier(max_depth=1, n_estimators=10, max_features=1)#6\n",
    "               ]\n",
    "\n",
    "cl=5\n",
    "fe=16\n",
    "clf= classifiers[2]\n",
    "\n",
    "#x,y=alldata(cl,fe)\n",
    "#X_train=x\n",
    "#y_train=y\n",
    "\n",
    "\n",
    "\n",
    "\n",
    "\n"
   ]
  },
  {
   "cell_type": "code",
   "execution_count": null,
   "metadata": {},
   "outputs": [],
   "source": []
  },
  {
   "cell_type": "code",
   "execution_count": null,
   "metadata": {},
   "outputs": [],
   "source": []
  },
  {
   "cell_type": "code",
   "execution_count": null,
   "metadata": {},
   "outputs": [],
   "source": []
  },
  {
   "cell_type": "code",
   "execution_count": null,
   "metadata": {},
   "outputs": [],
   "source": []
  },
  {
   "cell_type": "code",
   "execution_count": null,
   "metadata": {},
   "outputs": [],
   "source": [
    "import pickle\n",
    "\n",
    "lymph = [cv2.imread(f)[:,:,::-1] for f in glob.glob('./samples/PBC/LYMPH/*.jpg')]\n",
    "neut =  [cv2.imread(f)[:,:,::-1] for f in glob.glob('./samples/PBC/NEUT/*.jpg')]\n",
    "BASO =  [cv2.imread(f)[:,:,::-1] for f in glob.glob('./samples/PBC/BASO/*.jpg')]\n",
    "EOSI =  [cv2.imread(f)[:,:,::-1] for f in glob.glob('./samples/PBC/EOSI/*.jpg')]\n",
    "MONO =  [cv2.imread(f)[:,:,::-1] for f in glob.glob('./samples/PBC/MONO/*.jpg')]\n",
    "\n",
    "\n",
    "classifiers = [tree.DecisionTreeClassifier(class_weight = 'balanced', max_depth = 1),  #0\n",
    "               KNeighborsClassifier(7),                                                #1\n",
    "               MLPClassifier(alpha=.1, max_iter=10000), #2\n",
    "               AdaBoostClassifier(),#3\n",
    "               SVC(gamma=2, C=1),#4\n",
    "               GaussianNB(),#5\n",
    "               RandomForestClassifier(max_depth=1, n_estimators=10, max_features=1)#6\n",
    "               ]\n",
    "\n",
    "cl=2\n",
    "fe=15\n",
    "clf= classifiers[2]\n",
    "\n",
    "x,y=alldata(cl,fe)\n",
    "X_train=x\n",
    "y_train=y\n",
    "clf.fit(X_train, y_train)\n",
    "pickle.dump(clf, open('test.pkl', 'wb'))\n",
    "\n",
    "predictions=clf.predict(X_train)\n",
    "print(accuracy_score(y_train, predictions))\n",
    "\n"
   ]
  },
  {
   "cell_type": "code",
   "execution_count": null,
   "metadata": {},
   "outputs": [],
   "source": [
    "# BCCD Dataset The labels (1- 5) represent neutrophil, lymphocyte, monocyte, eosinophil and basophil, respectively.\n",
    "\n",
    "data1 = [cv2.imread(f)[:,:,::-1] for f in glob.glob('./samples/BCCD/Dataset1/*.bmp')]\n",
    "data2 = [cv2.imread(f)[:,:,::-1] for f in glob.glob('./samples/BCCD/Dataset2/*.bmp')]\n",
    "\n",
    "\n",
    "labels1 = pd.read_csv(\"./samples/BCCD/Class Labels of Dataset 1.csv\") \n",
    "lst1=labels1['class label'].tolist()\n",
    "\n",
    "labels2 = pd.read_csv(\"./samples/BCCD/Class Labels of Dataset 2.csv\") \n",
    "lst2=labels2['class'].tolist()\n",
    "\n",
    "ims=data1#data2+data1\n",
    "lst=lst1# lst2+lst1\n",
    "\n",
    "neut = [ims[i] for i,c in enumerate(lst) if c==1] #+neut\n",
    "lymph = [ims[i] for i,c in enumerate(lst) if c==2] #+lymph\n",
    "MONO =  [ims[i] for i,c in enumerate(lst) if c==3] #+MONO\n",
    "EOSI = [ims[i] for i,c in enumerate(lst) if c==4] #+EOSI \n",
    "BASO =  [ims[i] for i,c in enumerate(lst) if c==5] #+BASO\n",
    "\n",
    "\n",
    "x,y=alldata(cl,fe)\n",
    "\n",
    "\n",
    "pickled_model = pickle.load(open('test.pkl', 'rb'))\n",
    "predictions=pickled_model.predict(x)\n",
    "accuracy_score(y, predictions)\n"
   ]
  },
  {
   "cell_type": "code",
   "execution_count": null,
   "metadata": {},
   "outputs": [],
   "source": [
    "#mic_img = [cv2.imread(f)[:,:,::-1] for f in glob.glob('./samples/QSb MHS/QSb MHS/*.jpg')]; th=80\n",
    "mic_img = [cv2.imread(f)[:,:,::-1] for f in glob.glob('./samples/Q2_#2/Q2_#2/*.png')]; th=30\n",
    "\n",
    "plt.imshow(mic_img[2])\n",
    "plt.show()"
   ]
  },
  {
   "cell_type": "code",
   "execution_count": null,
   "metadata": {},
   "outputs": [],
   "source": [
    "img=mic_img[0].copy()\n",
    "cv2.imwrite(\"wbc.png\",img)\n",
    "r=img.shape[0]\n",
    "c=img.shape[1]\n",
    "cn=0\n",
    "ls_img=[]\n",
    "for i in range(21,r-20):\n",
    "    for j in range(21,c-20):\n",
    "        if (int(img[i,j,2])-int(img[i,j,0]))>th: \n",
    "            im=img[i-20:i+20,j-20:j+20,:].copy()\n",
    "            img[i-20:i+20,j-20:j+20,:]=0\n",
    "            ls_img.append(im)\n",
    "            cn=cn+1\n",
    "            #plt.imshow(im)\n",
    "            #plt.show()\n",
    "cn"
   ]
  },
  {
   "cell_type": "code",
   "execution_count": null,
   "metadata": {},
   "outputs": [],
   "source": [
    "import random\n",
    " \n",
    "from matplotlib.pyplot import figure\n",
    "cell_type=['LYMPH','NEUT','BASO','EOSI','MONO']\n",
    "cell_type=['LYMPH','NEUT','MONO']\n",
    "\n",
    " \n",
    "for im in ls_img :\n",
    "    print( cell_type[pickled_model.predict([features(im, fe)])[0]])\n",
    "    \n",
    "    figure(figsize=(7, 7))\n",
    "\n",
    "    plt.subplot(121)\n",
    "    plt.imshow(im)\n",
    "    plt.subplot(122)\n",
    "    plt.imshow(deep_segment(im))\n",
    "    plt.show()"
   ]
  },
  {
   "cell_type": "code",
   "execution_count": null,
   "metadata": {},
   "outputs": [],
   "source": []
  },
  {
   "cell_type": "code",
   "execution_count": null,
   "metadata": {},
   "outputs": [],
   "source": []
  },
  {
   "cell_type": "code",
   "execution_count": null,
   "metadata": {},
   "outputs": [],
   "source": [
    "\n",
    "ff_model = keras.Sequential([\n",
    "    keras.layers.InputLayer(input_shape=x.shape[1:]),\n",
    "    keras.layers.Dense(units=5, activation=\"relu\"),\n",
    "    keras.layers.Dense(units=1),\n",
    "])\n",
    "ff_model.compile(\"sgd\", loss=\"mean_absolute_error\", metrics=[\"mean_squared_error\"])\n",
    "#ff_model.summary()\n",
    "\n",
    "\n",
    "ff_model.fit(x, y, epochs=20) #Categorical Cross Entropy"
   ]
  },
  {
   "cell_type": "code",
   "execution_count": null,
   "metadata": {},
   "outputs": [],
   "source": []
  },
  {
   "cell_type": "code",
   "execution_count": null,
   "metadata": {},
   "outputs": [],
   "source": []
  },
  {
   "cell_type": "code",
   "execution_count": null,
   "metadata": {},
   "outputs": [],
   "source": []
  },
  {
   "cell_type": "code",
   "execution_count": null,
   "metadata": {},
   "outputs": [],
   "source": []
  },
  {
   "cell_type": "code",
   "execution_count": null,
   "metadata": {},
   "outputs": [],
   "source": [
    " \n",
    "\n",
    "model = Sequential()\n",
    "# Dense(64) is a fully-connected layer with 64 hidden units.\n",
    "# The 'kernel_initializer' parameter allows us to set the distribution of the\n",
    "# randomized weights that the layer is initialized with.\n",
    "model.add(Dense(64, input_dim=X_train.shape[1], kernel_initializer=\"uniform\"))\n",
    "model.add(Activation('tanh'))\n",
    "model.add(Dropout(0.5))\n",
    "model.add(Dense(64, kernel_initializer=\"uniform\"))\n",
    "model.add(Activation('tanh'))\n",
    "model.add(Dropout(0.5))\n",
    "model.add(Dense(46, kernel_initializer=\"uniform\"))\n",
    "model.add(Activation('softmax'))\n",
    "\n",
    "# Momentum: how much the weights are adjusted in response to the current gradient.\n",
    "# Nesterov momentum: weights are adjusted by gradient descent, but gradient is also corrected\n",
    "# after each step by examining the direction of the gradient at the new location.\n",
    "sgd = SGD(lr=0.1, decay=1e-6, momentum=0.9, nesterov=True)\n",
    "model.compile(loss='sparse_categorical_crossentropy',\n",
    "              optimizer=sgd,\n",
    "              metrics=['accuracy'])\n",
    "\n",
    "model.fit(X_train, y_train,\n",
    "          epochs=20,\n",
    "          batch_size=16)\n",
    "score = model.evaluate(X_test, y_test, batch_size=16)"
   ]
  },
  {
   "cell_type": "code",
   "execution_count": null,
   "metadata": {},
   "outputs": [],
   "source": [
    "import random\n",
    " \n",
    "from matplotlib.pyplot import figure\n",
    "cell_type=['LYMPH','NEUT','BASO','EOSI','MONO']\n",
    "cell_type=['LYMPH','NEUT','MONO']\n",
    "\n",
    "#mHS = [cv2.imread(f)[:,:,::-1] for f in glob.glob('./samples/MHS/*/*.png') ]\n",
    "mHS = [cv2.imread(f)[:,:,::-1] for f in glob.glob('./samples/From Cell images/*/*.png') ]\n",
    " \n",
    "\n",
    "for im in mHS :# mHS:  #random.sample(pBC, 10) :random.sample(jX, 10) :\n",
    "    print( cell_type[pickled_model.predict([features(im, fe)])[0]])\n",
    "    \n",
    "    figure(figsize=(7, 7))\n",
    "\n",
    "    plt.subplot(121)\n",
    "    plt.imshow(im)\n",
    "    plt.subplot(122)\n",
    "    plt.imshow(deep_segment(im))\n",
    "    plt.show()"
   ]
  },
  {
   "cell_type": "code",
   "execution_count": null,
   "metadata": {},
   "outputs": [],
   "source": [
    "...\n",
    "# define baseline model\n",
    "def baseline_model():\n",
    "    # create model\n",
    "    model = Sequential()\n",
    "    model.add(Dense(8, input_dim=4, activation='relu'))\n",
    "    model.add(Dense(3, activation='softmax'))\n",
    "    # Compile model\n",
    "    model.compile(loss='categorical_crossentropy', optimizer='adam', metrics=['accuracy'])\n",
    "    return model\n",
    "\n",
    "estimator = KerasClassifier(build_fn=baseline_model, epochs=200, batch_size=5, verbose=0)\n"
   ]
  },
  {
   "cell_type": "code",
   "execution_count": null,
   "metadata": {},
   "outputs": [],
   "source": [
    "int(img[i,j,2])-int(img[i,j,0])\n",
    "\n",
    "\n"
   ]
  },
  {
   "cell_type": "code",
   "execution_count": null,
   "metadata": {},
   "outputs": [],
   "source": [
    "import pickle\n",
    "\n",
    "x,y=alldata(3,3)\n",
    "\n",
    "pickled_model = pickle.load(open('KNeighborsClassifier_3classes.pkl', 'rb'))\n",
    "predictions=pickled_model.predict(x)\n",
    "accuracy_score(y, predictions)"
   ]
  },
  {
   "cell_type": "code",
   "execution_count": null,
   "metadata": {},
   "outputs": [],
   "source": [
    "x=200\n",
    "im=mic_img[0][1355+x:1370+x,980+x:1000+x,:]\n",
    "plt.imshow(im)\n",
    "plt.show()\n",
    "mic_img[0][1558,1183,:]"
   ]
  },
  {
   "cell_type": "code",
   "execution_count": null,
   "metadata": {},
   "outputs": [],
   "source": [
    "import pickle\n",
    "\n",
    "x,y=alldata(3,2)\n",
    "\n",
    "pickled_model = pickle.load(open('KNeighborsClassifier_3classes_2feat.pkl', 'rb'))\n",
    "predictions=pickled_model.predict(x)\n",
    "accuracy_score(y, predictions)"
   ]
  },
  {
   "cell_type": "code",
   "execution_count": null,
   "metadata": {},
   "outputs": [],
   "source": [
    "import pickle\n",
    "\n",
    "x,y=alldata(3,2)\n",
    "\n",
    "pickled_model = pickle.load(open('MLPClassifier_3classes_2feat.pkl', 'rb'))\n",
    "predictions=pickled_model.predict(x)\n",
    "accuracy_score(y, predictions)"
   ]
  },
  {
   "cell_type": "code",
   "execution_count": null,
   "metadata": {},
   "outputs": [],
   "source": [
    "import pickle\n",
    "\n",
    "x,y=alldata(3,3)\n",
    "\n",
    "pickled_model = pickle.load(open('MLPClassifier_3classes_3feat.pkl', 'rb'))\n",
    "predictions=pickled_model.predict(x)\n",
    "accuracy_score(y, predictions)"
   ]
  },
  {
   "cell_type": "code",
   "execution_count": null,
   "metadata": {},
   "outputs": [],
   "source": [
    "import pickle\n",
    "\n",
    "x,y=alldata(5,3)\n",
    "\n",
    "pickled_model = pickle.load(open('MLPClassifier_5classes_3feat.pkl', 'rb'))\n",
    "predictions=pickled_model.predict(x)\n",
    "accuracy_score(y, predictions)"
   ]
  },
  {
   "cell_type": "code",
   "execution_count": null,
   "metadata": {},
   "outputs": [],
   "source": [
    "\n",
    "\n",
    "import pickle\n",
    "\n",
    "x,y=alldata(3,2)\n",
    "\n",
    "pickled_model = pickle.load(open('AdaBoostClassifier_3classes_2feat.pkl', 'rb'))\n",
    "predictions=pickled_model.predict(x)\n",
    "accuracy_score(y, predictions)"
   ]
  },
  {
   "cell_type": "code",
   "execution_count": null,
   "metadata": {},
   "outputs": [],
   "source": [
    "import pickle\n",
    "x,y=alldata(3,1)\n",
    "pickled_model = pickle.load(open('MLPClassifier_3classes_1feat.pkl', 'rb'))\n",
    "predictions=pickled_model.predict(x)\n",
    "accuracy_score(y, predictions)"
   ]
  },
  {
   "cell_type": "code",
   "execution_count": null,
   "metadata": {},
   "outputs": [],
   "source": [
    "import pickle\n",
    "x,y=alldata(5,3)\n",
    "pickled_model = pickle.load(open('GaussianNB_5classes.pkl', 'rb'))\n",
    "predictions=pickled_model.predict(x)\n",
    "accuracy_score(y, predictions)"
   ]
  },
  {
   "cell_type": "code",
   "execution_count": null,
   "metadata": {},
   "outputs": [],
   "source": [
    "import pickle\n",
    "x,y=alldata(5,1)\n",
    "pickled_model = pickle.load(open('RandomForestClassifier_3Classes_1Feat.pkl', 'rb'))\n",
    "predictions=pickled_model.predict(x)\n",
    "accuracy_score(y, predictions)"
   ]
  },
  {
   "cell_type": "code",
   "execution_count": null,
   "metadata": {},
   "outputs": [],
   "source": [
    "clf=GaussianNB()\n",
    "X_train=x\n",
    "y_train=y1\n",
    "clf.fit(X_train, y_train)\n",
    "predictions=clf.predict(X_train)\n",
    "accuracy_score(y_train, predictions)\n",
    "import pickle\n",
    "pickle.dump(clf, open('GaussianNB.pkl', 'wb'))"
   ]
  },
  {
   "cell_type": "code",
   "execution_count": null,
   "metadata": {},
   "outputs": [],
   "source": [
    "pickled_model = pickle.load(open('GaussianNB.pkl', 'rb'))\n",
    "predictions=pickled_model.predict(X_train)\n",
    "accuracy_score(y_train, predictions)\n",
    "\n"
   ]
  },
  {
   "cell_type": "code",
   "execution_count": null,
   "metadata": {},
   "outputs": [],
   "source": [
    "import random\n",
    " \n",
    "from matplotlib.pyplot import figure\n",
    "cell_type=['LYMPH','NEUT','BASO','EOSI','MONO']\n",
    "\n",
    "\n",
    "#mHS = [cv2.imread(f)[:,:,::-1] for f in glob.glob('./samples/MHS/*/*.png') ]\n",
    "mHS = [cv2.imread(f)[:,:,::-1] for f in glob.glob('./samples/From Cell images/*/*.png') ]\n",
    "\n",
    "\n",
    "for im in mHS:# mHS:  #random.sample(pBC, 10) :random.sample(jX, 10) :\n",
    "    mask=mask_cell(im)\n",
    "    print(cell_type[ pickled_model.predict([obj.describe(mask)])[0]])\n",
    "    \n",
    "    figure(figsize=(15, 15))\n",
    "\n",
    "    plt.subplot(141)\n",
    "    plt.imshow(im)\n",
    "    plt.subplot(142)\n",
    "    plt.imshow(deep_segment(im))\n",
    "    plt.subplot(143)\n",
    "    plt.imshow(get_nuc_and_cyt(deep_segment(im))[0])\n",
    "    plt.subplot(144)\n",
    "    plt.imshow(mask)\n",
    "    plt.show()"
   ]
  }
 ],
 "metadata": {
  "kernelspec": {
   "display_name": "Python 3",
   "language": "python",
   "name": "python3"
  },
  "language_info": {
   "codemirror_mode": {
    "name": "ipython",
    "version": 3
   },
   "file_extension": ".py",
   "mimetype": "text/x-python",
   "name": "python",
   "nbconvert_exporter": "python",
   "pygments_lexer": "ipython3",
   "version": "3.8.5"
  }
 },
 "nbformat": 4,
 "nbformat_minor": 5
}
