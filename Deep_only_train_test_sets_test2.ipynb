{
 "cells": [
  {
   "cell_type": "code",
   "execution_count": 1,
   "metadata": {
    "scrolled": true
   },
   "outputs": [],
   "source": [
    "import cv2\n",
    "import numpy as np\n",
    "import matplotlib.pyplot as plt\n",
    "\n",
    "from AI.Features.Segmenting import deep_segment\n",
    "#from AI.Features.SegmentingV2 import deep_segment\n",
    "#from AI.Features.SegmentingV8 import deep_segment\n",
    "\n",
    "from AI.Features.Segmenting import restore_mask\n",
    "#from AI.Features.SegmentingV8 import restore_mask\n",
    "\n",
    "from skimage import measure\n",
    "import glob\n",
    "import pandas as pd \n",
    "\n",
    "from sklearn.decomposition import PCA\n",
    "from sklearn.preprocessing import StandardScaler\n",
    "from sklearn.discriminant_analysis import LinearDiscriminantAnalysis\n",
    "\n",
    "from sklearn import tree\n",
    "from sklearn.neighbors import KNeighborsClassifier\n",
    "from sklearn.metrics import accuracy_score\n",
    "from sklearn.model_selection import KFold\n",
    "from sklearn.model_selection import RepeatedKFold\n",
    "from sklearn import metrics\n",
    "from sklearn.metrics import accuracy_score,f1_score\n",
    "from sklearn.neural_network import MLPClassifier\n",
    "from sklearn.neighbors import KNeighborsClassifier\n",
    "from sklearn.svm import SVC\n",
    "from sklearn.gaussian_process import GaussianProcessClassifier\n",
    "from sklearn.gaussian_process.kernels import RBF\n",
    "from sklearn.tree import DecisionTreeClassifier\n",
    "from sklearn.ensemble import RandomForestClassifier, AdaBoostClassifier\n",
    "from sklearn.naive_bayes import GaussianNB\n",
    "from sklearn.discriminant_analysis import QuadraticDiscriminantAnalysis\n",
    "\n",
    "from skimage import feature\n",
    "import os"
   ]
  },
  {
   "cell_type": "code",
   "execution_count": 2,
   "metadata": {},
   "outputs": [],
   "source": [
    "## Augmentation Function\n",
    "\n",
    "from numpy import expand_dims\n",
    "from keras.preprocessing.image import load_img\n",
    "from keras.preprocessing.image import img_to_array\n",
    "from keras.preprocessing.image import ImageDataGenerator\n",
    "from matplotlib import pyplot\n",
    "def augm(lst, nm=5):\n",
    "    # prepare iterator\n",
    "    ls_gen=[]\n",
    "    for arr in lst:\n",
    "\n",
    "        data = arr\n",
    "        # expand dimension to one sample\n",
    "        samples = expand_dims(data, 0)\n",
    "        # create image data augmentation generator\n",
    "        datagen = ImageDataGenerator(zoom_range=[0.5,1.0],\n",
    "                                     brightness_range=[0.8,1],\n",
    "                                     #rotation_range=50,\n",
    "                                     width_shift_range=[0,.1],\n",
    "                                     height_shift_range=[0,.1],\n",
    "                                    #vertical_flip =True,\n",
    "                                    #horizontal_flip=True\n",
    "                                    ) \n",
    "        it = datagen.flow(samples, batch_size=1)\n",
    "        # generate samples and plot\n",
    "\n",
    "        for i in range(nm):\n",
    "            # define subplot\n",
    "            #pyplot.subplot(330 + 1 + i)\n",
    "            # generate batch of images\n",
    "            batch = it.next()\n",
    "            # convert to unsigned integers for viewing\n",
    "            image = batch[0].astype('uint8')\n",
    "            ls_gen.append(image)\n",
    "    return lst+ls_gen"
   ]
  },
  {
   "cell_type": "code",
   "execution_count": 23,
   "metadata": {},
   "outputs": [
    {
     "name": "stdout",
     "output_type": "stream",
     "text": [
      "lymph= 5725\n",
      "neut= 5860\n",
      "MONO= 409\n",
      "BASO= 85\n",
      "EOSI= 596\n",
      "[5725, 5860, 409, 85, 596]\n",
      "12675\n"
     ]
    },
    {
     "data": {
      "image/png": "[encoded data removed]",
      "text/plain": [
       "<Figure size 432x288 with 1 Axes>"
      ]
     },
     "metadata": {
      "needs_background": "light"
     },
     "output_type": "display_data"
    },
    {
     "data": {
      "image/png": "[encoded data removed]",
      "text/plain": [
       "<Figure size 504x504 with 1 Axes>"
      ]
     },
     "metadata": {},
     "output_type": "display_data"
    }
   ],
   "source": [
    "path1='./samples/Experiment/Training/*/*/'    \n",
    "lymph = [cv2.imread(f)[:,:,::-1] for f in glob.glob(path1+'Lymphocyte/*.png') if os.path.getsize(f)>200]\n",
    "neut =  [cv2.imread(f)[:,:,::-1] for f in glob.glob(path1+'Neutrophil/*.png') if os.path.getsize(f)>200]\n",
    "BASO =  [cv2.imread(f)[:,:,::-1] for f in glob.glob(path1+'Basophil/*.png') if os.path.getsize(f)>200]\n",
    "EOSI =  [cv2.imread(f)[:,:,::-1] for f in glob.glob(path1+'Eosinophil/*.png') if os.path.getsize(f)>200]\n",
    "MONO =  [cv2.imread(f)[:,:,::-1] for f in glob.glob(path1+'Monocyte/*.png')if os.path.getsize(f)>200]\n",
    "\n",
    "#MONO=augm(MONO, nm=3)\n",
    "\n",
    "ln=[len(lymph),len(neut),len(MONO),len(BASO),len(EOSI)]\n",
    "print('lymph=',len(lymph))\n",
    "print('neut=',len(neut))\n",
    "print('MONO=',len(MONO))\n",
    "print('BASO=',len(BASO))\n",
    "print('EOSI=',len(EOSI))\n",
    "\n",
    "print(ln)\n",
    "print(sum(ln))\n",
    "ls5=len(lymph)*[0] + len(neut)*[1]+len(MONO)*[2]+len(BASO)*[3]+len(EOSI)*[4]\n",
    "p=plt.hist(ls5,10)\n",
    "plt.show()\n",
    "\n",
    "y = np.array(ln)\n",
    "mylabels =[\"lymph\",\"neut\",\"MONO\",\"BASO\",\"EOSI\"] \n",
    "plt.figure(figsize=(7, 7))\n",
    "plt.pie(y, labels = mylabels, startangle = 10)\n",
    "plt.legend()\n",
    "plt.show()\n"
   ]
  },
  {
   "cell_type": "code",
   "execution_count": 24,
   "metadata": {},
   "outputs": [
    {
     "name": "stdout",
     "output_type": "stream",
     "text": [
      "lymph= 5725         lymph_perc= 0.4516765285996055\n",
      "neut= 5860           neut_perc= 0.46232741617357004\n",
      "MONO= 409           MONO_perc= 0.03226824457593688\n",
      "BASO= 85           BASO_perc= 0.0067061143984220905\n",
      "EOSI= 596           EOSI_perc= 0.04702169625246548\n"
     ]
    }
   ],
   "source": [
    "ln=[len(lymph),len(neut),len(MONO),len(BASO),len(EOSI)]\n",
    "sum_all=len(lymph)+len(neut)+len(MONO)+len(BASO)+len(EOSI)\n",
    "print('lymph=',len(lymph),'        lymph_perc=',len(lymph)/sum_all)\n",
    "print('neut=',len(neut),'          neut_perc=',len(neut)/sum_all)\n",
    "print('MONO=',len(MONO),'          MONO_perc=',len(MONO)/sum_all)\n",
    "print('BASO=',len(BASO),'          BASO_perc=',len(BASO)/sum_all)\n",
    "print('EOSI=',len(EOSI),'          EOSI_perc=',len(EOSI)/sum_all)\n"
   ]
  },
  {
   "cell_type": "code",
   "execution_count": 4,
   "metadata": {},
   "outputs": [
    {
     "data": {
      "image/png": "[encoded data removed]",
      "text/plain": [
       "<Figure size 432x288 with 1 Axes>"
      ]
     },
     "metadata": {
      "needs_background": "light"
     },
     "output_type": "display_data"
    }
   ],
   "source": [
    "def get_nuc_and_cyt(segmented):\n",
    "    nuc = (segmented==2).astype('uint8')\n",
    "    cyt = (segmented==1).astype('uint8')\n",
    "    #cyt,nuc=restore_mask(segmented)\n",
    "    return cyt,nuc\n",
    "     \n",
    "def mask_cell(img):\n",
    "    im_mask=deep_segment(img)\n",
    "    #print(im_mask.sum())\n",
    "    #if im_mask.sum()<1000:\n",
    "    #    print(\"No Cell detected\")\n",
    "    #    return img\n",
    "    cyt,nuc= get_nuc_and_cyt(im_mask)\n",
    "    if nuc.sum()!=0:\n",
    "        #reg=measure.regionprops(cyt)\n",
    "        tb=measure.regionprops(cyt)[0]['bbox']\n",
    "    else:\n",
    "        print(\"No cell detected...........\")\n",
    "        tb=(0,0,img.shape[0]-1,img.shape[1]-1)\n",
    "    #img=cv2.blur(img,(3,3))                #++\n",
    "    #img=cv2.medianBlur(img,15)\n",
    "     \n",
    "    im=img.copy()\n",
    "    rows=im_mask.shape[0]\n",
    "    columns=im_mask.shape[1]\n",
    "    for i in range(rows):\n",
    "        for j in range(columns):\n",
    "            if im_mask[i,j]==0:\n",
    "                im[i,j,:]=0\n",
    "    im=im[tb[0]:tb[2],tb[1]:tb[3]]  #to crop it around box\n",
    "    #im=cv2.resize(im,(100,100))\n",
    "    return im\n",
    "\n",
    "img=mask_cell(neut[15])\n",
    "plt.imshow(img)\n",
    "plt.show()"
   ]
  },
  {
   "cell_type": "code",
   "execution_count": 5,
   "metadata": {},
   "outputs": [
    {
     "data": {
      "image/png": "[encoded data removed]",
      "text/plain": [
       "<Figure size 432x288 with 1 Axes>"
      ]
     },
     "metadata": {
      "needs_background": "light"
     },
     "output_type": "display_data"
    }
   ],
   "source": [
    "def mask_cell_nec(img):\n",
    "    im_mask=deep_segment(img)\n",
    "    #print(im_mask.sum())\n",
    "    #if im_mask.sum()<1000:\n",
    "    #    print(\"No Cell detected\")\n",
    "    #    return img\n",
    "    cyt,nuc= get_nuc_and_cyt(im_mask)\n",
    "    if nuc.sum()!=0:\n",
    "        #reg=measure.regionprops(cyt)\n",
    "        tb=measure.regionprops(nuc)[0]['bbox']\n",
    "    else:\n",
    "        print(\"No cell detected...........\")\n",
    "        tb=(0,0,img.shape[0]-1,img.shape[1]-1)\n",
    "    #img=cv2.blur(img,(3,3))                #++\n",
    "    #img=cv2.medianBlur(img,15)\n",
    "     \n",
    "    im=img.copy()\n",
    "    rows=im_mask.shape[0]\n",
    "    columns=im_mask.shape[1]\n",
    "    for i in range(rows):\n",
    "        for j in range(columns):\n",
    "            if im_mask[i,j]==0:\n",
    "                im[i,j,:]=0\n",
    "    im=im[tb[0]:tb[2],tb[1]:tb[3]]  #to crop it around box\n",
    "    #im=cv2.resize(im,(100,100))\n",
    "    return im\n",
    "\n",
    "img=mask_cell_nec(neut[15])\n",
    "plt.imshow(img)\n",
    "plt.show()"
   ]
  },
  {
   "cell_type": "code",
   "execution_count": 6,
   "metadata": {},
   "outputs": [
    {
     "data": {
      "text/plain": [
       "'\\nmodule = tf.keras.Sequential([\\n    hub.KerasLayer(\"https://tfhub.dev/google/imagenet/efficientnet_v2_imagenet21k_s/feature_vector/2\",\\n                   trainable=False),  # Can be True, see below.\\n    #tf.keras.layers.Dense(num_classes, activation=\\'softmax\\')\\n])\\nmodule.build([None, 384, 384, 3])  # Batch input shape.\\n'"
      ]
     },
     "execution_count": 6,
     "metadata": {},
     "output_type": "execute_result"
    }
   ],
   "source": [
    "import tensorflow as tf\n",
    "import tensorflow_hub as hub\n",
    "\n",
    "import tensorflow_datasets as tfds\n",
    "\n",
    "import time\n",
    "\n",
    "from PIL import Image\n",
    "import requests\n",
    "from io import BytesIO\n",
    "\n",
    "import matplotlib.pyplot as plt\n",
    "import numpy as np\n",
    "\n",
    "import os\n",
    "import pathlib\n",
    "\n",
    "import cv2\n",
    "\n",
    "# Load model into KerasLayer\n",
    "#model_url = \"https://tfhub.dev/google/bit/m-r50x1/1\"\n",
    "#model_url = \"https://tfhub.dev/google/imagenet/efficientnet_v2_imagenet21k_s/feature_vector/2\" #.99\n",
    "#model_url = \"https://tfhub.dev/google/imagenet/resnet_v2_152/feature_vector/5\"          #97\n",
    "model_url = \".\\imagenet_efficientnet_v2_imagenet21k_s_feature_vector_2\"\n",
    "module = hub.KerasLayer(model_url)\n",
    "\n",
    "\"\"\"\n",
    "module = tf.keras.Sequential([\n",
    "    hub.KerasLayer(\"https://tfhub.dev/google/imagenet/efficientnet_v2_imagenet21k_s/feature_vector/2\",\n",
    "                   trainable=False),  # Can be True, see below.\n",
    "    #tf.keras.layers.Dense(num_classes, activation='softmax')\n",
    "])\n",
    "module.build([None, 384, 384, 3])  # Batch input shape.\n",
    "\"\"\""
   ]
  },
  {
   "cell_type": "code",
   "execution_count": 7,
   "metadata": {},
   "outputs": [
    {
     "data": {
      "text/plain": [
       "(1280,)"
      ]
     },
     "execution_count": 7,
     "metadata": {},
     "output_type": "execute_result"
    }
   ],
   "source": [
    "def deepfeature(image):\n",
    "    image = np.array(image)\n",
    "    if len(image.shape)==2:\n",
    "        backtorgb = cv2.cvtColor(np.array(image, dtype=np.uint8),cv2.COLOR_GRAY2RGB)\n",
    "        image=backtorgb\n",
    "        \"\"\"\n",
    "        image2=np.zeros((image.shape[0], image.shape[1],3),np.int32)\n",
    "        image2[:,:,0]=image[:,:]\n",
    "        image2[:,:,1]=image[:,:]\n",
    "        image2[:,:,2]=image[:,:]\n",
    "        image=image2\n",
    "        \"\"\"\n",
    "    image=cv2.resize(image,(384,384))\n",
    "    # reshape into shape [batch_size, height, width, num_channels]\n",
    "    img_reshaped = tf.reshape(image, [1, image.shape[0], image.shape[1], image.shape[2]])\n",
    "    # Use `convert_image_dtype` to convert to floats in the [0,1] range.\n",
    "    image = tf.image.convert_image_dtype(img_reshaped, tf.float32)\n",
    "    logits=module(image)\n",
    "    return np.array(logits)[0]\n",
    " \n",
    "image=lymph[10]\n",
    "logits =deepfeature(image) # module(preprocess_image(image))\n",
    "logits.shape\n",
    " "
   ]
  },
  {
   "cell_type": "code",
   "execution_count": 8,
   "metadata": {},
   "outputs": [],
   "source": [
    "#obj=LocalBinaryPatterns(points,8)\n",
    "\n",
    "def features(c, f):\n",
    "    if f==1:\n",
    "        return all_together(c) \n",
    "    elif f==2:\n",
    "        return obj.describe(mask_cell(c))\n",
    "    elif f==3:\n",
    "        return LBP_and_extent(c)\n",
    "    elif f==4:\n",
    "        return vggface3(c)\n",
    "    elif f==5:\n",
    "        return SOE_and_extent(c)\n",
    "    elif f==6:\n",
    "        return SOE_LBP_and_extent(c)\n",
    "    elif f==7:\n",
    "        return deepfeature(mask_cell_nec(c))#mask_cell(c))\n",
    "    elif f==8:\n",
    "        return SOE(c)\n",
    "    elif f==9:\n",
    "        return shape_features(c)\n",
    "    elif f==10:\n",
    "        return shapef_and_SOE(c)    \n",
    "    elif f==11:\n",
    "        return shapef_and_SOE_extent(c)    \n",
    "    elif f==12:\n",
    "        return shapef_and_SOE_extent_LBP(c)  \n",
    "    elif f==13:\n",
    "        return shapef_extent(c)  \n",
    "    elif f==14:\n",
    "        return GLCM(mask_cell(c))\n",
    "    elif f==15:\n",
    "        return shapef_GLCM(c)\n",
    "    elif f==16:\n",
    "        return shapef_GLCM_SOE(c)  \n",
    "    elif f==17:\n",
    "        return HOG_im(c)[0]    \n",
    "    elif f==18:\n",
    "        return shapef_GLCM_SOE_HOG(c)\n",
    "    elif f==19:\n",
    "        #PCA\n",
    "        c=cv2.resize(mask_cell(c),(100,100))\n",
    "        return c.reshape(-1)  \n",
    "    \n",
    "    elif f==20:\n",
    "        #lda\n",
    "        c=cv2.resize(mask_cell(c),(100,100))\n",
    "        return c.reshape(-1)\n",
    "    elif f==21:\n",
    "        return shapef_GLCM_SOE_HOG_deep(c)\n",
    "    elif f==22:\n",
    "        return shapef_GLCM_SOE_deep(c)   "
   ]
  },
  {
   "cell_type": "code",
   "execution_count": 9,
   "metadata": {},
   "outputs": [],
   "source": [
    "\n",
    "def alldata(cls,ft):\n",
    "\n",
    "    if cls==2:\n",
    "        lymph_extent = [ features(c, ft) for c in lymph]\n",
    "        neut_extent = [features(c, ft) for c in neut]\n",
    "        x = np.array(lymph_extent + neut_extent)#\n",
    "        if ft==1: x=x.reshape(-1, 1)\n",
    "        y = len(lymph_extent)*[0] + len(neut_extent)*[1]\n",
    "\n",
    "    \n",
    "    elif cls==3:\n",
    "        neut_extent = [features(c, ft) for c in neut]\n",
    "        lymph_extent = [features(c, ft) for c in lymph]\n",
    "        MONO_extent = [ features(c, ft)  for c  in MONO]\n",
    "        x = np.array(lymph_extent + neut_extent+ MONO_extent)#.reshape(-1, 1)\n",
    "        if ft==1: x=x.reshape(-1, 1)\n",
    "        y = len(lymph_extent)*[0] + len(neut_extent)*[1]+len(MONO_extent)*[2]\n",
    "        \n",
    "    elif cls==5:\n",
    "        neut_extent = [features(c, ft)  for c  in neut]\n",
    "        lymph_extent = [features(c, ft)  for c  in lymph]\n",
    "        BASO_extent = [ features(c, ft)  for c  in BASO]\n",
    "        EOSI_extent = [ features(c, ft)  for c in EOSI]\n",
    "        MONO_extent = [ features(c, ft)  for c  in MONO]\n",
    "        x = np.array(lymph_extent + neut_extent+ BASO_extent+ EOSI_extent+ MONO_extent)#.reshape(-1, 1)\n",
    "        if ft==1: x=x.reshape(-1, 1)\n",
    "        y = len(lymph_extent)*[0] + len(neut_extent)*[1]+len(BASO_extent)*[2]+len(EOSI_extent)*[3]+len(MONO_extent)*[4]\n",
    "        \n",
    "    return x,y"
   ]
  },
  {
   "cell_type": "code",
   "execution_count": 10,
   "metadata": {},
   "outputs": [],
   "source": [
    "\n",
    "\n",
    "\n",
    "def classif(cls,ft):\n",
    "    print('#########################################################################################')\n",
    "    print()\n",
    "    print(\"classes=\",cls,'   Features type=',ft)\n",
    "    print()\n",
    "    \n",
    "    if ft==19:  pca = PCA(n_components=50)\n",
    "    if ft==20:  lda = LinearDiscriminantAnalysis(n_components=4)\n",
    "        \n",
    "    x,y=alldata(cls,ft)\n",
    "    \n",
    "    print('training length=',len(x))\n",
    "    print()\n",
    "    print('#########################################################################################')    \n",
    "    names = [\"Decision Tree\",\"Nearest Neighbors\", \"Neural Net\", \"AdaBoost\", \"SVM\", \"GaussianNB\",\n",
    "             \"Random Forest\"]\n",
    "\n",
    "    classifiers = [tree.DecisionTreeClassifier(class_weight = 'balanced', max_depth = 1),\n",
    "                   KNeighborsClassifier(7),\n",
    "                   MLPClassifier(alpha=.1, max_iter=10000),\n",
    "                   AdaBoostClassifier(),\n",
    "                   SVC(gamma=2, C=1),\n",
    "                   GaussianNB(),\n",
    "                   RandomForestClassifier(max_depth=1, n_estimators=10, max_features=1)\n",
    "                   ]\n",
    "    classifiers=[MLPClassifier(alpha=.1, max_iter=10000)]\n",
    "    rkf=RepeatedKFold(n_splits=10, n_repeats=1, random_state=0)\n",
    "    y1=np.array(y)\n",
    "    for name, clf in zip(names, classifiers):\n",
    "        list=[]\n",
    "        list_tr=[]\n",
    "        for train, test in rkf.split(x):\n",
    "            #print(\"%s %s\" % (train, test),\"\\n\")\n",
    "            #print(y1[train])\n",
    "            X_train, X_test, y_train, y_test=x[train], x[test], y1[train], y1[test]\n",
    "            \n",
    "            if ft==19: #PCA\n",
    "                #X_train = StandardScaler().fit_transform(X_train)\n",
    "                #X_test = StandardScaler().fit_transform(X_test)\n",
    "                X_train=pca.fit_transform(X_train)\n",
    "                X_test= pca.transform(X_test)\n",
    "                \n",
    "            if ft==20: #LDA\n",
    "                #X_train = StandardScaler().fit_transform(X_train)\n",
    "                #X_test = StandardScaler().fit_transform(X_test)\n",
    "                X_train=lda.fit_transform(X_train,y_train)\n",
    "                X_test= lda.transform(X_test)\n",
    "                \n",
    "            clf.fit(X_train, y_train)\n",
    "            predictions=clf.predict(X_test)\n",
    "            #list.append(accuracy_score(y_test, predictions))\n",
    "            list.append(f1_score(y_test, predictions,average='micro'))\n",
    "            \n",
    "            list_tr.append(accuracy_score(y_train, clf.predict(X_train)))\n",
    "\n",
    "        print()\n",
    "        print(name)\n",
    "        #print(list_tr,\"\\n\")\n",
    "        print(\"Training Accuracy\",end=\" : \")\n",
    "        print(\"\\t\",np.array(list_tr).mean(),\"\\t\\terror +/-=\",np.array(list_tr).std())\n",
    "\n",
    "        #print(list,\"\\n\")\n",
    "        print(\"Test Accuracy\",end=\" : \")\n",
    "        print(\"\\t\",np.array(list).mean(),\"\\t\\terror +/-=\",np.array(list).std())"
   ]
  },
  {
   "cell_type": "code",
   "execution_count": null,
   "metadata": {
    "scrolled": false
   },
   "outputs": [],
   "source": [
    "for cls in [2,3,5]: \n",
    "    for ft in [7]:#[1,2,3]:\n",
    "        classif(cls,ft)"
   ]
  },
  {
   "cell_type": "code",
   "execution_count": null,
   "metadata": {},
   "outputs": [],
   "source": [
    "##########################################################################################"
   ]
  },
  {
   "cell_type": "code",
   "execution_count": 22,
   "metadata": {},
   "outputs": [
    {
     "name": "stdout",
     "output_type": "stream",
     "text": [
      "lymph= 8308         lymph_perc= 0.42275595359250967\n",
      "neut= 9738           neut_perc= 0.49552208426623245\n",
      "MONO= 761           MONO_perc= 0.038723794015876244\n",
      "BASO= 119           BASO_perc= 0.006055363321799308\n",
      "EOSI= 726           EOSI_perc= 0.036942804803582335\n",
      "[8308, 9738, 761, 119, 726]\n",
      "19652\n"
     ]
    },
    {
     "data": {
      "image/png": "[encoded data removed]",
      "text/plain": [
       "<Figure size 432x288 with 1 Axes>"
      ]
     },
     "metadata": {
      "needs_background": "light"
     },
     "output_type": "display_data"
    },
    {
     "data": {
      "image/png": "[encoded data removed]",
      "text/plain": [
       "<Figure size 504x504 with 1 Axes>"
      ]
     },
     "metadata": {},
     "output_type": "display_data"
    }
   ],
   "source": [
    "path1='./samples/Experiment4/*/*/*/'    \n",
    "path2='.\\samples\\Experiment3\\Train\\\\'\n",
    "lymph = [cv2.imread(f)[:,:,::-1] for f in glob.glob(path1+'Lymphocyte/*.png') if os.path.getsize(f)>200]\n",
    "neut =  [cv2.imread(f)[:,:,::-1] for f in glob.glob(path1+'Neutrophil/*.png') if os.path.getsize(f)>200]\n",
    "BASO =  [cv2.imread(f)[:,:,::-1] for f in glob.glob(path1+'Basophil/*.png') if os.path.getsize(f)>200]\n",
    "EOSI =  [cv2.imread(f)[:,:,::-1] for f in glob.glob(path1+'Eosinophil/*.png') if os.path.getsize(f)>200]\n",
    "MONO =  [cv2.imread(f)[:,:,::-1] for f in glob.glob(path1+'Monocyte/*.png')if os.path.getsize(f)>200]\n",
    "\n",
    "#MONO=augm(MONO,nm=5)\n",
    "from random import sample\n",
    "\n",
    "#lymph=sample(lymph,8000)\n",
    "\n",
    "\n",
    "ln=[len(lymph),len(neut),len(MONO),len(BASO),len(EOSI)]\n",
    "sum_all=len(lymph)+len(neut)+len(MONO)+len(BASO)+len(EOSI)\n",
    "print('lymph=',len(lymph),'        lymph_perc=',len(lymph)/sum_all)\n",
    "print('neut=',len(neut),'          neut_perc=',len(neut)/sum_all)\n",
    "print('MONO=',len(MONO),'          MONO_perc=',len(MONO)/sum_all)\n",
    "print('BASO=',len(BASO),'          BASO_perc=',len(BASO)/sum_all)\n",
    "print('EOSI=',len(EOSI),'          EOSI_perc=',len(EOSI)/sum_all)\n",
    "\n",
    "print(ln)\n",
    "print(sum(ln))\n",
    "ls5=len(lymph)*[0] + len(neut)*[1]+len(MONO)*[2]+len(BASO)*[3]+len(EOSI)*[4]\n",
    "p=plt.hist(ls5,10)\n",
    "plt.show()\n",
    "\n",
    "y = np.array(ln)\n",
    "mylabels =[\"lymph\",\"neut\",\"MONO\",\"BASO\",\"EOSI\"] \n",
    "plt.figure(figsize=(7, 7))\n",
    "plt.pie(y, labels = mylabels, startangle = 10)\n",
    "plt.legend()\n",
    "plt.show()\n"
   ]
  },
  {
   "cell_type": "code",
   "execution_count": 12,
   "metadata": {},
   "outputs": [
    {
     "name": "stdout",
     "output_type": "stream",
     "text": [
      "No cell detected...........\n",
      "No cell detected...........\n"
     ]
    }
   ],
   "source": [
    "cl=5\n",
    "fe=7\n",
    "\n",
    "x,y=alldata(cl,fe)\n",
    "X_train=x\n",
    "y_train=y\n"
   ]
  },
  {
   "cell_type": "code",
   "execution_count": 13,
   "metadata": {},
   "outputs": [],
   "source": [
    "X_train=x\n",
    "y_train=y"
   ]
  },
  {
   "cell_type": "code",
   "execution_count": null,
   "metadata": {},
   "outputs": [],
   "source": []
  },
  {
   "cell_type": "code",
   "execution_count": null,
   "metadata": {},
   "outputs": [],
   "source": []
  },
  {
   "cell_type": "code",
   "execution_count": 14,
   "metadata": {},
   "outputs": [],
   "source": [
    "dic={0:[1,0,0,0,0],1:[0,1,0,0,0],2:[0,0,1,0,0],3:[0,0,0,1,0],4:[0,0,0,0,1]}\n",
    "y_train=np.array([dic[x]  for x in y_train] )\n",
    "\n",
    "#dic={0:[1,0,0,0,0],1:[0,1,0,0,0],2:[0,0,1,0,0],3:[0,0,0,1,0],4:[0,0,0,0,1]}\n",
    "#y_test=np.array([dic[x]  for x in y_test] )"
   ]
  },
  {
   "cell_type": "code",
   "execution_count": 15,
   "metadata": {},
   "outputs": [
    {
     "name": "stdout",
     "output_type": "stream",
     "text": [
      "Epoch 1/100\n",
      "1197/1197 [==============================] - 4s 3ms/step - loss: 0.6139 - accuracy: 0.8155 - val_loss: 0.1729 - val_accuracy: 0.9381\n",
      "Epoch 2/100\n",
      "1197/1197 [==============================] - 2s 1ms/step - loss: 0.3620 - accuracy: 0.8945 - val_loss: 0.1485 - val_accuracy: 0.9381\n",
      "Epoch 3/100\n",
      "1197/1197 [==============================] - 2s 2ms/step - loss: 0.3321 - accuracy: 0.8991 - val_loss: 0.1405 - val_accuracy: 0.9433\n",
      "Epoch 4/100\n",
      "1197/1197 [==============================] - 2s 2ms/step - loss: 0.3100 - accuracy: 0.9069 - val_loss: 0.1387 - val_accuracy: 0.9588\n",
      "Epoch 5/100\n",
      "1197/1197 [==============================] - 2s 2ms/step - loss: 0.3007 - accuracy: 0.9108 - val_loss: 0.1226 - val_accuracy: 0.9485\n",
      "Epoch 6/100\n",
      "1197/1197 [==============================] - 2s 2ms/step - loss: 0.2880 - accuracy: 0.9134 - val_loss: 0.1249 - val_accuracy: 0.9536\n",
      "Epoch 7/100\n",
      "1197/1197 [==============================] - 2s 2ms/step - loss: 0.2772 - accuracy: 0.9133 - val_loss: 0.1237 - val_accuracy: 0.9536\n",
      "Epoch 8/100\n",
      "1197/1197 [==============================] - 2s 1ms/step - loss: 0.2619 - accuracy: 0.9178 - val_loss: 0.1282 - val_accuracy: 0.9536\n",
      "Epoch 9/100\n",
      "1197/1197 [==============================] - 2s 1ms/step - loss: 0.2747 - accuracy: 0.9180 - val_loss: 0.1259 - val_accuracy: 0.9536\n",
      "Epoch 10/100\n",
      "1197/1197 [==============================] - 2s 2ms/step - loss: 0.2645 - accuracy: 0.9177 - val_loss: 0.1175 - val_accuracy: 0.9536\n",
      "Epoch 11/100\n",
      "1197/1197 [==============================] - 2s 1ms/step - loss: 0.2620 - accuracy: 0.9215 - val_loss: 0.1190 - val_accuracy: 0.9536\n",
      "Epoch 12/100\n",
      "1197/1197 [==============================] - 2s 1ms/step - loss: 0.2525 - accuracy: 0.9206 - val_loss: 0.1062 - val_accuracy: 0.9536\n",
      "Epoch 13/100\n",
      "1197/1197 [==============================] - 2s 1ms/step - loss: 0.2508 - accuracy: 0.9209 - val_loss: 0.1081 - val_accuracy: 0.9536\n",
      "Epoch 14/100\n",
      "1197/1197 [==============================] - 2s 1ms/step - loss: 0.2631 - accuracy: 0.9178 - val_loss: 0.1051 - val_accuracy: 0.9639\n",
      "Epoch 15/100\n",
      "1197/1197 [==============================] - 1s 1ms/step - loss: 0.2491 - accuracy: 0.9281 - val_loss: 0.0997 - val_accuracy: 0.9588\n",
      "Epoch 16/100\n",
      "1197/1197 [==============================] - 1s 1ms/step - loss: 0.2558 - accuracy: 0.9244 - val_loss: 0.1191 - val_accuracy: 0.9485\n",
      "Epoch 17/100\n",
      "1197/1197 [==============================] - 1s 1ms/step - loss: 0.2374 - accuracy: 0.9256 - val_loss: 0.0962 - val_accuracy: 0.9588\n",
      "Epoch 18/100\n",
      "1197/1197 [==============================] - 1s 1ms/step - loss: 0.2409 - accuracy: 0.9277 - val_loss: 0.1141 - val_accuracy: 0.9639\n",
      "Epoch 19/100\n",
      "1197/1197 [==============================] - 2s 1ms/step - loss: 0.2354 - accuracy: 0.9308 - val_loss: 0.1305 - val_accuracy: 0.9588\n",
      "Epoch 20/100\n",
      "1197/1197 [==============================] - 2s 1ms/step - loss: 0.2425 - accuracy: 0.9286 - val_loss: 0.1023 - val_accuracy: 0.9639\n",
      "Epoch 21/100\n",
      "1197/1197 [==============================] - 1s 1ms/step - loss: 0.2377 - accuracy: 0.9325 - val_loss: 0.1204 - val_accuracy: 0.9639\n",
      "Epoch 22/100\n",
      "1197/1197 [==============================] - 1s 1ms/step - loss: 0.2382 - accuracy: 0.9285 - val_loss: 0.1155 - val_accuracy: 0.9691\n",
      "Epoch 23/100\n",
      "1197/1197 [==============================] - 1s 1ms/step - loss: 0.2316 - accuracy: 0.9306 - val_loss: 0.1052 - val_accuracy: 0.9639\n",
      "Epoch 24/100\n",
      "1197/1197 [==============================] - 1s 1ms/step - loss: 0.2318 - accuracy: 0.9317 - val_loss: 0.1719 - val_accuracy: 0.9536\n",
      "Epoch 25/100\n",
      "1197/1197 [==============================] - 1s 1ms/step - loss: 0.2337 - accuracy: 0.9333 - val_loss: 0.0970 - val_accuracy: 0.9639\n",
      "Epoch 26/100\n",
      "1197/1197 [==============================] - 1s 1ms/step - loss: 0.2338 - accuracy: 0.9306 - val_loss: 0.0898 - val_accuracy: 0.9691\n",
      "Epoch 27/100\n",
      "1197/1197 [==============================] - 2s 1ms/step - loss: 0.2353 - accuracy: 0.9312 - val_loss: 0.0905 - val_accuracy: 0.9639\n",
      "Epoch 28/100\n",
      "1197/1197 [==============================] - 2s 1ms/step - loss: 0.2260 - accuracy: 0.9343 - val_loss: 0.0930 - val_accuracy: 0.9588\n",
      "Epoch 29/100\n",
      "1197/1197 [==============================] - 2s 1ms/step - loss: 0.2211 - accuracy: 0.9377 - val_loss: 0.0962 - val_accuracy: 0.9639\n",
      "Epoch 30/100\n",
      "1197/1197 [==============================] - 2s 1ms/step - loss: 0.2298 - accuracy: 0.9319 - val_loss: 0.0928 - val_accuracy: 0.9639\n",
      "Epoch 31/100\n",
      "1197/1197 [==============================] - 2s 1ms/step - loss: 0.2166 - accuracy: 0.9376 - val_loss: 0.0892 - val_accuracy: 0.9691\n",
      "Epoch 32/100\n",
      "1197/1197 [==============================] - 2s 1ms/step - loss: 0.2107 - accuracy: 0.9367 - val_loss: 0.0902 - val_accuracy: 0.9794\n",
      "Epoch 33/100\n",
      "1197/1197 [==============================] - 2s 1ms/step - loss: 0.2189 - accuracy: 0.9351 - val_loss: 0.0952 - val_accuracy: 0.9742\n",
      "Epoch 34/100\n",
      "1197/1197 [==============================] - 2s 1ms/step - loss: 0.2170 - accuracy: 0.9380 - val_loss: 0.0986 - val_accuracy: 0.9691\n",
      "Epoch 35/100\n",
      "1197/1197 [==============================] - 1s 1ms/step - loss: 0.2165 - accuracy: 0.9360 - val_loss: 0.1066 - val_accuracy: 0.9639\n",
      "Epoch 36/100\n",
      "1197/1197 [==============================] - 1s 1ms/step - loss: 0.2111 - accuracy: 0.9354 - val_loss: 0.0918 - val_accuracy: 0.9588\n",
      "Epoch 37/100\n",
      "1197/1197 [==============================] - 2s 1ms/step - loss: 0.2191 - accuracy: 0.9349 - val_loss: 0.1027 - val_accuracy: 0.9588\n",
      "Epoch 38/100\n",
      "1197/1197 [==============================] - 2s 1ms/step - loss: 0.2088 - accuracy: 0.9378 - val_loss: 0.0979 - val_accuracy: 0.9639\n",
      "Epoch 39/100\n",
      "1197/1197 [==============================] - 2s 1ms/step - loss: 0.2169 - accuracy: 0.9385 - val_loss: 0.1034 - val_accuracy: 0.9691\n",
      "Epoch 40/100\n",
      "1197/1197 [==============================] - 2s 1ms/step - loss: 0.2060 - accuracy: 0.9414 - val_loss: 0.0938 - val_accuracy: 0.9691\n",
      "Epoch 41/100\n",
      "1197/1197 [==============================] - 2s 1ms/step - loss: 0.2164 - accuracy: 0.9405 - val_loss: 0.0948 - val_accuracy: 0.9639\n",
      "Epoch 42/100\n",
      "1197/1197 [==============================] - 2s 1ms/step - loss: 0.2140 - accuracy: 0.9419 - val_loss: 0.0993 - val_accuracy: 0.9691\n",
      "Epoch 43/100\n",
      "1197/1197 [==============================] - 2s 1ms/step - loss: 0.2065 - accuracy: 0.9399 - val_loss: 0.0935 - val_accuracy: 0.9742\n",
      "Epoch 44/100\n",
      "1197/1197 [==============================] - 2s 1ms/step - loss: 0.2124 - accuracy: 0.9394 - val_loss: 0.0943 - val_accuracy: 0.9691\n",
      "Epoch 45/100\n",
      "1197/1197 [==============================] - 2s 1ms/step - loss: 0.2029 - accuracy: 0.9418 - val_loss: 0.0916 - val_accuracy: 0.9639\n",
      "Epoch 46/100\n",
      "1197/1197 [==============================] - 2s 1ms/step - loss: 0.1922 - accuracy: 0.9443 - val_loss: 0.1040 - val_accuracy: 0.9742\n",
      "Epoch 47/100\n",
      "1197/1197 [==============================] - 2s 1ms/step - loss: 0.2003 - accuracy: 0.9400 - val_loss: 0.0933 - val_accuracy: 0.9691\n",
      "Epoch 48/100\n",
      "1197/1197 [==============================] - 2s 1ms/step - loss: 0.2162 - accuracy: 0.9419 - val_loss: 0.1042 - val_accuracy: 0.9742\n",
      "Epoch 49/100\n",
      "1197/1197 [==============================] - 2s 1ms/step - loss: 0.2064 - accuracy: 0.9443 - val_loss: 0.0842 - val_accuracy: 0.9794\n",
      "Epoch 50/100\n",
      "1197/1197 [==============================] - 2s 1ms/step - loss: 0.1947 - accuracy: 0.9438 - val_loss: 0.0928 - val_accuracy: 0.9691\n",
      "Epoch 51/100\n",
      "1197/1197 [==============================] - 2s 1ms/step - loss: 0.2038 - accuracy: 0.9420 - val_loss: 0.0905 - val_accuracy: 0.9742\n",
      "Epoch 52/100\n",
      "1197/1197 [==============================] - 2s 1ms/step - loss: 0.2069 - accuracy: 0.9411 - val_loss: 0.0846 - val_accuracy: 0.9639\n",
      "Epoch 53/100\n",
      "1197/1197 [==============================] - 2s 1ms/step - loss: 0.2093 - accuracy: 0.9399 - val_loss: 0.0841 - val_accuracy: 0.9742\n",
      "Epoch 54/100\n",
      "1197/1197 [==============================] - 2s 1ms/step - loss: 0.1912 - accuracy: 0.9433 - val_loss: 0.0928 - val_accuracy: 0.9742\n",
      "Epoch 55/100\n",
      "1197/1197 [==============================] - 2s 1ms/step - loss: 0.2025 - accuracy: 0.9425 - val_loss: 0.1122 - val_accuracy: 0.9691\n",
      "Epoch 56/100\n",
      "1197/1197 [==============================] - 2s 1ms/step - loss: 0.2088 - accuracy: 0.9381 - val_loss: 0.0862 - val_accuracy: 0.9845\n",
      "Epoch 57/100\n",
      "1197/1197 [==============================] - 2s 1ms/step - loss: 0.1996 - accuracy: 0.9417 - val_loss: 0.0893 - val_accuracy: 0.9742\n",
      "Epoch 58/100\n",
      "1197/1197 [==============================] - 2s 1ms/step - loss: 0.1923 - accuracy: 0.9443 - val_loss: 0.0963 - val_accuracy: 0.9639\n",
      "Epoch 59/100\n",
      "1197/1197 [==============================] - 2s 1ms/step - loss: 0.1970 - accuracy: 0.9439 - val_loss: 0.0894 - val_accuracy: 0.9794\n",
      "Epoch 60/100\n",
      "1197/1197 [==============================] - 2s 1ms/step - loss: 0.1917 - accuracy: 0.9473 - val_loss: 0.0889 - val_accuracy: 0.9691\n",
      "Epoch 61/100\n",
      "1197/1197 [==============================] - 2s 1ms/step - loss: 0.1892 - accuracy: 0.9463 - val_loss: 0.0853 - val_accuracy: 0.9794\n",
      "Epoch 62/100\n",
      "1197/1197 [==============================] - 2s 1ms/step - loss: 0.1991 - accuracy: 0.9442 - val_loss: 0.0866 - val_accuracy: 0.9794\n",
      "Epoch 63/100\n",
      "1197/1197 [==============================] - 2s 1ms/step - loss: 0.2014 - accuracy: 0.9446 - val_loss: 0.0966 - val_accuracy: 0.9794\n",
      "Epoch 64/100\n",
      "1197/1197 [==============================] - 2s 1ms/step - loss: 0.1948 - accuracy: 0.9453 - val_loss: 0.0899 - val_accuracy: 0.9691\n",
      "Epoch 65/100\n",
      "1197/1197 [==============================] - 2s 1ms/step - loss: 0.2098 - accuracy: 0.9424 - val_loss: 0.0889 - val_accuracy: 0.9794\n",
      "Epoch 66/100\n",
      "1197/1197 [==============================] - 2s 1ms/step - loss: 0.2029 - accuracy: 0.9435 - val_loss: 0.0720 - val_accuracy: 0.9845\n",
      "Epoch 67/100\n",
      "1197/1197 [==============================] - 2s 1ms/step - loss: 0.1921 - accuracy: 0.9461 - val_loss: 0.0733 - val_accuracy: 0.9845\n",
      "Epoch 68/100\n",
      "1197/1197 [==============================] - 2s 1ms/step - loss: 0.1860 - accuracy: 0.9458 - val_loss: 0.0967 - val_accuracy: 0.9639\n",
      "Epoch 69/100\n",
      "1197/1197 [==============================] - 2s 1ms/step - loss: 0.2030 - accuracy: 0.9420 - val_loss: 0.0735 - val_accuracy: 0.9794\n",
      "Epoch 70/100\n",
      "1197/1197 [==============================] - 2s 1ms/step - loss: 0.1923 - accuracy: 0.9455 - val_loss: 0.0935 - val_accuracy: 0.9691\n",
      "Epoch 71/100\n",
      "1197/1197 [==============================] - 2s 1ms/step - loss: 0.1954 - accuracy: 0.9466 - val_loss: 0.0803 - val_accuracy: 0.9742\n",
      "Epoch 72/100\n",
      "1197/1197 [==============================] - 2s 1ms/step - loss: 0.1828 - accuracy: 0.9490 - val_loss: 0.0960 - val_accuracy: 0.9897\n",
      "Epoch 73/100\n",
      "1197/1197 [==============================] - 2s 1ms/step - loss: 0.1969 - accuracy: 0.9434 - val_loss: 0.0850 - val_accuracy: 0.9691\n",
      "Epoch 74/100\n",
      "1197/1197 [==============================] - 2s 1ms/step - loss: 0.1813 - accuracy: 0.9486 - val_loss: 0.0795 - val_accuracy: 0.9742\n",
      "Epoch 75/100\n",
      "1197/1197 [==============================] - 2s 1ms/step - loss: 0.1921 - accuracy: 0.9450 - val_loss: 0.0924 - val_accuracy: 0.9742\n",
      "Epoch 76/100\n",
      "1197/1197 [==============================] - 2s 1ms/step - loss: 0.1889 - accuracy: 0.9436 - val_loss: 0.0832 - val_accuracy: 0.9794\n",
      "Epoch 77/100\n",
      "1197/1197 [==============================] - 2s 1ms/step - loss: 0.1971 - accuracy: 0.9464 - val_loss: 0.0793 - val_accuracy: 0.9845\n",
      "Epoch 78/100\n",
      "1197/1197 [==============================] - 2s 1ms/step - loss: 0.1933 - accuracy: 0.9426 - val_loss: 0.0723 - val_accuracy: 0.9742\n",
      "Epoch 79/100\n",
      "1197/1197 [==============================] - 2s 1ms/step - loss: 0.1892 - accuracy: 0.9473 - val_loss: 0.0773 - val_accuracy: 0.9794\n",
      "Epoch 80/100\n",
      "1197/1197 [==============================] - ETA: 0s - loss: 0.1881 - accuracy: 0.94 - 2s 1ms/step - loss: 0.1881 - accuracy: 0.9473 - val_loss: 0.0827 - val_accuracy: 0.9794\n",
      "Epoch 81/100\n",
      "1197/1197 [==============================] - 2s 1ms/step - loss: 0.1913 - accuracy: 0.9474 - val_loss: 0.0760 - val_accuracy: 0.9845\n",
      "Epoch 82/100\n",
      "1197/1197 [==============================] - 2s 1ms/step - loss: 0.1904 - accuracy: 0.9480 - val_loss: 0.0915 - val_accuracy: 0.9742\n",
      "Epoch 83/100\n",
      "1197/1197 [==============================] - 2s 1ms/step - loss: 0.1779 - accuracy: 0.9485 - val_loss: 0.0875 - val_accuracy: 0.9742\n",
      "Epoch 84/100\n",
      "1197/1197 [==============================] - 2s 1ms/step - loss: 0.1880 - accuracy: 0.9470 - val_loss: 0.1081 - val_accuracy: 0.9588\n",
      "Epoch 85/100\n",
      "1197/1197 [==============================] - 2s 1ms/step - loss: 0.1882 - accuracy: 0.9480 - val_loss: 0.0793 - val_accuracy: 0.9794\n",
      "Epoch 86/100\n",
      "1197/1197 [==============================] - 2s 1ms/step - loss: 0.1760 - accuracy: 0.9478 - val_loss: 0.0897 - val_accuracy: 0.9742\n",
      "Epoch 87/100\n",
      "1197/1197 [==============================] - 2s 1ms/step - loss: 0.1788 - accuracy: 0.9488 - val_loss: 0.0931 - val_accuracy: 0.9845\n",
      "Epoch 88/100\n",
      "1197/1197 [==============================] - 2s 1ms/step - loss: 0.1864 - accuracy: 0.9493 - val_loss: 0.0783 - val_accuracy: 0.9794\n",
      "Epoch 89/100\n",
      "1197/1197 [==============================] - 2s 1ms/step - loss: 0.1810 - accuracy: 0.9518 - val_loss: 0.0784 - val_accuracy: 0.9742\n",
      "Epoch 90/100\n",
      "1197/1197 [==============================] - 2s 1ms/step - loss: 0.1897 - accuracy: 0.9473 - val_loss: 0.0775 - val_accuracy: 0.9794\n",
      "Epoch 91/100\n",
      "1197/1197 [==============================] - 2s 1ms/step - loss: 0.1841 - accuracy: 0.9466 - val_loss: 0.0965 - val_accuracy: 0.9742\n",
      "Epoch 92/100\n",
      "1197/1197 [==============================] - 2s 1ms/step - loss: 0.1910 - accuracy: 0.9422 - val_loss: 0.0869 - val_accuracy: 0.9845\n",
      "Epoch 93/100\n",
      "1197/1197 [==============================] - 2s 1ms/step - loss: 0.1797 - accuracy: 0.9489 - val_loss: 0.0739 - val_accuracy: 0.9794\n",
      "Epoch 94/100\n",
      "1197/1197 [==============================] - 2s 1ms/step - loss: 0.1847 - accuracy: 0.9489 - val_loss: 0.0862 - val_accuracy: 0.9845\n",
      "Epoch 95/100\n",
      "1197/1197 [==============================] - 2s 1ms/step - loss: 0.1814 - accuracy: 0.9482 - val_loss: 0.0835 - val_accuracy: 0.9742\n",
      "Epoch 96/100\n",
      "1197/1197 [==============================] - 2s 1ms/step - loss: 0.1826 - accuracy: 0.9474 - val_loss: 0.0831 - val_accuracy: 0.9742\n",
      "Epoch 97/100\n",
      "1197/1197 [==============================] - 2s 1ms/step - loss: 0.1923 - accuracy: 0.9437 - val_loss: 0.0809 - val_accuracy: 0.9794\n",
      "Epoch 98/100\n",
      "1197/1197 [==============================] - 2s 1ms/step - loss: 0.1697 - accuracy: 0.9518 - val_loss: 0.0743 - val_accuracy: 0.9742\n",
      "Epoch 99/100\n",
      "1197/1197 [==============================] - 2s 1ms/step - loss: 0.1843 - accuracy: 0.9459 - val_loss: 0.0807 - val_accuracy: 0.9794\n",
      "Epoch 100/100\n",
      "1197/1197 [==============================] - 2s 1ms/step - loss: 0.1724 - accuracy: 0.9504 - val_loss: 0.1112 - val_accuracy: 0.9742\n"
     ]
    },
    {
     "data": {
      "text/plain": [
       "<tensorflow.python.keras.callbacks.History at 0x163c7c77bb0>"
      ]
     },
     "execution_count": 15,
     "metadata": {},
     "output_type": "execute_result"
    }
   ],
   "source": [
    "class_weight = {0: 1,1: 1,2: 1,3:1, 4:1}\n",
    "\n",
    "from keras.models import Sequential\n",
    "from keras.layers import Dense, Flatten, Conv2D, MaxPool2D, Dropout\n",
    "from keras.optimizers import Adam\n",
    "\n",
    "model = Sequential()\n",
    "model.add(Dense(100, input_dim=X_train.shape[1], activation = 'relu'))\n",
    "model.add(Dropout(0.3))\n",
    "model.add(Dense(100, activation = 'relu'))\n",
    "model.add(Dropout(0.3))\n",
    "model.add(Dense(10, activation = 'relu'))\n",
    "model.add(Dropout(0.3))\n",
    "model.add(Dense(5, activation = 'softmax'))\n",
    "\n",
    "\n",
    "#sgd = SGD(lr=0.1, decay=1e-6, momentum=0.9, nesterov=True)\n",
    "model.compile('sgd',loss='categorical_crossentropy', metrics=['accuracy'])\n",
    "\n",
    "from sklearn.model_selection import train_test_split\n",
    "X_train, X_test, y_train2, y_test = train_test_split(np.array(x), y_train, test_size = .01, random_state = 42)\n",
    "#from sklearn.utils import shuffle\n",
    "#X_train, y_train= shuffle(X_train, y_train)\n",
    "model.fit(X_train, y_train2, epochs=100, batch_size=16,  validation_data =(X_test, y_test))#class_weight=class_weight)  validation_split=.1)#  "
   ]
  },
  {
   "cell_type": "code",
   "execution_count": 16,
   "metadata": {},
   "outputs": [
    {
     "data": {
      "text/plain": [
       "((19150, 1280), (194, 1280), (19344, 5), (194, 5))"
      ]
     },
     "execution_count": 16,
     "metadata": {},
     "output_type": "execute_result"
    }
   ],
   "source": [
    "X_train.shape, X_test.shape, y_train.shape, y_test.shape"
   ]
  },
  {
   "cell_type": "code",
   "execution_count": null,
   "metadata": {},
   "outputs": [],
   "source": []
  },
  {
   "cell_type": "code",
   "execution_count": null,
   "metadata": {},
   "outputs": [],
   "source": []
  },
  {
   "cell_type": "code",
   "execution_count": null,
   "metadata": {},
   "outputs": [],
   "source": []
  },
  {
   "cell_type": "code",
   "execution_count": 17,
   "metadata": {},
   "outputs": [],
   "source": [
    "train_nan=np.isnan(X_train).sum()\n",
    "if train_nan!=0: X_train[np.isnan(X_train)] = 0\n",
    "    \n",
    "test_nan=np.isnan(X_test).sum()\n",
    "if test_nan!=0: X_test[np.isnan(X_test)] = 0\n",
    "\n",
    "\n",
    "#clf.fit(X_train, y_train)\n",
    "\n",
    "\n",
    "#predictions=clf.predict(X_test)\n",
    "predictions=model.predict(X_test)\n"
   ]
  },
  {
   "cell_type": "code",
   "execution_count": 18,
   "metadata": {},
   "outputs": [
    {
     "name": "stdout",
     "output_type": "stream",
     "text": [
      "0.9742268041237113\n"
     ]
    }
   ],
   "source": [
    "predictions=predictions*[1,1,1,1,1]\n",
    "print(accuracy_score(y_test.argmax(axis=1), predictions.argmax(axis=1)))"
   ]
  },
  {
   "cell_type": "code",
   "execution_count": 19,
   "metadata": {},
   "outputs": [
    {
     "name": "stdout",
     "output_type": "stream",
     "text": [
      "              precision    recall  f1-score   support\n",
      "\n",
      "       lymph       0.99      0.99      0.99        92\n",
      "        neut       0.99      0.98      0.98        91\n",
      "        BASO       0.00      0.00      0.00         1\n",
      "        EOSI       0.62      1.00      0.77         5\n",
      "        MONO       1.00      0.80      0.89         5\n",
      "\n",
      "    accuracy                           0.97       194\n",
      "   macro avg       0.72      0.75      0.73       194\n",
      "weighted avg       0.97      0.97      0.97       194\n",
      "\n"
     ]
    },
    {
     "name": "stderr",
     "output_type": "stream",
     "text": [
      "C:\\Users\\DELL\\anaconda3\\lib\\site-packages\\sklearn\\metrics\\_classification.py:1221: UndefinedMetricWarning: Precision and F-score are ill-defined and being set to 0.0 in labels with no predicted samples. Use `zero_division` parameter to control this behavior.\n",
      "  _warn_prf(average, modifier, msg_start, len(result))\n"
     ]
    }
   ],
   "source": [
    "from sklearn.metrics import classification_report\n",
    "print(classification_report(y_test.argmax(axis=1), predictions.argmax(axis=1) , target_names=[\"lymph\",\"neut\",\"BASO\",\"EOSI\",\"MONO\"]))"
   ]
  },
  {
   "cell_type": "code",
   "execution_count": 20,
   "metadata": {},
   "outputs": [
    {
     "data": {
      "text/plain": [
       "array([[91,  1,  0,  0,  0],\n",
       "       [ 0, 89,  0,  2,  0],\n",
       "       [ 0,  0,  0,  1,  0],\n",
       "       [ 0,  0,  0,  5,  0],\n",
       "       [ 1,  0,  0,  0,  4]], dtype=int64)"
      ]
     },
     "execution_count": 20,
     "metadata": {},
     "output_type": "execute_result"
    }
   ],
   "source": [
    "from sklearn.metrics import confusion_matrix\n",
    "confusion_matrix(y_test.argmax(axis=1), predictions.argmax(axis=1))"
   ]
  },
  {
   "cell_type": "code",
   "execution_count": 56,
   "metadata": {},
   "outputs": [
    {
     "data": {
      "image/png": "[encoded data removed]",
      "text/plain": [
       "<Figure size 432x288 with 2 Axes>"
      ]
     },
     "metadata": {
      "needs_background": "light"
     },
     "output_type": "display_data"
    }
   ],
   "source": [
    "import itertools\n",
    "\n",
    "from sklearn.metrics import plot_confusion_matrix\n",
    "\n",
    "\n",
    "\n",
    "\n",
    "def plot_confusion_matrix(cm, classes,\n",
    "                          normalize=False,\n",
    "                          title='Confusion matrix',\n",
    "                          cmap=plt.cm.cool):\n",
    "    \"\"\"\n",
    "    This function prints and plots the confusion matrix.\n",
    "    Normalization can be applied by setting `normalize=True`.\n",
    "    \"\"\"\n",
    "    plt.imshow(cm, interpolation='nearest', cmap=cmap)\n",
    "    plt.title(title)\n",
    "    plt.colorbar()\n",
    "    tick_marks = np.arange(len(classes))\n",
    "    plt.xticks(tick_marks, classes, rotation=45)\n",
    "    plt.yticks(tick_marks, classes)\n",
    "\n",
    "    if normalize:\n",
    "        cm = cm.astype('float') / cm.sum(axis=1)[:, np.newaxis]\n",
    "\n",
    "    thresh = cm.max() / 2.\n",
    "    for i, j in itertools.product(range(cm.shape[0]), range(cm.shape[1])):\n",
    "        plt.text(j, i, cm[i, j],\n",
    "                 horizontalalignment=\"center\",\n",
    "                 color=\"white\" if cm[i, j] > thresh else \"black\")\n",
    "\n",
    "    plt.tight_layout()\n",
    "    plt.ylabel('True label')\n",
    "    plt.xlabel('Predicted label')\n",
    "    \n",
    "    # Predict the values from the validation dataset\n",
    "Y_pred = model.predict(X_test)\n",
    "# Convert predictions classes to one hot vectors \n",
    "#Y_pred_classes = np.argmax(Y_pred,axis = 1) \n",
    "# Convert validation observations to one hot vectors\n",
    " \n",
    "# compute the confusion matrix\n",
    "confusion_mtx = confusion_matrix(y_test.argmax(axis=1), Y_pred.argmax(axis=1)) \n",
    "# plot the confusion matrix\n",
    "plot_confusion_matrix(confusion_mtx, classes = [\"lymph\",\"neut\",\"BASO\",\"EOSI\",\"MONO\"])#range(5)\n",
    "\n",
    "\n"
   ]
  },
  {
   "cell_type": "code",
   "execution_count": 57,
   "metadata": {},
   "outputs": [],
   "source": [
    "import itertools\n",
    "\n",
    "from sklearn.metrics import plot_confusion_matrix\n",
    "\n",
    "\n",
    "\n",
    "\n",
    "def plot_confusion_matrix(cm, classes,\n",
    "                          normalize=False,\n",
    "                          title='Confusion matrix',\n",
    "                          cmap=plt.cm.cool):\n",
    "    \"\"\"\n",
    "    This function prints and plots the confusion matrix.\n",
    "    Normalization can be applied by setting `normalize=True`.\n",
    "    \"\"\"\n",
    "    plt.imshow(cm, interpolation='nearest', cmap=cmap)\n",
    "    plt.title(title)\n",
    "    plt.colorbar()\n",
    "    tick_marks = np.arange(len(classes))\n",
    "    plt.xticks(tick_marks, classes, rotation=45)\n",
    "    plt.yticks(tick_marks, classes)\n",
    "\n",
    "    if normalize:\n",
    "        cm = cm.astype('float') / cm.sum(axis=1)[:, np.newaxis]\n",
    "\n",
    "    thresh = cm.max() / 2.\n",
    "    for i, j in itertools.product(range(cm.shape[0]), range(cm.shape[1])):\n",
    "        plt.text(j, i, cm[i, j],\n",
    "                 horizontalalignment=\"center\",\n",
    "                 color=\"white\" if cm[i, j] > thresh else \"black\")\n",
    "\n",
    "    plt.tight_layout()\n",
    "    plt.ylabel('True label')\n",
    "    plt.xlabel('Predicted label')\n",
    "    \n",
    "def con_mat(Threshold=1):\n",
    "    predictions = model.predict_proba(X_test)*np.array([1,1,1,1,Threshold])\n",
    "    predictions =predictions.argmax(axis=1)\n",
    "    print(y_test[0])\n",
    "    confusion_mtx = confusion_matrix(y_test.argmax(axis=1) , predictions)\n",
    "    print(classification_report(y_test.argmax(axis=1), predictions , target_names=[\"lymph\",\"neut\",\"BASO\",\"EOSI\",\"MONO\"]))\n",
    "    plot_confusion_matrix(confusion_mtx, classes = [\"lymph\",\"neut\",\"BASO\",\"EOSI\",\"MONO\"])#range(5)\n"
   ]
  },
  {
   "cell_type": "code",
   "execution_count": 58,
   "metadata": {},
   "outputs": [
    {
     "data": {
      "application/vnd.jupyter.widget-view+json": {
       "model_id": "ecf4f4e7225c4acf99b10775936d4b4c",
       "version_major": 2,
       "version_minor": 0
      },
      "text/plain": [
       "interactive(children=(FloatSlider(value=5.0, description='Threshold', max=10.0), Output()), _dom_classes=('wid…"
      ]
     },
     "metadata": {},
     "output_type": "display_data"
    }
   ],
   "source": [
    "\n",
    "from ipywidgets import interactive, FloatSlider\n",
    "\n",
    "interactive(lambda Threshold: con_mat(Threshold), Threshold=(0.0,10,.1))"
   ]
  },
  {
   "cell_type": "code",
   "execution_count": 21,
   "metadata": {},
   "outputs": [],
   "source": [
    "from keras.models import load_model\n",
    "\n",
    "model.save('model_distribution5_1.h5')"
   ]
  },
  {
   "cell_type": "code",
   "execution_count": null,
   "metadata": {},
   "outputs": [],
   "source": []
  },
  {
   "cell_type": "code",
   "execution_count": null,
   "metadata": {},
   "outputs": [],
   "source": []
  }
 ],
 "metadata": {
  "kernelspec": {
   "display_name": "Python 3",
   "language": "python",
   "name": "python3"
  },
  "language_info": {
   "codemirror_mode": {
    "name": "ipython",
    "version": 3
   },
   "file_extension": ".py",
   "mimetype": "text/x-python",
   "name": "python",
   "nbconvert_exporter": "python",
   "pygments_lexer": "ipython3",
   "version": "3.8.5"
  }
 },
 "nbformat": 4,
 "nbformat_minor": 5
}
