{
 "cells": [
  {
   "cell_type": "code",
   "execution_count": 34,
   "metadata": {
    "scrolled": true
   },
   "outputs": [],
   "source": [
    "import cv2\n",
    "import numpy as np\n",
    "import matplotlib.pyplot as plt\n",
    "\n",
    "#from AI.Features.Segmenting import deep_segment\n",
    "#from AI.Features.SegmentingV2 import deep_segment\n",
    "#from AI.Features.SegmentingV8 import deep_segment\n",
    "\n",
    "#from AI.Features.Segmenting import restore_mask\n",
    "#from AI.Features.SegmentingV8 import restore_mask\n",
    "\n",
    "from skimage import measure\n",
    "import glob\n",
    "import pandas as pd \n",
    "\n",
    "from sklearn.decomposition import PCA\n",
    "from sklearn.preprocessing import StandardScaler\n",
    "from sklearn.discriminant_analysis import LinearDiscriminantAnalysis\n",
    "\n",
    "from sklearn import tree\n",
    "from sklearn.neighbors import KNeighborsClassifier\n",
    "from sklearn.metrics import accuracy_score\n",
    "from sklearn.model_selection import KFold\n",
    "from sklearn.model_selection import RepeatedKFold\n",
    "from sklearn import metrics\n",
    "from sklearn.metrics import accuracy_score,f1_score\n",
    "from sklearn.neural_network import MLPClassifier\n",
    "from sklearn.neighbors import KNeighborsClassifier\n",
    "from sklearn.svm import SVC\n",
    "from sklearn.gaussian_process import GaussianProcessClassifier\n",
    "from sklearn.gaussian_process.kernels import RBF\n",
    "from sklearn.tree import DecisionTreeClassifier\n",
    "from sklearn.ensemble import RandomForestClassifier, AdaBoostClassifier\n",
    "from sklearn.naive_bayes import GaussianNB\n",
    "from sklearn.discriminant_analysis import QuadraticDiscriminantAnalysis\n",
    "from numpy import expand_dims\n",
    "from keras.preprocessing.image import load_img\n",
    "from keras.preprocessing.image import img_to_array\n",
    "from keras.preprocessing.image import ImageDataGenerator\n",
    "from matplotlib import pyplot\n",
    "from skimage import feature\n",
    "import os"
   ]
  },
  {
   "cell_type": "code",
   "execution_count": 2,
   "metadata": {},
   "outputs": [],
   "source": [
    "################################ Augmentation Function ##################################\n",
    "\n",
    "def augm(lst, nm=5):\n",
    "    # prepare iterator\n",
    "    ls_gen=[]\n",
    "    for arr in lst:\n",
    "        data = arr\n",
    "        # expand dimension to one sample\n",
    "        samples = expand_dims(data, 0)\n",
    "        # create image data augmentation generator\n",
    "        datagen = ImageDataGenerator(zoom_range=[0.5,1.0],\n",
    "                                     brightness_range=[0.8,1],\n",
    "                                     #rotation_range=50,\n",
    "                                     width_shift_range=[0,.1],\n",
    "                                     height_shift_range=[0,.1],\n",
    "                                    #vertical_flip =True,\n",
    "                                    #horizontal_flip=True\n",
    "                                    ) \n",
    "        it = datagen.flow(samples, batch_size=1)\n",
    "        # generate samples and plot\n",
    "\n",
    "        for i in range(nm):\n",
    "            # define subplot\n",
    "            #pyplot.subplot(330 + 1 + i)\n",
    "            # generate batch of images\n",
    "            batch = it.next()\n",
    "            # convert to unsigned integers for viewing\n",
    "            image = batch[0].astype('uint8')\n",
    "            ls_gen.append(image)\n",
    "    return lst+ls_gen"
   ]
  },
  {
   "cell_type": "code",
   "execution_count": 3,
   "metadata": {},
   "outputs": [],
   "source": [
    "def get_nuc_and_cyt(segmented):\n",
    "    nuc = (segmented==2).astype('uint8')\n",
    "    cyt = (segmented==1).astype('uint8')\n",
    "    #cyt,nuc=restore_mask(segmented)\n",
    "    return cyt,nuc\n",
    "     \n",
    "def mask_cell(img):\n",
    "    im_mask=deep_segment(img)\n",
    "    #print(im_mask.sum())\n",
    "    #if im_mask.sum()<1000:\n",
    "    #    print(\"No Cell detected\")\n",
    "    #    return img\n",
    "    cyt,nuc= get_nuc_and_cyt(im_mask)\n",
    "    if nuc.sum()!=0:\n",
    "        #reg=measure.regionprops(cyt)\n",
    "        tb=measure.regionprops(nuc)[0]['bbox']\n",
    "    else:\n",
    "        print(\"No cell detected...........\")\n",
    "        tb=(0,0,img.shape[0]-1,img.shape[1]-1)\n",
    "    #img=cv2.blur(img,(3,3))                #++\n",
    "    #img=cv2.medianBlur(img,15)\n",
    "     \n",
    "    im=img.copy()\n",
    "    rows=im_mask.shape[0]\n",
    "    columns=im_mask.shape[1]\n",
    "    for i in range(rows):\n",
    "        for j in range(columns):\n",
    "            if im_mask[i,j]==0:\n",
    "                im[i,j,:]=0\n",
    "    im=im[tb[0]:tb[2],tb[1]:tb[3]]  #to crop it around box\n",
    "    #im=cv2.resize(im,(100,100))\n",
    "    return im\n"
   ]
  },
  {
   "cell_type": "code",
   "execution_count": 4,
   "metadata": {},
   "outputs": [],
   "source": [
    "######################################### Deep Feature Extractor #################################\n",
    "\n",
    "\n",
    "import tensorflow as tf\n",
    "import tensorflow_hub as hub\n",
    "import tensorflow_datasets as tfds\n",
    "import time\n",
    "from PIL import Image\n",
    "import requests\n",
    "from io import BytesIO\n",
    "import matplotlib.pyplot as plt\n",
    "import numpy as np\n",
    "import os\n",
    "import pathlib\n",
    "import cv2\n",
    "\n",
    "# Load model into KerasLayer\n",
    "#model_url = \"https://tfhub.dev/google/bit/m-r50x1/1\"\n",
    "#model_url = \"https://tfhub.dev/google/imagenet/efficientnet_v2_imagenet21k_s/feature_vector/2\" #.99\n",
    "#model_url = \"https://tfhub.dev/google/imagenet/resnet_v2_152/feature_vector/5\"          #97\n",
    "model_url = \".\\imagenet_efficientnet_v2_imagenet21k_s_feature_vector_2\"\n",
    "module = hub.KerasLayer(model_url)\n",
    "\n",
    "def deepfeature(image):\n",
    "    image = np.array(image)\n",
    "    if len(image.shape)==2:\n",
    "        backtorgb = cv2.cvtColor(np.array(image, dtype=np.uint8),cv2.COLOR_GRAY2RGB)\n",
    "        image=backtorgb\n",
    "    image=cv2.resize(image,(384,384))\n",
    "    # reshape into shape [batch_size, height, width, num_channels]\n",
    "    img_reshaped = tf.reshape(image, [1, image.shape[0], image.shape[1], image.shape[2]])\n",
    "    # Use `convert_image_dtype` to convert to floats in the [0,1] range.\n",
    "    image = tf.image.convert_image_dtype(img_reshaped, tf.float32)\n",
    "    logits=module(image)\n",
    "    return np.array(logits)[0]\n"
   ]
  },
  {
   "cell_type": "code",
   "execution_count": 5,
   "metadata": {},
   "outputs": [],
   "source": [
    "\n",
    "def features(c, f):\n",
    "    if f==1:\n",
    "        return all_together(c) \n",
    "    elif f==2:\n",
    "        return obj.describe(mask_cell(c))\n",
    "    elif f==3:\n",
    "        return LBP_and_extent(c)\n",
    "    elif f==4:\n",
    "        return vggface3(c)\n",
    "    elif f==5:\n",
    "        return SOE_and_extent(c)\n",
    "    elif f==6:\n",
    "        return SOE_LBP_and_extent(c)\n",
    "    elif f==7:\n",
    "        return deepfeature(c)\n",
    "    elif f==8:\n",
    "        return SOE(c)\n",
    "    elif f==9:\n",
    "        return shape_features(c)\n",
    "    elif f==10:\n",
    "        return shapef_and_SOE(c)    \n",
    "    elif f==11:\n",
    "        return shapef_and_SOE_extent(c)    \n",
    "    elif f==12:\n",
    "        return shapef_and_SOE_extent_LBP(c)  \n",
    "    elif f==13:\n",
    "        return shapef_extent(c)  \n",
    "    elif f==14:\n",
    "        return GLCM(mask_cell(c))\n",
    "    elif f==15:\n",
    "        return shapef_GLCM(c)\n",
    "    elif f==16:\n",
    "        return shapef_GLCM_SOE(c)  \n",
    "    elif f==17:\n",
    "        return HOG_im(c)[0]    \n",
    "    elif f==18:\n",
    "        return shapef_GLCM_SOE_HOG(c)\n",
    "    elif f==19:\n",
    "        #PCA\n",
    "        c=cv2.resize(mask_cell(c),(100,100))\n",
    "        return c.reshape(-1)  \n",
    "    elif f==20:\n",
    "        #lda\n",
    "        c=cv2.resize(mask_cell(c),(100,100))\n",
    "        return c.reshape(-1)"
   ]
  },
  {
   "cell_type": "code",
   "execution_count": 6,
   "metadata": {},
   "outputs": [],
   "source": [
    "\n",
    "def alldata(cls,ft):\n",
    "\n",
    "    if cls==2:\n",
    "        lymph_extent = [ features(c, ft) for c in lymph]\n",
    "        neut_extent = [features(c, ft) for c in neut]\n",
    "        x = np.array(lymph_extent + neut_extent)#\n",
    "        if ft==1: x=x.reshape(-1, 1)\n",
    "        y = len(lymph_extent)*[0] + len(neut_extent)*[1]\n",
    "\n",
    "    \n",
    "    elif cls==3:\n",
    "        neut_extent = [features(c, ft) for c in neut]\n",
    "        lymph_extent = [features(c, ft) for c in lymph]\n",
    "        MONO_extent = [ features(c, ft)  for c  in MONO]\n",
    "        x = np.array(lymph_extent + neut_extent+ MONO_extent)#.reshape(-1, 1)\n",
    "        if ft==1: x=x.reshape(-1, 1)\n",
    "        y = len(lymph_extent)*[0] + len(neut_extent)*[1]+len(MONO_extent)*[2]\n",
    "        \n",
    "    elif cls==5:\n",
    "        neut_extent = [features(c, ft)  for c  in neut]\n",
    "        lymph_extent = [features(c, ft)  for c  in lymph]\n",
    "        BASO_extent = [ features(c, ft)  for c  in BASO]\n",
    "        EOSI_extent = [ features(c, ft)  for c in EOSI]\n",
    "        MONO_extent = [ features(c, ft)  for c  in MONO]\n",
    "        x = np.array(lymph_extent + neut_extent+ BASO_extent+ EOSI_extent+ MONO_extent)#.reshape(-1, 1)\n",
    "        if ft==1: x=x.reshape(-1, 1)\n",
    "        y = len(lymph_extent)*[0] + len(neut_extent)*[1]+len(BASO_extent)*[2]+len(EOSI_extent)*[3]+len(MONO_extent)*[4]\n",
    "        \n",
    "    return x,y"
   ]
  },
  {
   "cell_type": "code",
   "execution_count": 47,
   "metadata": {},
   "outputs": [
    {
     "name": "stdout",
     "output_type": "stream",
     "text": [
      "lymph= 6859\n",
      "neut= 7709\n",
      "MONO= 514\n",
      "BASO= 103\n",
      "EOSI= 685\n",
      "[6859, 7709, 514, 103, 685]\n",
      "15870\n"
     ]
    },
    {
     "data": {
      "image/png": "[encoded data removed]",
      "text/plain": [
       "<Figure size 432x288 with 1 Axes>"
      ]
     },
     "metadata": {
      "needs_background": "light"
     },
     "output_type": "display_data"
    },
    {
     "data": {
      "image/png": "[encoded data removed]",
      "text/plain": [
       "<Figure size 504x504 with 1 Axes>"
      ]
     },
     "metadata": {},
     "output_type": "display_data"
    }
   ],
   "source": [
    "####################### Load Traing Images ###################################################\n",
    "\n",
    "path1='./samples/Experiment2/Training/*/*/'    \n",
    "lymph = [cv2.imread(f)[:,:,::-1] for f in glob.glob(path1+'Lymphocyte/*.png') if os.path.getsize(f)>200]\n",
    "neut =  [cv2.imread(f)[:,:,::-1] for f in glob.glob(path1+'Neutrophil/*.png') if os.path.getsize(f)>200]\n",
    "BASO =  [cv2.imread(f)[:,:,::-1] for f in glob.glob(path1+'Basophil/*.png') if os.path.getsize(f)>200]\n",
    "EOSI =  [cv2.imread(f)[:,:,::-1] for f in glob.glob(path1+'Eosinophil/*.png') if os.path.getsize(f)>200]\n",
    "MONO =  [cv2.imread(f)[:,:,::-1] for f in glob.glob(path1+'Monocyte/*.png')if os.path.getsize(f)>200]\n",
    "\n",
    "#lymph=lymph[3000:]\n",
    "#neut=neut[-600:]\n",
    "#GAN\n",
    "#path2='./samples/Monocyte_images/'\n",
    "#MONO_GAN=[cv2.imread(f)[:,:,::-1] for f in glob.glob(path2+'Monocyte/*.jpg')if os.path.getsize(f)>200]\n",
    "#MONO=MONO+MONO_GAN\n",
    "\n",
    "\n",
    "#path3='./samples/Animals/horse/*/'    \n",
    "#MONO_horse =  [cv2.imread(f)[:,:,::-1] for f in glob.glob(path3+'Monocyte/*.png')if os.path.getsize(f)>200]\n",
    "#MONO=MONO+MONO_horse\n",
    "\n",
    "\n",
    "#path4='./samples/Animals/cow/*/'    \n",
    "#MONO_cow =  [cv2.imread(f)[:,:,::-1] for f in glob.glob(path4+'Monocyte/*.png')if os.path.getsize(f)>200]\n",
    "#MONO=MONO+MONO_cow\n",
    "\n",
    "#MONO=augm(MONO, nm=3)\n",
    "#lymph=lymph[2000:]\n",
    "\n",
    "ln=[len(lymph),len(neut),len(MONO),len(BASO),len(EOSI)]\n",
    "print('lymph=',len(lymph))\n",
    "print('neut=',len(neut))\n",
    "print('MONO=',len(MONO))\n",
    "print('BASO=',len(BASO))\n",
    "print('EOSI=',len(EOSI))\n",
    "\n",
    "print(ln)\n",
    "print(sum(ln))\n",
    "ls5=len(lymph)*[0] + len(neut)*[1]+len(MONO)*[2]+len(BASO)*[3]+len(EOSI)*[4]\n",
    "p=plt.hist(ls5,10)\n",
    "plt.show()\n",
    "\n",
    "y = np.array(ln)\n",
    "mylabels =[\"lymph\",\"neut\",\"MONO\",\"BASO\",\"EOSI\"] \n",
    "plt.figure(figsize=(7, 7))\n",
    "plt.pie(y, labels = mylabels, startangle = 10)\n",
    "plt.legend()\n",
    "plt.show()\n"
   ]
  },
  {
   "cell_type": "code",
   "execution_count": 48,
   "metadata": {},
   "outputs": [],
   "source": [
    "############################ Extract The Deep Features from Training Set #######################\n",
    "\n",
    "cl=5    # The number of cell types 2,3 or 5\n",
    "fe=7    # The type of the features extractor\n",
    "x,y=alldata(cl,fe)\n",
    "X_train=x\n",
    "y_train=y\n"
   ]
  },
  {
   "cell_type": "code",
   "execution_count": 49,
   "metadata": {},
   "outputs": [
    {
     "name": "stdout",
     "output_type": "stream",
     "text": [
      "lymph= 2583\n",
      "neut= 3878\n",
      "MONO= 352\n",
      "BASO= 34\n",
      "EOSI= 130\n",
      "[2583, 3878, 352, 34, 130]\n",
      "6977\n"
     ]
    },
    {
     "data": {
      "image/png": "[encoded data removed]",
      "text/plain": [
       "<Figure size 432x288 with 1 Axes>"
      ]
     },
     "metadata": {
      "needs_background": "light"
     },
     "output_type": "display_data"
    },
    {
     "data": {
      "image/png": "[encoded data removed]",
      "text/plain": [
       "<Figure size 504x504 with 1 Axes>"
      ]
     },
     "metadata": {},
     "output_type": "display_data"
    }
   ],
   "source": [
    "############################ Testing Images #############################################\n",
    "\n",
    "path1='./samples/Experiment2/Experiment/*/'    \n",
    "lymph = [cv2.imread(f)[:,:,::-1] for f in glob.glob(path1+'Lymphocyte/*.png') if os.path.getsize(f)>200]\n",
    "neut =  [cv2.imread(f)[:,:,::-1] for f in glob.glob(path1+'Neutrophil/*.png') if os.path.getsize(f)>200]\n",
    "BASO =  [cv2.imread(f)[:,:,::-1] for f in glob.glob(path1+'Basophil/*.png') if os.path.getsize(f)>200]\n",
    "EOSI =  [cv2.imread(f)[:,:,::-1] for f in glob.glob(path1+'Eosinophil/*.png') if os.path.getsize(f)>200]\n",
    "MONO =  [cv2.imread(f)[:,:,::-1] for f in glob.glob(path1+'Monocyte/*.png')if os.path.getsize(f)>200]\n",
    "\n",
    "\n",
    "ln=[len(lymph),len(neut),len(MONO),len(BASO),len(EOSI)]\n",
    " \n",
    "print('lymph=',len(lymph))\n",
    "print('neut=',len(neut))\n",
    "print('MONO=',len(MONO))\n",
    "print('BASO=',len(BASO))\n",
    "print('EOSI=',len(EOSI))\n",
    "\n",
    "print(ln)\n",
    "print(sum(ln))\n",
    "ls5=len(lymph)*[0] + len(neut)*[1]+len(MONO)*[2]+len(BASO)*[3]+len(EOSI)*[4]\n",
    " \n",
    "p=plt.hist(ls5,10)\n",
    "plt.show()\n",
    "\n",
    "y = np.array(ln)\n",
    "mylabels =[\"lymph\",\"neut\",\"MONO\",\"BASO\",\"EOSI\"] \n",
    "plt.figure(figsize=(7, 7))\n",
    "plt.pie(y, labels = mylabels, startangle = 10)\n",
    "plt.legend()\n",
    "plt.show()\n",
    " "
   ]
  },
  {
   "cell_type": "code",
   "execution_count": 50,
   "metadata": {},
   "outputs": [],
   "source": [
    "############################ Extract The Deep Features from testing Set #######################\n",
    "\n",
    "x2,y2=alldata(cl,fe)\n",
    "X_test=x2\n",
    "y_test=y2"
   ]
  },
  {
   "cell_type": "code",
   "execution_count": 51,
   "metadata": {},
   "outputs": [],
   "source": [
    "dic={0:[1,0,0,0,0],1:[0,1,0,0,0],2:[0,0,1,0,0],3:[0,0,0,1,0],4:[0,0,0,0,1]}\n",
    "y_train=np.array([dic[x]  for x in y_train] )\n",
    "\n",
    "dic={0:[1,0,0,0,0],1:[0,1,0,0,0],2:[0,0,1,0,0],3:[0,0,0,1,0],4:[0,0,0,0,1]}\n",
    "y_test=np.array([dic[x]  for x in y_test] )"
   ]
  },
  {
   "cell_type": "code",
   "execution_count": null,
   "metadata": {},
   "outputs": [],
   "source": [
    "#################################### Deep Front end classification ##################################\n",
    "\n",
    "class_weight = {0: 1,1: 1,2: 1,3:1, 4:1}\n",
    "\n",
    "from keras.models import Sequential\n",
    "from keras.layers import Dense, Flatten, Conv2D, MaxPool2D, Dropout\n",
    "from keras.optimizers import Adam\n",
    "from keras.optimizers import SGD\n",
    "\n",
    "model = Sequential()\n",
    "model.add(Dense(100, input_dim=X_train.shape[1], activation = 'relu'))\n",
    "model.add(Dropout(0.3))\n",
    "model.add(Dense(50, activation = 'relu'))#sigmoid\n",
    "model.add(Dropout(0.5))\n",
    "model.add(Dense(10, activation = 'relu'))\n",
    "model.add(Dropout(0.3))\n",
    "model.add(Dense(5, activation = 'softmax'))\n",
    "\n",
    "\n",
    "#sgd = SGD(lr=0.1, decay=1e-6, momentum=0.9, nesterov=True)\n",
    "model.compile('sgd',loss='categorical_crossentropy',metrics=['accuracy'])\n",
    "\n",
    "model.fit(X_train, y_train, epochs=100, batch_size=16,  validation_data = (X_test, y_test),class_weight=class_weight)"
   ]
  },
  {
   "cell_type": "code",
   "execution_count": 60,
   "metadata": {},
   "outputs": [],
   "source": [
    "train_nan=np.isnan(X_train).sum()\n",
    "if train_nan!=0: X_train[np.isnan(X_train)] = 0\n",
    "    \n",
    "test_nan=np.isnan(X_test).sum()\n",
    "if test_nan!=0: X_test[np.isnan(X_test)] = 0\n",
    "\n",
    "predictions=model.predict(X_test)\n"
   ]
  },
  {
   "cell_type": "code",
   "execution_count": 61,
   "metadata": {},
   "outputs": [
    {
     "name": "stdout",
     "output_type": "stream",
     "text": [
      "0.9399455353303712\n"
     ]
    }
   ],
   "source": [
    "predictions=predictions*[1,1,1,1,1]\n",
    "print(accuracy_score(y_test.argmax(axis=1), predictions.argmax(axis=1)))"
   ]
  },
  {
   "cell_type": "code",
   "execution_count": 62,
   "metadata": {},
   "outputs": [
    {
     "name": "stdout",
     "output_type": "stream",
     "text": [
      "              precision    recall  f1-score   support\n",
      "\n",
      "       lymph       0.94      0.94      0.94      2583\n",
      "        neut       0.99      0.98      0.98      3878\n",
      "        BASO       0.00      0.00      0.00        34\n",
      "        EOSI       0.59      0.82      0.68       130\n",
      "        MONO       0.60      0.61      0.60       352\n",
      "\n",
      "    accuracy                           0.94      6977\n",
      "   macro avg       0.62      0.67      0.64      6977\n",
      "weighted avg       0.94      0.94      0.94      6977\n",
      "\n"
     ]
    }
   ],
   "source": [
    "from sklearn.metrics import classification_report\n",
    "print(classification_report(y_test.argmax(axis=1), predictions.argmax(axis=1) , target_names=[\"lymph\",\"neut\",\"BASO\",\"EOSI\",\"MONO\"]))"
   ]
  },
  {
   "cell_type": "code",
   "execution_count": 63,
   "metadata": {},
   "outputs": [
    {
     "data": {
      "text/plain": [
       "array([[2425,   22,    0,   25,  111],\n",
       "       [  21, 3814,    0,   26,   17],\n",
       "       [   7,    1,    0,   16,   10],\n",
       "       [   9,   13,    0,  106,    2],\n",
       "       [ 113,   18,    0,    8,  213]], dtype=int64)"
      ]
     },
     "execution_count": 63,
     "metadata": {},
     "output_type": "execute_result"
    }
   ],
   "source": [
    "from sklearn.metrics import confusion_matrix\n",
    "confusion_matrix(y_test.argmax(axis=1), predictions.argmax(axis=1))"
   ]
  },
  {
   "cell_type": "code",
   "execution_count": 64,
   "metadata": {},
   "outputs": [
    {
     "data": {
      "image/png": "[encoded data removed]",
      "text/plain": [
       "<Figure size 432x288 with 2 Axes>"
      ]
     },
     "metadata": {
      "needs_background": "light"
     },
     "output_type": "display_data"
    }
   ],
   "source": [
    "############################## plot the confusion matrix ##########################################\n",
    "import itertools\n",
    "\n",
    "from sklearn.metrics import plot_confusion_matrix\n",
    "\n",
    "def plot_confusion_matrix(cm, classes,\n",
    "                          normalize=False,\n",
    "                          title='Confusion matrix',\n",
    "                          cmap=plt.cm.cool):\n",
    "    \"\"\"\n",
    "    This function prints and plots the confusion matrix.\n",
    "    Normalization can be applied by setting `normalize=True`.\n",
    "    \"\"\"\n",
    "    plt.imshow(cm, interpolation='nearest', cmap=cmap)\n",
    "    plt.title(title)\n",
    "    plt.colorbar()\n",
    "    tick_marks = np.arange(len(classes))\n",
    "    plt.xticks(tick_marks, classes, rotation=45)\n",
    "    plt.yticks(tick_marks, classes)\n",
    "\n",
    "    if normalize:\n",
    "        cm = cm.astype('float') / cm.sum(axis=1)[:, np.newaxis]\n",
    "\n",
    "    thresh = cm.max() / 2.\n",
    "    for i, j in itertools.product(range(cm.shape[0]), range(cm.shape[1])):\n",
    "        plt.text(j, i, cm[i, j],\n",
    "                 horizontalalignment=\"center\",\n",
    "                 color=\"white\" if cm[i, j] > thresh else \"black\")\n",
    "\n",
    "    plt.tight_layout()\n",
    "    plt.ylabel('True label')\n",
    "    plt.xlabel('Predicted label')\n",
    "    \n",
    "    # Predict the values from the validation dataset\n",
    "Y_pred = model.predict(X_test)\n",
    "\n",
    "confusion_mtx = confusion_matrix(y_test.argmax(axis=1), Y_pred.argmax(axis=1)) \n",
    "# plot the confusion matrix\n",
    "plot_confusion_matrix(confusion_mtx, classes = [\"lymph\",\"neut\",\"BASO\",\"EOSI\",\"MONO\"])#range(5)\n",
    "\n",
    "\n"
   ]
  },
  {
   "cell_type": "code",
   "execution_count": 58,
   "metadata": {},
   "outputs": [],
   "source": [
    "from keras.models import load_model\n",
    "\n",
    "model.save('my_model_for_seperation4.h5')  # creates a HDF5 file 'my_model.h5'"
   ]
  },
  {
   "cell_type": "code",
   "execution_count": 21,
   "metadata": {},
   "outputs": [],
   "source": [
    "#model2 = load_model('my_model.h5')"
   ]
  },
  {
   "cell_type": "code",
   "execution_count": 18,
   "metadata": {},
   "outputs": [
    {
     "name": "stdout",
     "output_type": "stream",
     "text": [
      "INFO:tensorflow:Assets written to: path/to/location\\assets\n"
     ]
    }
   ],
   "source": [
    "from tensorflow import keras\n",
    "#model.save('path/to/location')\n",
    "\n",
    "\n"
   ]
  }
 ],
 "metadata": {
  "kernelspec": {
   "display_name": "Python 3",
   "language": "python",
   "name": "python3"
  },
  "language_info": {
   "codemirror_mode": {
    "name": "ipython",
    "version": 3
   },
   "file_extension": ".py",
   "mimetype": "text/x-python",
   "name": "python",
   "nbconvert_exporter": "python",
   "pygments_lexer": "ipython3",
   "version": "3.8.5"
  }
 },
 "nbformat": 4,
 "nbformat_minor": 5
}
